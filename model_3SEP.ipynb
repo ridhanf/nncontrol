{
 "cells": [
  {
   "cell_type": "markdown",
   "metadata": {},
   "source": [
    "# Rancang Bangun Pengendali Otomatis Lingkungan Termal Berbasis Jaringan Saraf Tiruan"
   ]
  },
  {
   "cell_type": "markdown",
   "metadata": {},
   "source": [
    "### Program Kecerdasan Buatan untuk membentuk model jaringan saraf tiruan dalam memenuhi Tugas Akhir program studi Teknik Fisika.\n",
    "### Data di Bulan Maret 2019"
   ]
  },
  {
   "cell_type": "code",
   "execution_count": 1,
   "metadata": {},
   "outputs": [],
   "source": [
    "# Mengimpor pustaka yang dibutuhkan.\n",
    "\n",
    "import numpy as np\n",
    "import pandas as pd\n",
    "\n",
    "from matplotlib import pyplot as plt\n",
    "%matplotlib inline"
   ]
  },
  {
   "cell_type": "code",
   "execution_count": 2,
   "metadata": {},
   "outputs": [],
   "source": [
    "# Memasukkan dataset ke dalam jupyter.\n",
    "dataMar = pd.read_excel('dataSEP.xlsx')"
   ]
  },
  {
   "cell_type": "code",
   "execution_count": 3,
   "metadata": {},
   "outputs": [
    {
     "data": {
      "text/html": [
       "<div>\n",
       "<style scoped>\n",
       "    .dataframe tbody tr th:only-of-type {\n",
       "        vertical-align: middle;\n",
       "    }\n",
       "\n",
       "    .dataframe tbody tr th {\n",
       "        vertical-align: top;\n",
       "    }\n",
       "\n",
       "    .dataframe thead th {\n",
       "        text-align: right;\n",
       "    }\n",
       "</style>\n",
       "<table border=\"1\" class=\"dataframe\">\n",
       "  <thead>\n",
       "    <tr style=\"text-align: right;\">\n",
       "      <th></th>\n",
       "      <th>No</th>\n",
       "      <th>Time</th>\n",
       "      <th>Heater</th>\n",
       "      <th>AC</th>\n",
       "      <th>DrybulbT</th>\n",
       "      <th>Radiation</th>\n",
       "      <th>AirT</th>\n",
       "      <th>RH</th>\n",
       "      <th>DT</th>\n",
       "    </tr>\n",
       "  </thead>\n",
       "  <tbody>\n",
       "    <tr>\n",
       "      <td>0</td>\n",
       "      <td>1</td>\n",
       "      <td>00:03:00</td>\n",
       "      <td>0</td>\n",
       "      <td>0</td>\n",
       "      <td>23.03</td>\n",
       "      <td>0.0</td>\n",
       "      <td>23.15</td>\n",
       "      <td>66.65</td>\n",
       "      <td>DT3</td>\n",
       "    </tr>\n",
       "    <tr>\n",
       "      <td>1</td>\n",
       "      <td>2</td>\n",
       "      <td>00:09:00</td>\n",
       "      <td>0</td>\n",
       "      <td>0</td>\n",
       "      <td>23.03</td>\n",
       "      <td>0.0</td>\n",
       "      <td>23.15</td>\n",
       "      <td>66.68</td>\n",
       "      <td>NaN</td>\n",
       "    </tr>\n",
       "    <tr>\n",
       "      <td>2</td>\n",
       "      <td>3</td>\n",
       "      <td>00:15:00</td>\n",
       "      <td>0</td>\n",
       "      <td>0</td>\n",
       "      <td>23.03</td>\n",
       "      <td>0.0</td>\n",
       "      <td>23.15</td>\n",
       "      <td>66.72</td>\n",
       "      <td>NaN</td>\n",
       "    </tr>\n",
       "    <tr>\n",
       "      <td>3</td>\n",
       "      <td>4</td>\n",
       "      <td>00:21:00</td>\n",
       "      <td>0</td>\n",
       "      <td>0</td>\n",
       "      <td>23.03</td>\n",
       "      <td>0.0</td>\n",
       "      <td>23.14</td>\n",
       "      <td>66.77</td>\n",
       "      <td>NaN</td>\n",
       "    </tr>\n",
       "    <tr>\n",
       "      <td>4</td>\n",
       "      <td>5</td>\n",
       "      <td>00:27:00</td>\n",
       "      <td>0</td>\n",
       "      <td>0</td>\n",
       "      <td>23.03</td>\n",
       "      <td>0.0</td>\n",
       "      <td>23.14</td>\n",
       "      <td>66.81</td>\n",
       "      <td>NaN</td>\n",
       "    </tr>\n",
       "  </tbody>\n",
       "</table>\n",
       "</div>"
      ],
      "text/plain": [
       "   No      Time  Heater  AC  DrybulbT  Radiation   AirT     RH   DT\n",
       "0   1  00:03:00       0   0     23.03        0.0  23.15  66.65  DT3\n",
       "1   2  00:09:00       0   0     23.03        0.0  23.15  66.68  NaN\n",
       "2   3  00:15:00       0   0     23.03        0.0  23.15  66.72  NaN\n",
       "3   4  00:21:00       0   0     23.03        0.0  23.14  66.77  NaN\n",
       "4   5  00:27:00       0   0     23.03        0.0  23.14  66.81  NaN"
      ]
     },
     "execution_count": 3,
     "metadata": {},
     "output_type": "execute_result"
    }
   ],
   "source": [
    "# Menampilkan 5 data teratas.\n",
    "dataMar.head(5)"
   ]
  },
  {
   "cell_type": "code",
   "execution_count": 4,
   "metadata": {},
   "outputs": [
    {
     "data": {
      "text/html": [
       "<div>\n",
       "<style scoped>\n",
       "    .dataframe tbody tr th:only-of-type {\n",
       "        vertical-align: middle;\n",
       "    }\n",
       "\n",
       "    .dataframe tbody tr th {\n",
       "        vertical-align: top;\n",
       "    }\n",
       "\n",
       "    .dataframe thead th {\n",
       "        text-align: right;\n",
       "    }\n",
       "</style>\n",
       "<table border=\"1\" class=\"dataframe\">\n",
       "  <thead>\n",
       "    <tr style=\"text-align: right;\">\n",
       "      <th></th>\n",
       "      <th>No</th>\n",
       "      <th>Time</th>\n",
       "      <th>Heater</th>\n",
       "      <th>AC</th>\n",
       "      <th>DrybulbT</th>\n",
       "      <th>Radiation</th>\n",
       "      <th>AirT</th>\n",
       "      <th>RH</th>\n",
       "      <th>DT</th>\n",
       "    </tr>\n",
       "  </thead>\n",
       "  <tbody>\n",
       "    <tr>\n",
       "      <td>5995</td>\n",
       "      <td>5996</td>\n",
       "      <td>23:33:00</td>\n",
       "      <td>2</td>\n",
       "      <td>0</td>\n",
       "      <td>23.28</td>\n",
       "      <td>0.0</td>\n",
       "      <td>25.26</td>\n",
       "      <td>71.38</td>\n",
       "      <td>NaN</td>\n",
       "    </tr>\n",
       "    <tr>\n",
       "      <td>5996</td>\n",
       "      <td>5997</td>\n",
       "      <td>23:39:00</td>\n",
       "      <td>2</td>\n",
       "      <td>0</td>\n",
       "      <td>23.28</td>\n",
       "      <td>0.0</td>\n",
       "      <td>25.22</td>\n",
       "      <td>71.52</td>\n",
       "      <td>NaN</td>\n",
       "    </tr>\n",
       "    <tr>\n",
       "      <td>5997</td>\n",
       "      <td>5998</td>\n",
       "      <td>23:45:00</td>\n",
       "      <td>2</td>\n",
       "      <td>0</td>\n",
       "      <td>23.28</td>\n",
       "      <td>0.0</td>\n",
       "      <td>25.18</td>\n",
       "      <td>71.66</td>\n",
       "      <td>NaN</td>\n",
       "    </tr>\n",
       "    <tr>\n",
       "      <td>5998</td>\n",
       "      <td>5999</td>\n",
       "      <td>23:51:00</td>\n",
       "      <td>2</td>\n",
       "      <td>0</td>\n",
       "      <td>23.28</td>\n",
       "      <td>0.0</td>\n",
       "      <td>25.14</td>\n",
       "      <td>71.81</td>\n",
       "      <td>NaN</td>\n",
       "    </tr>\n",
       "    <tr>\n",
       "      <td>5999</td>\n",
       "      <td>6000</td>\n",
       "      <td>23:57:00</td>\n",
       "      <td>2</td>\n",
       "      <td>0</td>\n",
       "      <td>23.28</td>\n",
       "      <td>0.0</td>\n",
       "      <td>25.11</td>\n",
       "      <td>71.94</td>\n",
       "      <td>NaN</td>\n",
       "    </tr>\n",
       "  </tbody>\n",
       "</table>\n",
       "</div>"
      ],
      "text/plain": [
       "        No      Time  Heater  AC  DrybulbT  Radiation   AirT     RH   DT\n",
       "5995  5996  23:33:00       2   0     23.28        0.0  25.26  71.38  NaN\n",
       "5996  5997  23:39:00       2   0     23.28        0.0  25.22  71.52  NaN\n",
       "5997  5998  23:45:00       2   0     23.28        0.0  25.18  71.66  NaN\n",
       "5998  5999  23:51:00       2   0     23.28        0.0  25.14  71.81  NaN\n",
       "5999  6000  23:57:00       2   0     23.28        0.0  25.11  71.94  NaN"
      ]
     },
     "execution_count": 4,
     "metadata": {},
     "output_type": "execute_result"
    }
   ],
   "source": [
    "# Menampilkan 5 data terbawah.\n",
    "dataMar.tail(5)"
   ]
  },
  {
   "cell_type": "code",
   "execution_count": 5,
   "metadata": {},
   "outputs": [],
   "source": [
    "# Membuang fitur No, Time dan DT.\n",
    "dataMar = dataMar.drop(['No','Time','DT'], axis =1)"
   ]
  },
  {
   "cell_type": "code",
   "execution_count": 6,
   "metadata": {},
   "outputs": [
    {
     "data": {
      "text/plain": [
       "(6000, 6)"
      ]
     },
     "execution_count": 6,
     "metadata": {},
     "output_type": "execute_result"
    }
   ],
   "source": [
    "# Menampilkan ukuran matriks.\n",
    "dataMar.shape"
   ]
  },
  {
   "cell_type": "code",
   "execution_count": 7,
   "metadata": {},
   "outputs": [
    {
     "data": {
      "text/html": [
       "<div>\n",
       "<style scoped>\n",
       "    .dataframe tbody tr th:only-of-type {\n",
       "        vertical-align: middle;\n",
       "    }\n",
       "\n",
       "    .dataframe tbody tr th {\n",
       "        vertical-align: top;\n",
       "    }\n",
       "\n",
       "    .dataframe thead th {\n",
       "        text-align: right;\n",
       "    }\n",
       "</style>\n",
       "<table border=\"1\" class=\"dataframe\">\n",
       "  <thead>\n",
       "    <tr style=\"text-align: right;\">\n",
       "      <th></th>\n",
       "      <th>Heater</th>\n",
       "      <th>AC</th>\n",
       "      <th>DrybulbT</th>\n",
       "      <th>Radiation</th>\n",
       "      <th>AirT</th>\n",
       "      <th>RH</th>\n",
       "    </tr>\n",
       "  </thead>\n",
       "  <tbody>\n",
       "    <tr>\n",
       "      <td>count</td>\n",
       "      <td>6000.000000</td>\n",
       "      <td>6000.000000</td>\n",
       "      <td>6000.000000</td>\n",
       "      <td>6000.000000</td>\n",
       "      <td>6000.000000</td>\n",
       "      <td>6000.000000</td>\n",
       "    </tr>\n",
       "    <tr>\n",
       "      <td>mean</td>\n",
       "      <td>0.600000</td>\n",
       "      <td>9.375000</td>\n",
       "      <td>25.358083</td>\n",
       "      <td>191.983750</td>\n",
       "      <td>24.377918</td>\n",
       "      <td>79.966033</td>\n",
       "    </tr>\n",
       "    <tr>\n",
       "      <td>std</td>\n",
       "      <td>0.800067</td>\n",
       "      <td>12.379819</td>\n",
       "      <td>2.331456</td>\n",
       "      <td>282.013554</td>\n",
       "      <td>2.563013</td>\n",
       "      <td>9.704265</td>\n",
       "    </tr>\n",
       "    <tr>\n",
       "      <td>min</td>\n",
       "      <td>0.000000</td>\n",
       "      <td>0.000000</td>\n",
       "      <td>22.460000</td>\n",
       "      <td>0.000000</td>\n",
       "      <td>16.000000</td>\n",
       "      <td>55.840000</td>\n",
       "    </tr>\n",
       "    <tr>\n",
       "      <td>25%</td>\n",
       "      <td>0.000000</td>\n",
       "      <td>0.000000</td>\n",
       "      <td>23.217500</td>\n",
       "      <td>0.000000</td>\n",
       "      <td>23.460000</td>\n",
       "      <td>72.647500</td>\n",
       "    </tr>\n",
       "    <tr>\n",
       "      <td>50%</td>\n",
       "      <td>0.000000</td>\n",
       "      <td>0.000000</td>\n",
       "      <td>24.490000</td>\n",
       "      <td>0.000000</td>\n",
       "      <td>24.180000</td>\n",
       "      <td>79.495000</td>\n",
       "    </tr>\n",
       "    <tr>\n",
       "      <td>75%</td>\n",
       "      <td>1.000000</td>\n",
       "      <td>24.000000</td>\n",
       "      <td>27.385000</td>\n",
       "      <td>334.794500</td>\n",
       "      <td>26.000000</td>\n",
       "      <td>86.290000</td>\n",
       "    </tr>\n",
       "    <tr>\n",
       "      <td>max</td>\n",
       "      <td>2.000000</td>\n",
       "      <td>30.000000</td>\n",
       "      <td>29.200000</td>\n",
       "      <td>823.928000</td>\n",
       "      <td>30.190000</td>\n",
       "      <td>99.980000</td>\n",
       "    </tr>\n",
       "  </tbody>\n",
       "</table>\n",
       "</div>"
      ],
      "text/plain": [
       "            Heater           AC     DrybulbT    Radiation         AirT  \\\n",
       "count  6000.000000  6000.000000  6000.000000  6000.000000  6000.000000   \n",
       "mean      0.600000     9.375000    25.358083   191.983750    24.377918   \n",
       "std       0.800067    12.379819     2.331456   282.013554     2.563013   \n",
       "min       0.000000     0.000000    22.460000     0.000000    16.000000   \n",
       "25%       0.000000     0.000000    23.217500     0.000000    23.460000   \n",
       "50%       0.000000     0.000000    24.490000     0.000000    24.180000   \n",
       "75%       1.000000    24.000000    27.385000   334.794500    26.000000   \n",
       "max       2.000000    30.000000    29.200000   823.928000    30.190000   \n",
       "\n",
       "                RH  \n",
       "count  6000.000000  \n",
       "mean     79.966033  \n",
       "std       9.704265  \n",
       "min      55.840000  \n",
       "25%      72.647500  \n",
       "50%      79.495000  \n",
       "75%      86.290000  \n",
       "max      99.980000  "
      ]
     },
     "execution_count": 7,
     "metadata": {},
     "output_type": "execute_result"
    }
   ],
   "source": [
    "# Memeriksa persebaran statistik data.\n",
    "dataMar.describe()"
   ]
  },
  {
   "cell_type": "code",
   "execution_count": 8,
   "metadata": {},
   "outputs": [
    {
     "name": "stdout",
     "output_type": "stream",
     "text": [
      "<class 'pandas.core.frame.DataFrame'>\n",
      "RangeIndex: 6000 entries, 0 to 5999\n",
      "Data columns (total 6 columns):\n",
      "Heater       6000 non-null int64\n",
      "AC           6000 non-null int64\n",
      "DrybulbT     6000 non-null float64\n",
      "Radiation    6000 non-null float64\n",
      "AirT         6000 non-null float64\n",
      "RH           6000 non-null float64\n",
      "dtypes: float64(4), int64(2)\n",
      "memory usage: 281.4 KB\n"
     ]
    }
   ],
   "source": [
    "# Memeriksa nilai yang kosong.\n",
    "dataMar.info()"
   ]
  },
  {
   "cell_type": "code",
   "execution_count": 9,
   "metadata": {},
   "outputs": [],
   "source": [
    "# Memisahkan data input dan data target.\n",
    "\n",
    "# Data Input\n",
    "X = dataMar[['Heater','AC','DrybulbT','Radiation']]\n",
    "# Data Target\n",
    "Y = dataMar[['AirT','RH']]"
   ]
  },
  {
   "cell_type": "code",
   "execution_count": 10,
   "metadata": {},
   "outputs": [
    {
     "data": {
      "text/html": [
       "<div>\n",
       "<style scoped>\n",
       "    .dataframe tbody tr th:only-of-type {\n",
       "        vertical-align: middle;\n",
       "    }\n",
       "\n",
       "    .dataframe tbody tr th {\n",
       "        vertical-align: top;\n",
       "    }\n",
       "\n",
       "    .dataframe thead th {\n",
       "        text-align: right;\n",
       "    }\n",
       "</style>\n",
       "<table border=\"1\" class=\"dataframe\">\n",
       "  <thead>\n",
       "    <tr style=\"text-align: right;\">\n",
       "      <th></th>\n",
       "      <th>Heater</th>\n",
       "      <th>AC</th>\n",
       "      <th>DrybulbT</th>\n",
       "      <th>Radiation</th>\n",
       "    </tr>\n",
       "  </thead>\n",
       "  <tbody>\n",
       "    <tr>\n",
       "      <td>0</td>\n",
       "      <td>0</td>\n",
       "      <td>0</td>\n",
       "      <td>23.03</td>\n",
       "      <td>0.0</td>\n",
       "    </tr>\n",
       "    <tr>\n",
       "      <td>1</td>\n",
       "      <td>0</td>\n",
       "      <td>0</td>\n",
       "      <td>23.03</td>\n",
       "      <td>0.0</td>\n",
       "    </tr>\n",
       "    <tr>\n",
       "      <td>2</td>\n",
       "      <td>0</td>\n",
       "      <td>0</td>\n",
       "      <td>23.03</td>\n",
       "      <td>0.0</td>\n",
       "    </tr>\n",
       "    <tr>\n",
       "      <td>3</td>\n",
       "      <td>0</td>\n",
       "      <td>0</td>\n",
       "      <td>23.03</td>\n",
       "      <td>0.0</td>\n",
       "    </tr>\n",
       "    <tr>\n",
       "      <td>4</td>\n",
       "      <td>0</td>\n",
       "      <td>0</td>\n",
       "      <td>23.03</td>\n",
       "      <td>0.0</td>\n",
       "    </tr>\n",
       "  </tbody>\n",
       "</table>\n",
       "</div>"
      ],
      "text/plain": [
       "   Heater  AC  DrybulbT  Radiation\n",
       "0       0   0     23.03        0.0\n",
       "1       0   0     23.03        0.0\n",
       "2       0   0     23.03        0.0\n",
       "3       0   0     23.03        0.0\n",
       "4       0   0     23.03        0.0"
      ]
     },
     "execution_count": 10,
     "metadata": {},
     "output_type": "execute_result"
    }
   ],
   "source": [
    "X.head()"
   ]
  },
  {
   "cell_type": "code",
   "execution_count": 11,
   "metadata": {},
   "outputs": [
    {
     "data": {
      "text/html": [
       "<div>\n",
       "<style scoped>\n",
       "    .dataframe tbody tr th:only-of-type {\n",
       "        vertical-align: middle;\n",
       "    }\n",
       "\n",
       "    .dataframe tbody tr th {\n",
       "        vertical-align: top;\n",
       "    }\n",
       "\n",
       "    .dataframe thead th {\n",
       "        text-align: right;\n",
       "    }\n",
       "</style>\n",
       "<table border=\"1\" class=\"dataframe\">\n",
       "  <thead>\n",
       "    <tr style=\"text-align: right;\">\n",
       "      <th></th>\n",
       "      <th>AirT</th>\n",
       "      <th>RH</th>\n",
       "    </tr>\n",
       "  </thead>\n",
       "  <tbody>\n",
       "    <tr>\n",
       "      <td>0</td>\n",
       "      <td>23.15</td>\n",
       "      <td>66.65</td>\n",
       "    </tr>\n",
       "    <tr>\n",
       "      <td>1</td>\n",
       "      <td>23.15</td>\n",
       "      <td>66.68</td>\n",
       "    </tr>\n",
       "    <tr>\n",
       "      <td>2</td>\n",
       "      <td>23.15</td>\n",
       "      <td>66.72</td>\n",
       "    </tr>\n",
       "    <tr>\n",
       "      <td>3</td>\n",
       "      <td>23.14</td>\n",
       "      <td>66.77</td>\n",
       "    </tr>\n",
       "    <tr>\n",
       "      <td>4</td>\n",
       "      <td>23.14</td>\n",
       "      <td>66.81</td>\n",
       "    </tr>\n",
       "  </tbody>\n",
       "</table>\n",
       "</div>"
      ],
      "text/plain": [
       "    AirT     RH\n",
       "0  23.15  66.65\n",
       "1  23.15  66.68\n",
       "2  23.15  66.72\n",
       "3  23.14  66.77\n",
       "4  23.14  66.81"
      ]
     },
     "execution_count": 11,
     "metadata": {},
     "output_type": "execute_result"
    }
   ],
   "source": [
    "Y.head()"
   ]
  },
  {
   "cell_type": "code",
   "execution_count": 12,
   "metadata": {},
   "outputs": [
    {
     "name": "stdout",
     "output_type": "stream",
     "text": [
      "(4000, 4) (2000, 4) (4000, 2) (2000, 2)\n"
     ]
    }
   ],
   "source": [
    "# Memisahkan data pelatihan (training) dan data pengujian (testing).\n",
    "\n",
    "from sklearn.model_selection import train_test_split\n",
    "from sklearn.metrics import mean_squared_error, r2_score\n",
    "\n",
    "X_train, X_test, Y_train, Y_test = train_test_split(X, Y, test_size=(1/3), random_state=1)\n",
    "print(X_train.shape, X_test.shape, Y_train.shape, Y_test.shape)"
   ]
  },
  {
   "cell_type": "code",
   "execution_count": 13,
   "metadata": {},
   "outputs": [
    {
     "data": {
      "text/html": [
       "<div>\n",
       "<style scoped>\n",
       "    .dataframe tbody tr th:only-of-type {\n",
       "        vertical-align: middle;\n",
       "    }\n",
       "\n",
       "    .dataframe tbody tr th {\n",
       "        vertical-align: top;\n",
       "    }\n",
       "\n",
       "    .dataframe thead th {\n",
       "        text-align: right;\n",
       "    }\n",
       "</style>\n",
       "<table border=\"1\" class=\"dataframe\">\n",
       "  <thead>\n",
       "    <tr style=\"text-align: right;\">\n",
       "      <th></th>\n",
       "      <th>Heater</th>\n",
       "      <th>AC</th>\n",
       "      <th>DrybulbT</th>\n",
       "      <th>Radiation</th>\n",
       "    </tr>\n",
       "  </thead>\n",
       "  <tbody>\n",
       "    <tr>\n",
       "      <td>3586</td>\n",
       "      <td>0</td>\n",
       "      <td>0</td>\n",
       "      <td>23.53</td>\n",
       "      <td>0.000</td>\n",
       "    </tr>\n",
       "    <tr>\n",
       "      <td>3772</td>\n",
       "      <td>1</td>\n",
       "      <td>0</td>\n",
       "      <td>26.37</td>\n",
       "      <td>285.735</td>\n",
       "    </tr>\n",
       "    <tr>\n",
       "      <td>1277</td>\n",
       "      <td>0</td>\n",
       "      <td>0</td>\n",
       "      <td>24.13</td>\n",
       "      <td>36.000</td>\n",
       "    </tr>\n",
       "    <tr>\n",
       "      <td>3935</td>\n",
       "      <td>1</td>\n",
       "      <td>27</td>\n",
       "      <td>27.17</td>\n",
       "      <td>246.179</td>\n",
       "    </tr>\n",
       "    <tr>\n",
       "      <td>872</td>\n",
       "      <td>0</td>\n",
       "      <td>19</td>\n",
       "      <td>27.88</td>\n",
       "      <td>696.671</td>\n",
       "    </tr>\n",
       "  </tbody>\n",
       "</table>\n",
       "</div>"
      ],
      "text/plain": [
       "      Heater  AC  DrybulbT  Radiation\n",
       "3586       0   0     23.53      0.000\n",
       "3772       1   0     26.37    285.735\n",
       "1277       0   0     24.13     36.000\n",
       "3935       1  27     27.17    246.179\n",
       "872        0  19     27.88    696.671"
      ]
     },
     "execution_count": 13,
     "metadata": {},
     "output_type": "execute_result"
    }
   ],
   "source": [
    "# Validasi data telah teracak\n",
    "X_train.head()"
   ]
  },
  {
   "cell_type": "code",
   "execution_count": 14,
   "metadata": {},
   "outputs": [],
   "source": [
    "# Variabel untuk pembuatan grafik\n",
    "\n",
    "Heater    = X_test['Heater']\n",
    "AC        = X_test['AC']\n",
    "DrybulbT  = X_test['DrybulbT']\n",
    "Radiation = X_test['Radiation']\n",
    "\n",
    "AirT      = Y_test['AirT']\n",
    "RH        = Y_test['RH']"
   ]
  },
  {
   "cell_type": "markdown",
   "metadata": {},
   "source": [
    "## Regresi Linier"
   ]
  },
  {
   "cell_type": "code",
   "execution_count": 15,
   "metadata": {},
   "outputs": [
    {
     "data": {
      "text/plain": [
       "(37.76549119115413, 0.19726303542260976)"
      ]
     },
     "execution_count": 15,
     "metadata": {},
     "output_type": "execute_result"
    }
   ],
   "source": [
    "from sklearn.linear_model import Ridge\n",
    "\n",
    "model_linear = Ridge()\n",
    "model_linear.fit(X_train, Y_train)\n",
    "\n",
    "Y_guess = model_linear.predict(X_test)\n",
    "\n",
    "mean_squared_error(Y_test, Y_guess), r2_score(Y_test, Y_guess)"
   ]
  },
  {
   "cell_type": "code",
   "execution_count": 16,
   "metadata": {},
   "outputs": [
    {
     "data": {
      "image/png": "[encoded data removed]",
      "text/plain": [
       "<Figure size 432x288 with 2 Axes>"
      ]
     },
     "metadata": {
      "needs_background": "light"
     },
     "output_type": "display_data"
    }
   ],
   "source": [
    "plt.subplot(2, 1, 1)\n",
    "plt.title('Grafik Heater terhadap AirT dan RH')\n",
    "plt.plot(X_test.values[:,0], Y_test.values[:,0], '.')\n",
    "plt.plot(X_test.values[:,0], Y_guess[:,0], 'r.')\n",
    "plt.ylabel('AirT')\n",
    "\n",
    "plt.subplot(2, 1, 2)\n",
    "plt.plot(X_test.values[:,0], Y_test.values[:,1], '.')\n",
    "plt.plot(X_test.values[:,0], Y_guess[:,1], 'r.')\n",
    "plt.xlabel('Heater')\n",
    "plt.ylabel('RH')\n",
    "\n",
    "plt.show()"
   ]
  },
  {
   "cell_type": "code",
   "execution_count": 17,
   "metadata": {},
   "outputs": [
    {
     "data": {
      "image/png": "[encoded data removed]",
      "text/plain": [
       "<Figure size 432x288 with 2 Axes>"
      ]
     },
     "metadata": {
      "needs_background": "light"
     },
     "output_type": "display_data"
    }
   ],
   "source": [
    "plt.subplot(2, 1, 1)\n",
    "plt.title('Grafik AC terhadap AirT dan RH')\n",
    "plt.plot(X_test.values[:,1], Y_test.values[:,0], '.')\n",
    "plt.plot(X_test.values[:,1], Y_guess[:,0], 'r.')\n",
    "plt.ylabel('AirT')\n",
    "\n",
    "plt.subplot(2, 1, 2)\n",
    "plt.plot(X_test.values[:,1], Y_test.values[:,1], '.')\n",
    "plt.plot(X_test.values[:,1], Y_guess[:,1], 'r.')\n",
    "plt.xlabel('AC')\n",
    "plt.ylabel('RH')\n",
    "\n",
    "plt.show()"
   ]
  },
  {
   "cell_type": "code",
   "execution_count": 18,
   "metadata": {},
   "outputs": [
    {
     "data": {
      "image/png": "[encoded data removed]",
      "text/plain": [
       "<Figure size 432x288 with 2 Axes>"
      ]
     },
     "metadata": {
      "needs_background": "light"
     },
     "output_type": "display_data"
    }
   ],
   "source": [
    "plt.subplot(2, 1, 1)\n",
    "plt.title('Grafik DrybulbT terhadap AirT dan RH')\n",
    "plt.plot(X_test.values[:,2], Y_test.values[:,0], '.')\n",
    "plt.plot(X_test.values[:,2], Y_guess[:,0], 'r.')\n",
    "plt.ylabel('AirT')\n",
    "\n",
    "plt.subplot(2, 1, 2)\n",
    "plt.plot(X_test.values[:,2], Y_test.values[:,1], '.')\n",
    "plt.plot(X_test.values[:,2], Y_guess[:,1], 'r.')\n",
    "plt.xlabel('DrybulbT')\n",
    "plt.ylabel('RH')\n",
    "\n",
    "plt.show()"
   ]
  },
  {
   "cell_type": "code",
   "execution_count": 19,
   "metadata": {},
   "outputs": [
    {
     "data": {
      "image/png": "[encoded data removed]",
      "text/plain": [
       "<Figure size 432x288 with 2 Axes>"
      ]
     },
     "metadata": {
      "needs_background": "light"
     },
     "output_type": "display_data"
    }
   ],
   "source": [
    "plt.subplot(2, 1, 1)\n",
    "plt.title('Grafik Radiation terhadap AirT dan RH')\n",
    "plt.plot(X_test.values[:,3], Y_test.values[:,0], '.')\n",
    "plt.plot(X_test.values[:,3], Y_guess[:,0], 'r.')\n",
    "plt.ylabel('AirT')\n",
    "\n",
    "plt.subplot(2, 1, 2)\n",
    "plt.plot(X_test.values[:,3], Y_test.values[:,1], '.')\n",
    "plt.plot(X_test.values[:,3], Y_guess[:,1], 'r.')\n",
    "plt.xlabel('Radiation')\n",
    "plt.ylabel('RH')\n",
    "\n",
    "plt.show()"
   ]
  },
  {
   "cell_type": "markdown",
   "metadata": {},
   "source": [
    "## Regressi menggunakan Multi-Layer Perceptron"
   ]
  },
  {
   "cell_type": "code",
   "execution_count": 20,
   "metadata": {},
   "outputs": [],
   "source": [
    "# Impor pustaka\n",
    "from sklearn.neural_network import MLPRegressor"
   ]
  },
  {
   "cell_type": "code",
   "execution_count": 21,
   "metadata": {},
   "outputs": [],
   "source": [
    "daftar = [0,1]"
   ]
  },
  {
   "cell_type": "code",
   "execution_count": 22,
   "metadata": {},
   "outputs": [
    {
     "data": {
      "text/plain": [
       "1"
      ]
     },
     "execution_count": 22,
     "metadata": {},
     "output_type": "execute_result"
    }
   ],
   "source": [
    "max(daftar)"
   ]
  },
  {
   "cell_type": "code",
   "execution_count": 23,
   "metadata": {},
   "outputs": [],
   "source": [
    "# # Mencari optimasi jumlah hidden layer dan neuron terbaik\n",
    "\n",
    "# def ann(n):\n",
    "#     return MLPRegressor(random_state=1, activation='relu', hidden_layer_sizes=(19,19,20,n))\n",
    "\n",
    "# daftar = [0]\n",
    "# for i in range(1,31):\n",
    "#     model = ann(i)\n",
    "#     model.fit(X_train, Y_train)\n",
    "#     pred = model.predict(X_test)\n",
    "#     accuracy = r2_score(Y_test, pred)\n",
    "#     daftar.append(accuracy)\n",
    "#     if accuracy >= 50:\n",
    "#         neuron = i\n",
    "#         break\n",
    "#     neuron = daftar.index(max(daftar))\n",
    "    \n",
    "# print(neuron)"
   ]
  },
  {
   "cell_type": "code",
   "execution_count": 24,
   "metadata": {},
   "outputs": [],
   "source": [
    "# Pembuatan model\n",
    "model_mlp = MLPRegressor(random_state=1, activation='relu', hidden_layer_sizes=(19, 19, 20, 28)) # 19 19 20 28"
   ]
  },
  {
   "cell_type": "code",
   "execution_count": 25,
   "metadata": {},
   "outputs": [
    {
     "name": "stderr",
     "output_type": "stream",
     "text": [
      "/home/dhan/miniconda3/envs/ML/lib/python3.7/site-packages/sklearn/neural_network/multilayer_perceptron.py:566: ConvergenceWarning: Stochastic Optimizer: Maximum iterations (200) reached and the optimization hasn't converged yet.\n",
      "  % self.max_iter, ConvergenceWarning)\n"
     ]
    },
    {
     "data": {
      "text/plain": [
       "(15.922633478238346, 0.7149570582767972)"
      ]
     },
     "execution_count": 25,
     "metadata": {},
     "output_type": "execute_result"
    }
   ],
   "source": [
    "# Melakukan pelatihan (training) menggunakan 'fit'\n",
    "model_mlp.fit(X_train, Y_train)\n",
    "\n",
    "# Prediksi output\n",
    "Y_pred = model_mlp.predict(X_test)\n",
    "\n",
    "# Menampilkan nilai MSE dan R^2\n",
    "mean_squared_error(Y_test, Y_pred), r2_score(Y_test, Y_pred)"
   ]
  },
  {
   "cell_type": "code",
   "execution_count": 26,
   "metadata": {},
   "outputs": [
    {
     "data": {
      "text/plain": [
       "<bound method BaseEstimator.get_params of MLPRegressor(activation='relu', alpha=0.0001, batch_size='auto', beta_1=0.9,\n",
       "             beta_2=0.999, early_stopping=False, epsilon=1e-08,\n",
       "             hidden_layer_sizes=(19, 19, 20, 28), learning_rate='constant',\n",
       "             learning_rate_init=0.001, max_iter=200, momentum=0.9,\n",
       "             n_iter_no_change=10, nesterovs_momentum=True, power_t=0.5,\n",
       "             random_state=1, shuffle=True, solver='adam', tol=0.0001,\n",
       "             validation_fraction=0.1, verbose=False, warm_start=False)>"
      ]
     },
     "execution_count": 26,
     "metadata": {},
     "output_type": "execute_result"
    }
   ],
   "source": [
    "model_mlp.get_params"
   ]
  },
  {
   "cell_type": "code",
   "execution_count": 27,
   "metadata": {},
   "outputs": [
    {
     "data": {
      "image/png": "[encoded data removed]",
      "text/plain": [
       "<Figure size 432x288 with 2 Axes>"
      ]
     },
     "metadata": {
      "needs_background": "light"
     },
     "output_type": "display_data"
    }
   ],
   "source": [
    "# plot a line, a perfit predict would all fall on this line\n",
    "plt.subplot(2, 1, 1)\n",
    "plt.title('Grafik Heater terhadap AirT dan RH')\n",
    "plt.plot(X_test.values[:,0], Y_test.values[:,0], '.')\n",
    "plt.plot(X_test.values[:,0], Y_pred[:,0], 'r.')\n",
    "plt.ylabel('AirT')\n",
    "\n",
    "plt.subplot(2, 1, 2)\n",
    "plt.plot(X_test.values[:,0], Y_test.values[:,1], '.')\n",
    "plt.plot(X_test.values[:,0], Y_pred[:,1], 'r.')\n",
    "plt.xlabel('Heater')\n",
    "plt.ylabel('RH')\n",
    "\n",
    "plt.show()"
   ]
  },
  {
   "cell_type": "code",
   "execution_count": 28,
   "metadata": {},
   "outputs": [
    {
     "data": {
      "image/png": "[encoded data removed]",
      "text/plain": [
       "<Figure size 432x288 with 2 Axes>"
      ]
     },
     "metadata": {
      "needs_background": "light"
     },
     "output_type": "display_data"
    }
   ],
   "source": [
    "plt.subplot(2, 1, 1)\n",
    "plt.title('Grafik AC terhadap AirT dan RH')\n",
    "plt.plot(X_test.values[:,1], Y_test.values[:,0], '.')\n",
    "plt.plot(X_test.values[:,1], Y_pred[:,0], 'r.')\n",
    "plt.ylabel('AirT')\n",
    "\n",
    "plt.subplot(2, 1, 2)\n",
    "plt.plot(X_test.values[:,1], Y_test.values[:,1], '.')\n",
    "plt.plot(X_test.values[:,1], Y_pred[:,1], 'r.')\n",
    "plt.xlabel('AC')\n",
    "plt.ylabel('RH')\n",
    "\n",
    "plt.show()"
   ]
  },
  {
   "cell_type": "code",
   "execution_count": 29,
   "metadata": {},
   "outputs": [
    {
     "data": {
      "image/png": "[encoded data removed]",
      "text/plain": [
       "<Figure size 432x288 with 2 Axes>"
      ]
     },
     "metadata": {
      "needs_background": "light"
     },
     "output_type": "display_data"
    }
   ],
   "source": [
    "plt.subplot(2, 1, 1)\n",
    "plt.title('Grafik DrybulbT terhadap AirT dan RH')\n",
    "plt.plot(X_test.values[:,2], Y_test.values[:,0], '.')\n",
    "plt.plot(X_test.values[:,2], Y_pred[:,0], 'r.')\n",
    "plt.ylabel('AirT')\n",
    "\n",
    "plt.subplot(2, 1, 2)\n",
    "plt.plot(X_test.values[:,2], Y_test.values[:,1], '.')\n",
    "plt.plot(X_test.values[:,2], Y_pred[:,1], 'r.')\n",
    "plt.xlabel('DrybulbT')\n",
    "plt.ylabel('RH')\n",
    "\n",
    "plt.show()"
   ]
  },
  {
   "cell_type": "code",
   "execution_count": 30,
   "metadata": {},
   "outputs": [
    {
     "data": {
      "image/png": "[encoded data removed]",
      "text/plain": [
       "<Figure size 432x288 with 2 Axes>"
      ]
     },
     "metadata": {
      "needs_background": "light"
     },
     "output_type": "display_data"
    }
   ],
   "source": [
    "plt.subplot(2, 1, 1)\n",
    "plt.title('Grafik Radiation terhadap AirT dan RH')\n",
    "plt.plot(X_test.values[:,3], Y_test.values[:,0], '.')\n",
    "plt.plot(X_test.values[:,3], Y_pred[:,0], 'r.')\n",
    "plt.ylabel('AirT')\n",
    "\n",
    "plt.subplot(2, 1, 2)\n",
    "plt.plot(X_test.values[:,3], Y_test.values[:,1], '.')\n",
    "plt.plot(X_test.values[:,3], Y_pred[:,1], 'r.')\n",
    "plt.xlabel('Radiation')\n",
    "plt.ylabel('RH')\n",
    "\n",
    "plt.show()"
   ]
  },
  {
   "cell_type": "code",
   "execution_count": null,
   "metadata": {},
   "outputs": [],
   "source": []
  }
 ],
 "metadata": {
  "kernelspec": {
   "display_name": "Python 3",
   "language": "python",
   "name": "python3"
  },
  "language_info": {
   "codemirror_mode": {
    "name": "ipython",
    "version": 3
   },
   "file_extension": ".py",
   "mimetype": "text/x-python",
   "name": "python",
   "nbconvert_exporter": "python",
   "pygments_lexer": "ipython3",
   "version": "3.7.4"
  }
 },
 "nbformat": 4,
 "nbformat_minor": 2
}
