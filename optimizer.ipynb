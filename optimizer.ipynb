{
 "cells": [
  {
   "cell_type": "code",
   "execution_count": 1,
   "metadata": {},
   "outputs": [],
   "source": [
    "# Import needed library\n",
    "import numpy as np\n",
    "import pandas as pd\n",
    "import pickle\n",
    "from scipy.optimize import minimize\n",
    "from sklearn.model_selection import train_test_split"
   ]
  },
  {
   "cell_type": "code",
   "execution_count": 2,
   "metadata": {},
   "outputs": [],
   "source": [
    "# Import dataset\n",
    "data = pd.read_excel('./Source/PredictiveControl/controllerData.xlsx')\n",
    "\n",
    "y = data[['Td','RH']]\n",
    "X = data[['AC','HT']]\n",
    "d = data[['To','RD']]\n",
    "X = np.append(X, d, axis=1)\n",
    "setpoint = data[['Td_SP','RH_SP']]\n",
    "\n",
    "# Data splitting\n",
    "X_train, X_val, y_train, y_val = train_test_split(X, y, test_size=0.05, shuffle=False, random_state=15)\n",
    "setpoint, s_dump, d, d_dump = train_test_split(setpoint, d, test_size=0.05, shuffle=False, random_state=15)"
   ]
  },
  {
   "cell_type": "code",
   "execution_count": 3,
   "metadata": {},
   "outputs": [
    {
     "name": "stdout",
     "output_type": "stream",
     "text": [
      "(22800, 4) (1200, 4) (22800, 2) (1200, 2) (22800, 2) (22800, 2)\n"
     ]
    }
   ],
   "source": [
    "# Data Size\n",
    "print(X_train.shape, X_val.shape, y_train.shape, y_val.shape, setpoint.shape, d.shape)"
   ]
  },
  {
   "cell_type": "code",
   "execution_count": 4,
   "metadata": {},
   "outputs": [
    {
     "name": "stdout",
     "output_type": "stream",
     "text": [
      "Memuat model JST...\n",
      "\n",
      "Model JST berhasil dimuat!\n"
     ]
    }
   ],
   "source": [
    "# Load from file\n",
    "print(\"Memuat model JST...\")\n",
    "pkl_filename = \"./Source/PredictiveControl/model_MLP.pkl\"\n",
    "with open(pkl_filename, 'rb') as file:\n",
    "    model = pickle.load(file)\n",
    "    print()\n",
    "    print(\"Model JST berhasil dimuat!\")"
   ]
  },
  {
   "cell_type": "code",
   "execution_count": null,
   "metadata": {},
   "outputs": [],
   "source": [
    "# Objective Function\n",
    "def objective(u):\n",
    "    AC = u[0]\n",
    "    HT = u[1]\n",
    "    \n",
    "    rho1 = 0.3                  # rho\n",
    "    rho2 = 0.3                  # rho\n",
    "    \n",
    "\n",
    "    ym = ym[3:]\n",
    "    yr = yr[3:]\n",
    "    \n",
    "    J = sum((yr.Td_SP - ym[:,0])**2) + sum((yr.RH_SP - ym[:,1])**2) + rho1 * (AC-AC)**2 + rho2 * (HT-HT)**2\n",
    "    return J"
   ]
  },
  {
   "cell_type": "code",
   "execution_count": null,
   "metadata": {},
   "outputs": [],
   "source": [
    "ym = model.predict(X_train) # network model response\n",
    "yr = setpoint               # desired response"
   ]
  },
  {
   "cell_type": "code",
   "execution_count": null,
   "metadata": {},
   "outputs": [],
   "source": [
    "# Constraints\n",
    "def constraint1(x):\n",
    "    \n",
    "    return"
   ]
  },
  {
   "cell_type": "code",
   "execution_count": null,
   "metadata": {},
   "outputs": [],
   "source": [
    "u0 = [23, 1]     # initial control signal\n",
    "print(objective(u0))"
   ]
  },
  {
   "cell_type": "code",
   "execution_count": null,
   "metadata": {},
   "outputs": [],
   "source": []
  },
  {
   "cell_type": "code",
   "execution_count": 197,
   "metadata": {},
   "outputs": [
    {
     "name": "stdout",
     "output_type": "stream",
     "text": [
      "Optimization terminated successfully.\n",
      "         Current function value: 23498745.810470\n",
      "         Iterations: 0\n",
      "         Function evaluations: 4\n",
      "         Gradient evaluations: 1\n"
     ]
    }
   ],
   "source": [
    "# BFGS Optimization\n",
    "optim = minimize(objective, u0, method='BFGS', \\\n",
    "                 options={'gtol': 1e-6, 'disp': True})"
   ]
  },
  {
   "cell_type": "code",
   "execution_count": 205,
   "metadata": {},
   "outputs": [
    {
     "name": "stdout",
     "output_type": "stream",
     "text": [
      "23498745.810470134 [23.  1.]\n"
     ]
    }
   ],
   "source": [
    "if optim.success:\n",
    "    state, fitted_params = optim.fun, optim.x\n",
    "    print(state, fitted_params)\n",
    "else:\n",
    "    raise ValueError(optim.message)"
   ]
  },
  {
   "cell_type": "code",
   "execution_count": null,
   "metadata": {},
   "outputs": [],
   "source": []
  },
  {
   "cell_type": "code",
   "execution_count": null,
   "metadata": {},
   "outputs": [],
   "source": []
  },
  {
   "cell_type": "code",
   "execution_count": null,
   "metadata": {},
   "outputs": [],
   "source": []
  },
  {
   "cell_type": "code",
   "execution_count": null,
   "metadata": {},
   "outputs": [],
   "source": []
  }
 ],
 "metadata": {
  "kernelspec": {
   "display_name": "Python 3",
   "language": "python",
   "name": "python3"
  },
  "language_info": {
   "codemirror_mode": {
    "name": "ipython",
    "version": 3
   },
   "file_extension": ".py",
   "mimetype": "text/x-python",
   "name": "python",
   "nbconvert_exporter": "python",
   "pygments_lexer": "ipython3",
   "version": "3.7.7"
  }
 },
 "nbformat": 4,
 "nbformat_minor": 4
}
