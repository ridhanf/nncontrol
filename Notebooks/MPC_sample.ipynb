{
 "cells": [
  {
   "cell_type": "code",
   "execution_count": 1,
   "metadata": {},
   "outputs": [
    {
     "name": "stdout",
     "output_type": "stream",
     "text": [
      "Simulation start\n"
     ]
    }
   ],
   "source": [
    "\"\"\"\n",
    "Simple Model Predictive Control Simulation\n",
    "\n",
    "author Atsushi Sakai\n",
    "\"\"\"\n",
    "import time\n",
    "from cvxpy import *\n",
    "import numpy as np\n",
    "import matplotlib.pyplot as plt\n",
    "print(\"Simulation start\")\n",
    "\n",
    "np.random.seed(1)\n",
    "n = 4   # state size\n",
    "m = 2   # input size\n",
    "T = 50  # number of horizon\n",
    "\n",
    "# simulation parameter\n",
    "alpha = 0.2\n",
    "beta  = 5.0"
   ]
  },
  {
   "cell_type": "code",
   "execution_count": 20,
   "metadata": {},
   "outputs": [
    {
     "name": "stdout",
     "output_type": "stream",
     "text": [
      "-----------------------------------------------------------------\n",
      "           OSQP v0.6.0  -  Operator Splitting QP Solver\n",
      "              (c) Bartolomeo Stellato,  Goran Banjac\n",
      "        University of Oxford  -  Stanford University 2019\n",
      "-----------------------------------------------------------------\n",
      "problem:  variables n = 654, constraints m = 758\n",
      "          nnz(P) + nnz(A) = 2758\n",
      "settings: linear system solver = qdldl,\n",
      "          eps_abs = 1.0e-05, eps_rel = 1.0e-05,\n",
      "          eps_prim_inf = 1.0e-04, eps_dual_inf = 1.0e-04,\n",
      "          rho = 1.00e-01 (adaptive),\n",
      "          sigma = 1.00e-06, alpha = 1.60, max_iter = 10000\n",
      "          check_termination: on (interval 25),\n",
      "          scaling: on, scaled_termination: off\n",
      "          warm start: on, polish: on, time_limit: off\n",
      "\n",
      "iter   objective    pri res    dua res    rho        time\n",
      "   1   0.0000e+00   2.05e+00   2.05e+02   1.00e-01   7.05e-04s\n",
      " 125   3.6940e+01   9.53e-06   3.42e-05   3.63e+00   3.21e-03s\n",
      "\n",
      "status:               solved\n",
      "solution polish:      unsuccessful\n",
      "number of iterations: 125\n",
      "optimal objective:    36.9395\n",
      "run time:             3.63e-03s\n",
      "optimal rho estimate: 2.23e+00\n",
      "\n",
      "calc time:0.3736393451690674[sec]\n"
     ]
    }
   ],
   "source": [
    "# Model Parameter\n",
    "A   = np.eye(n) + alpha * np.random.randn(n, n)\n",
    "B   = np.random.randn(n, m)\n",
    "x_0 = beta * np.random.randn(n)\n",
    "\n",
    "x = Variable((n, T + 1))\n",
    "u = Variable((m, T))\n",
    "\n",
    "cost   = 0\n",
    "constr = []\n",
    "# states = []\n",
    "for t in range(T):\n",
    "    cost   += sum_squares(x[:,t+1]) + sum_squares(u[:,t])\n",
    "    constr += [x[:,t+1] == A@x[:,t] + B@u[:,t],\n",
    "              norm(u[:,t], 'inf') <= 1]\n",
    "    # states.append(Problem(Minimize(cost), constr))\n",
    "# sums problem objectives and concatenates constraints.\n",
    "# prob = sum(states)\n",
    "# prob.constraints += [x[:,T] == 0, x[:,0] == x_0]\n",
    "constr += [x[:,T] == 0, x[:,0] == x_0]\n",
    "prob   = Problem(Minimize(cost), constr)\n",
    "\n",
    "start  = time.time()\n",
    "result = prob.solve(verbose=True)\n",
    "elapsed_time = time.time() - start\n",
    "print (\"calc time:{0}\".format(elapsed_time) + \"[sec]\")"
   ]
  },
  {
   "cell_type": "code",
   "execution_count": 25,
   "metadata": {},
   "outputs": [
    {
     "data": {
      "text/plain": [
       "36.93951376431052"
      ]
     },
     "execution_count": 25,
     "metadata": {},
     "output_type": "execute_result"
    }
   ],
   "source": [
    "result"
   ]
  },
  {
   "cell_type": "code",
   "execution_count": 3,
   "metadata": {},
   "outputs": [
    {
     "data": {
      "image/png": "[encoded data removed]",
      "text/plain": [
       "<Figure size 576x432 with 2 Axes>"
      ]
     },
     "metadata": {
      "needs_background": "light"
     },
     "output_type": "display_data"
    }
   ],
   "source": [
    "if result == float(\"inf\"):\n",
    "    print(\"Cannot optimize\")\n",
    "    import sys\n",
    "    sys.exit()\n",
    "    #  return\n",
    "\n",
    "f = plt.figure(figsize=[8, 6])\n",
    "# Plot (u_t)_1.\n",
    "ax = f.add_subplot(211)\n",
    "u1 = np.array(u[0,:].value).tolist()\n",
    "u2 = np.array(u[1,:].value).tolist()\n",
    "plt.plot(u1, '-r', label=\"u1\")\n",
    "plt.plot(u2, '-b', label=\"u2\")\n",
    "plt.ylabel(r\"$u_t$\", fontsize=16)\n",
    "plt.yticks(np.linspace(-1.0, 1.0, 3))\n",
    "plt.legend()\n",
    "plt.grid(True)\n",
    "\n",
    "# Plot (u_t)_2.\n",
    "plt.subplot(2, 1, 2)\n",
    "x1 = np.array(x[0,:].value).tolist()\n",
    "x2 = np.array(x[1,:].value).tolist()\n",
    "x3 = np.array(x[2,:].value).tolist()\n",
    "x4 = np.array(x[3,:].value).tolist()\n",
    "plt.plot(range(T+1), x1, '-r', label=\"x1\")\n",
    "plt.plot(range(T+1), x2, '-b', label=\"x2\")\n",
    "plt.plot(range(T+1), x3, '-g', label=\"x3\")\n",
    "plt.plot(range(T+1), x4, '-k', label=\"x4\")\n",
    "plt.yticks([-25, 0, 25])\n",
    "plt.ylim([-25, 25])\n",
    "plt.ylabel(r\"$x_t$\", fontsize=16)\n",
    "plt.xlabel(r\"$t$\", fontsize=16)\n",
    "plt.grid(True)\n",
    "plt.legend()\n",
    "plt.tight_layout()\n",
    "plt.show()\n"
   ]
  },
  {
   "cell_type": "code",
   "execution_count": null,
   "metadata": {},
   "outputs": [],
   "source": []
  }
 ],
 "metadata": {
  "kernelspec": {
   "display_name": "Python 3",
   "language": "python",
   "name": "python3"
  },
  "language_info": {
   "codemirror_mode": {
    "name": "ipython",
    "version": 3
   },
   "file_extension": ".py",
   "mimetype": "text/x-python",
   "name": "python",
   "nbconvert_exporter": "python",
   "pygments_lexer": "ipython3",
   "version": "3.7.7"
  }
 },
 "nbformat": 4,
 "nbformat_minor": 4
}
