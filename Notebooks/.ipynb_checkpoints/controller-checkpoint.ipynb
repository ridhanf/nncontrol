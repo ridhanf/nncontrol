{
 "cells": [
  {
   "cell_type": "markdown",
   "metadata": {
    "collapsed": true
   },
   "source": [
    "# Model JST Controller Climate Chamber"
   ]
  },
  {
   "cell_type": "markdown",
   "metadata": {},
   "source": [
    "## Jaringan Saraf Tiruan untuk Plant Climate Chamber"
   ]
  },
  {
   "cell_type": "code",
   "execution_count": 1,
   "metadata": {
    "collapsed": true
   },
   "outputs": [],
   "source": [
    "# Mengimpor pustaka yang dibutuhkan.\n",
    "\n",
    "import numpy as np\n",
    "import pandas as pd\n",
    "from sklearn.neural_network import MLPRegressor\n",
    "from matplotlib import pyplot as plt\n",
    "%matplotlib inline"
   ]
  },
  {
   "cell_type": "code",
   "execution_count": 2,
   "metadata": {
    "collapsed": true
   },
   "outputs": [],
   "source": [
    "# Memasukkan dataset ke dalam jupyter.\n",
    "data = pd.read_excel('Data/dataAll.xlsx')"
   ]
  },
  {
   "cell_type": "code",
   "execution_count": 3,
   "metadata": {
    "collapsed": true
   },
   "outputs": [],
   "source": [
    "# Memisahkan data input dan data target.\n",
    "\n",
    "# Data Input\n",
    "X = data[['Td','RH']]\n",
    "\n",
    "# Data Target\n",
    "target = data[['AC', 'HT']]"
   ]
  },
  {
   "cell_type": "code",
   "execution_count": 4,
   "metadata": {
    "collapsed": true
   },
   "outputs": [],
   "source": [
    "# Memisahkan data pelatihan (training), data validasi (validation), dan data pengujian (testing).\n",
    "\n",
    "from sklearn.model_selection import train_test_split\n",
    "from sklearn.metrics import mean_squared_error, mean_absolute_error, explained_variance_score, r2_score\n",
    "\n",
    "# Memisahkan 20% menjadi data tes\n",
    "X_temp, X_test, y_temp, y_test = train_test_split(X, target, test_size=0.05, shuffle=True, random_state=15)\n",
    "\n",
    "# Memisahkan 20% menjadi data validation\n",
    "X_train, X_val, y_train, y_val = train_test_split(X_temp, y_temp, test_size=(15/95), shuffle=True, random_state=2019)"
   ]
  },
  {
   "cell_type": "code",
   "execution_count": 5,
   "metadata": {},
   "outputs": [
    {
     "name": "stdout",
     "output_type": "stream",
     "text": [
      "train: 80.0% | validation: 15.0% | test 5.0%\n"
     ]
    }
   ],
   "source": [
    "# Menghapus data temporary\n",
    "del X_temp, y_temp\n",
    "\n",
    "# print proportions\n",
    "print('train: {}% | validation: {}% | test {}%'.format(round(len(y_train)/len(target)*100,2),\n",
    "                                                       round(len(y_val)/len(target)*100,2),\n",
    "                                                       round(len(y_test)/len(target)*100,2)))"
   ]
  },
  {
   "cell_type": "code",
   "execution_count": 6,
   "metadata": {},
   "outputs": [
    {
     "name": "stdout",
     "output_type": "stream",
     "text": [
      "(19200, 2) (3600, 2) (1200, 2) (19200, 2) (3600, 2) (1200, 2)\n"
     ]
    }
   ],
   "source": [
    "# banyak data\n",
    "print(X_train.shape, X_val.shape, X_test.shape, y_train.shape, y_val.shape, y_test.shape)"
   ]
  },
  {
   "cell_type": "markdown",
   "metadata": {},
   "source": [
    "### Model Tuning menggunakan Multi-Layer Perceptron Regressor"
   ]
  },
  {
   "cell_type": "code",
   "execution_count": 7,
   "metadata": {},
   "outputs": [
    {
     "name": "stdout",
     "output_type": "stream",
     "text": [
      "DESIGN PROCESS\n",
      "----------------------------------------------------------------------------\n",
      "[25, 'relu', 'adam', 5000, 0.0001, 'constant', True]\n"
     ]
    }
   ],
   "source": [
    "# DESIGN PROCESS\n",
    "print('DESIGN PROCESS')\n",
    "print('-'*76)\n",
    "\n",
    "f = open(\"Data/Controller/designNN.txt\",\"w+\")\n",
    "\n",
    "# Perancangan Arsitektur\n",
    "model_mlp = MLPRegressor(random_state = 1, hidden_layer_sizes=(25), max_iter = 5000)\n",
    "# model_mlp = MLPRegressor(random_state = 1, activation = 'logistic', hidden_layer_sizes=(55), solver='lbfgs', \n",
    "#                          alpha=0.001, max_iter = 5000)\n",
    "\n",
    "# Parameter Rancangan JST\n",
    "random_state  = model_mlp.get_params()['random_state']\n",
    "neuron_number = model_mlp.get_params()['hidden_layer_sizes']\n",
    "activation    = model_mlp.get_params()['activation']\n",
    "solver        = model_mlp.get_params()['solver']\n",
    "max_iter      = model_mlp.get_params()['max_iter']\n",
    "alpha         = model_mlp.get_params()['alpha']\n",
    "learning_rate = model_mlp.get_params()['learning_rate']\n",
    "shuffle       = model_mlp.get_params()['shuffle']\n",
    "\n",
    "design = [neuron_number, activation, solver, max_iter, alpha, learning_rate, shuffle]\n",
    "        \n",
    "f.write(str(design))\n",
    "f.close()\n",
    "\n",
    "print(design)"
   ]
  },
  {
   "cell_type": "code",
   "execution_count": 8,
   "metadata": {},
   "outputs": [
    {
     "name": "stdout",
     "output_type": "stream",
     "text": [
      "TRAINING PROCESS\n",
      "----------------------------------------------------------------------------\n",
      "Score = 22.26% R = 46.71% RMSE = 7.63 MAE = 4.96\n",
      "\n",
      "AC : Score = 24.73% RMSE = 10.77 MAE = 9.31 Mean = -0.59 Std = 10.75\n",
      "HT : Score = 19.78% RMSE = 0.72 MAE = 0.6 Mean = -0.06 Std = 0.72\n",
      "\n"
     ]
    }
   ],
   "source": [
    "# TRAINING PROCESS\n",
    "print('TRAINING PROCESS')\n",
    "print('-'*76)\n",
    "\n",
    "# Melakukan pelatihan (training) menggunakan 'fit'\n",
    "model_mlp.fit(X_train, y_train)\n",
    "\n",
    "# Prediksi model\n",
    "y_pred = model_mlp.predict(X_train)\n",
    "y_pred = pd.DataFrame(y_pred, columns=['AC_pred','HT_pred'])\n",
    "y_target = y_train\n",
    "\n",
    "# Membuat DataFrame hasil\n",
    "y_target = y_target.reset_index()[['AC','HT']]\n",
    "training = pd.concat([y_target,y_pred], axis=1)\n",
    "training['e_AC'] = training.AC - training.AC_pred\n",
    "training['e_HT'] = training.HT - training.HT_pred\n",
    "\n",
    "# Menghitung kinerja\n",
    "EVar = round(explained_variance_score(y_target, y_pred)*100,2)\n",
    "R    = round(r2_score(y_target, y_pred)**0.5*100,2)\n",
    "RMSE = round(mean_squared_error(y_target, y_pred)**0.5,2)\n",
    "MAE  = round(mean_absolute_error(y_target, y_pred),2)\n",
    "\n",
    "# Menghitung nilai MAE, RMSE dan STDev\n",
    "EVar_AC = round(explained_variance_score(y_train.AC, y_pred.AC_pred)*100,2)\n",
    "RMSE_AC = round(mean_squared_error(y_train.AC, y_pred.AC_pred)**0.5,2)\n",
    "MAE_AC  = round(mean_absolute_error(y_train.AC, y_pred.AC_pred),2)\n",
    "Mean_AC = round(np.mean(training.e_AC),2)\n",
    "Std_AC  = round(np.std(training.e_AC),2)\n",
    "\n",
    "EVar_HT = round(explained_variance_score(y_train.HT, y_pred.HT_pred)*100,2)\n",
    "RMSE_HT = round(mean_squared_error(y_train.HT, y_pred.HT_pred)**0.5,2)\n",
    "MAE_HT  = round(mean_absolute_error(y_train.HT, y_pred.HT_pred),2)\n",
    "Mean_HT = round(np.mean(training.e_HT),2)\n",
    "Std_HT  = round(np.std(training.e_HT),2)\n",
    "\n",
    "# print errors as report\n",
    "print('Score = {}% R = {}% RMSE = {} MAE = {}'.format(EVar, R, RMSE, MAE))\n",
    "print()\n",
    "print('AC : Score = {}% RMSE = {} MAE = {} Mean = {} Std = {}'.format(EVar_AC, RMSE_AC, MAE_AC, Mean_AC, Std_AC))\n",
    "print('HT : Score = {}% RMSE = {} MAE = {} Mean = {} Std = {}'.format(EVar_HT, RMSE_HT, MAE_HT, Mean_HT, Std_HT))\n",
    "print()\n",
    "\n",
    "# Menyimpan data dalam berkas\n",
    "training.to_excel(\"Data/Controller/Training.xlsx\")"
   ]
  },
  {
   "cell_type": "code",
   "execution_count": 9,
   "metadata": {},
   "outputs": [
    {
     "name": "stdout",
     "output_type": "stream",
     "text": [
      "VALIDATION PROCESS\n",
      "----------------------------------------------------------------------------\n",
      "Score = 23.54% R = 48.18% RMSE = 7.51 MAE = 4.87\n",
      "\n",
      "AC : Score = 26.51% RMSE = 10.6 MAE = 9.13 Mean = -0.72 Std = 10.57\n",
      "HT : Score = 20.57% RMSE = 0.72 MAE = 0.6 Mean = -0.04 Std = 0.72\n",
      "\n"
     ]
    }
   ],
   "source": [
    "print('VALIDATION PROCESS')\n",
    "print('-'*76)\n",
    "\n",
    "# Prediksi model\n",
    "y_pred = model_mlp.predict(X_val)\n",
    "y_pred = pd.DataFrame(y_pred, columns=['AC_pred','HT_pred'])\n",
    "y_target = y_val[['AC','HT']]\n",
    "\n",
    "# Membuat DataFrame hasil\n",
    "y_target = y_target.reset_index()[['AC','HT']]\n",
    "validation = pd.concat([y_target,y_pred], axis=1)\n",
    "validation['e_AC'] = validation.AC - validation.AC_pred\n",
    "validation['e_HT'] = validation.HT - validation.HT_pred\n",
    "\n",
    "# Menghitung kinerja\n",
    "MAE  = round(mean_absolute_error(y_target , y_pred),2)\n",
    "RMSE = round(mean_squared_error(y_target, y_pred)**0.5,2)\n",
    "EVar = round(explained_variance_score(y_target , y_pred)*100,2)\n",
    "R    = round(r2_score(y_target , y_pred)**0.5*100,2)\n",
    "\n",
    "# Menghitung nilai MAE, RMSE dan STDev\n",
    "MAE_AC  = round(mean_absolute_error(y_val.AC, y_pred.AC_pred),2)\n",
    "RMSE_AC = round(mean_squared_error(y_val.AC, y_pred.AC_pred)**0.5,2)\n",
    "EVar_AC = round(explained_variance_score(y_val.AC, y_pred.AC_pred)*100,2)\n",
    "Mean_AC = round(np.mean(validation.e_AC),2)\n",
    "Std_AC  = round(np.std(validation.e_AC),2)\n",
    "\n",
    "MAE_HT  = round(mean_absolute_error(y_val.HT, y_pred.HT_pred),2)\n",
    "RMSE_HT = round(mean_squared_error(y_val.HT, y_pred.HT_pred)**0.5,2)\n",
    "EVar_HT = round(explained_variance_score(y_val.HT, y_pred.HT_pred)*100,2)\n",
    "Mean_HT = round(np.mean(validation.e_HT),2)\n",
    "Std_HT  = round(np.std(validation.e_HT),2)\n",
    "\n",
    "# print errors as report\n",
    "print('Score = {}% R = {}% RMSE = {} MAE = {}'.format(EVar, R, RMSE, MAE))\n",
    "print()\n",
    "print('AC : Score = {}% RMSE = {} MAE = {} Mean = {} Std = {}'.format(EVar_AC, RMSE_AC, MAE_AC, Mean_AC, Std_AC))\n",
    "print('HT : Score = {}% RMSE = {} MAE = {} Mean = {} Std = {}'.format(EVar_HT, RMSE_HT, MAE_HT, Mean_HT, Std_HT))\n",
    "print()\n",
    "\n",
    "# Menyimpan data dalam berkas\n",
    "validation.to_excel(\"Data/Controller/Validation.xlsx\")"
   ]
  },
  {
   "cell_type": "code",
   "execution_count": 10,
   "metadata": {},
   "outputs": [
    {
     "name": "stdout",
     "output_type": "stream",
     "text": [
      "TESTING PROCESS\n",
      "----------------------------------------------------------------------------\n",
      "Score = 22.82% R = 46.85% RMSE = 7.67 MAE = 4.96\n",
      "\n",
      "AC : Score = 22.02% RMSE = 10.83 MAE = 9.34 Mean = -0.72 Std = 10.57\n",
      "HT : Score = 23.61% RMSE = 0.69 MAE = 0.57 Mean = -0.04 Std = 0.72\n",
      "\n"
     ]
    }
   ],
   "source": [
    "# TESTING PROCESS\n",
    "print('TESTING PROCESS')\n",
    "print('-'*76)\n",
    "\n",
    "# Prediksi model\n",
    "y_pred = model_mlp.predict(X_test)\n",
    "y_pred = pd.DataFrame(y_pred, columns=['AC_pred','HT_pred'])\n",
    "y_target = y_test[['AC','HT']]\n",
    "\n",
    "# Membuat DataFrame hasil\n",
    "y_target = y_target.reset_index()[['AC','HT']]\n",
    "testing = pd.concat([y_target,y_pred], axis=1)\n",
    "testing['e_AC'] = testing.AC - testing.AC_pred\n",
    "testing['e_HT'] = testing.HT - testing.HT_pred\n",
    "\n",
    "# Menghitung kinerja\n",
    "MAE  = round(mean_absolute_error(y_target , y_pred),2)\n",
    "RMSE = round(mean_squared_error(y_target, y_pred)**0.5,2)\n",
    "EVar = round(explained_variance_score(y_target , y_pred)*100,2)\n",
    "R    = round(r2_score(y_target , y_pred)**0.5*100,2)\n",
    "\n",
    "# Menghitung nilai MAE, RMSE dan STDev\n",
    "MAE_AC  = round(mean_absolute_error(y_test.AC, y_pred.AC_pred),2)\n",
    "RMSE_AC = round(mean_squared_error(y_test.AC, y_pred.AC_pred)**0.5,2)\n",
    "EVar_AC = round(explained_variance_score(y_test.AC, y_pred.AC_pred)*100,2)\n",
    "Mean_AC = round(np.mean(validation.e_AC),2)\n",
    "Std_AC  = round(np.std(validation.e_AC),2)\n",
    "\n",
    "MAE_HT  = round(mean_absolute_error(y_test.HT, y_pred.HT_pred),2)\n",
    "RMSE_HT = round(mean_squared_error(y_test.HT, y_pred.HT_pred)**0.5,2)\n",
    "EVar_HT = round(explained_variance_score(y_test.HT, y_pred.HT_pred)*100,2)\n",
    "Mean_HT = round(np.mean(validation.e_HT),2)\n",
    "Std_HT  = round(np.std(validation.e_HT),2)\n",
    "\n",
    "# print errors as report\n",
    "print('Score = {}% R = {}% RMSE = {} MAE = {}'.format(EVar, R, RMSE, MAE))\n",
    "print()\n",
    "print('AC : Score = {}% RMSE = {} MAE = {} Mean = {} Std = {}'.format(EVar_AC, RMSE_AC, MAE_AC, Mean_AC, Std_AC))\n",
    "print('HT : Score = {}% RMSE = {} MAE = {} Mean = {} Std = {}'.format(EVar_HT, RMSE_HT, MAE_HT, Mean_HT, Std_HT))\n",
    "print()\n",
    "\n",
    "# Menyimpan data dalam berkas\n",
    "testing.to_excel(\"Data/Controller/Testing.xlsx\")"
   ]
  },
  {
   "cell_type": "markdown",
   "metadata": {
    "collapsed": true
   },
   "source": [
    "### Multi-Target Regression"
   ]
  },
  {
   "cell_type": "code",
   "execution_count": 23,
   "metadata": {},
   "outputs": [
    {
     "name": "stdout",
     "output_type": "stream",
     "text": [
      "DESIGN PROCESS\n",
      "----------------------------------------------------------------------------\n"
     ]
    }
   ],
   "source": [
    "# DESIGN PROCESS\n",
    "print('DESIGN PROCESS')\n",
    "print('-'*76)\n",
    "\n",
    "from sklearn.multioutput import MultiOutputRegressor\n",
    "\n",
    "# Perancangan Arsitektur\n",
    "multi_mlp = MultiOutputRegressor(model_mlp)"
   ]
  },
  {
   "cell_type": "code",
   "execution_count": 24,
   "metadata": {},
   "outputs": [
    {
     "name": "stdout",
     "output_type": "stream",
     "text": [
      "TRAINING PROCESS\n",
      "----------------------------------------------------------------------------\n",
      "Score = 7.77% R = 24.16% RMSE = 8.75 MAE = 6.21\n",
      "\n",
      "AC : Score = 0.64% RMSE = 12.35 MAE = 11.79 Mean = -0.17 Std = 12.35\n",
      "HT : Score = 14.9% RMSE = 0.75 MAE = 0.62 Mean = 0.16 Std = 0.74\n",
      "\n"
     ]
    }
   ],
   "source": [
    "# TRAINING PROCESS\n",
    "print('TRAINING PROCESS')\n",
    "print('-'*76)\n",
    "\n",
    "# Melakukan pelatihan (training) menggunakan 'fit'\n",
    "multi_mlp.fit(X_train, y_train)\n",
    "\n",
    "# Prediksi model\n",
    "y_pred = multi_mlp.predict(X_train)\n",
    "y_pred = pd.DataFrame(y_pred, columns=['AC_pred','HT_pred'])\n",
    "y_pred = round(y_pred)\n",
    "y_target = y_train\n",
    "\n",
    "# Membuat DataFrame hasil\n",
    "y_target = y_target.reset_index()[['AC','HT']]\n",
    "training = pd.concat([y_target,y_pred], axis=1)\n",
    "training['e_AC'] = training.AC - training.AC_pred\n",
    "training['e_HT'] = training.HT - training.HT_pred\n",
    "\n",
    "# Menghitung kinerja\n",
    "EVar = round(explained_variance_score(y_target, y_pred)*100,2)\n",
    "R    = round(r2_score(y_target, y_pred)**0.5*100,2)\n",
    "RMSE = round(mean_squared_error(y_target, y_pred)**0.5,2)\n",
    "MAE  = round(mean_absolute_error(y_target, y_pred),2)\n",
    "\n",
    "# Menghitung nilai MAE, RMSE dan STDev\n",
    "EVar_AC = round(explained_variance_score(y_train.AC, y_pred.AC_pred)*100,2)\n",
    "RMSE_AC = round(mean_squared_error(y_train.AC, y_pred.AC_pred)**0.5,2)\n",
    "MAE_AC  = round(mean_absolute_error(y_train.AC, y_pred.AC_pred),2)\n",
    "Mean_AC = round(np.mean(training.e_AC),2)\n",
    "Std_AC  = round(np.std(training.e_AC),2)\n",
    "\n",
    "EVar_HT = round(explained_variance_score(y_train.HT, y_pred.HT_pred)*100,2)\n",
    "RMSE_HT = round(mean_squared_error(y_train.HT, y_pred.HT_pred)**0.5,2)\n",
    "MAE_HT  = round(mean_absolute_error(y_train.HT, y_pred.HT_pred),2)\n",
    "Mean_HT = round(np.mean(training.e_HT),2)\n",
    "Std_HT  = round(np.std(training.e_HT),2)\n",
    "\n",
    "# print errors as report\n",
    "print('Score = {}% R = {}% RMSE = {} MAE = {}'.format(EVar, R, RMSE, MAE))\n",
    "print()\n",
    "print('AC : Score = {}% RMSE = {} MAE = {} Mean = {} Std = {}'.format(EVar_AC, RMSE_AC, MAE_AC, Mean_AC, Std_AC))\n",
    "print('HT : Score = {}% RMSE = {} MAE = {} Mean = {} Std = {}'.format(EVar_HT, RMSE_HT, MAE_HT, Mean_HT, Std_HT))\n",
    "print()\n",
    "\n",
    "# Menyimpan data dalam berkas\n",
    "training.to_excel(\"Data/Controller/Training_multi.xlsx\")"
   ]
  },
  {
   "cell_type": "code",
   "execution_count": 25,
   "metadata": {},
   "outputs": [
    {
     "name": "stdout",
     "output_type": "stream",
     "text": [
      "VALIDATION PROCESS\n",
      "----------------------------------------------------------------------------\n",
      "Score = 8.04% R = 23.96% RMSE = 8.72 MAE = 6.18\n",
      "\n",
      "AC : Score = 0.56% RMSE = 12.3 MAE = 11.74 Mean = -0.28 Std = 12.3\n",
      "HT : Score = 15.53% RMSE = 0.76 MAE = 0.63 Mean = 0.17 Std = 0.75\n",
      "\n"
     ]
    }
   ],
   "source": [
    "print('VALIDATION PROCESS')\n",
    "print('-'*76)\n",
    "\n",
    "# Prediksi model\n",
    "y_pred = multi_mlp.predict(X_val)\n",
    "y_pred = pd.DataFrame(y_pred, columns=['AC_pred','HT_pred'])\n",
    "y_pred = round(y_pred)\n",
    "y_target = y_val[['AC','HT']]\n",
    "\n",
    "# Membuat DataFrame hasil\n",
    "y_target = y_target.reset_index()[['AC','HT']]\n",
    "validation = pd.concat([y_target,y_pred], axis=1)\n",
    "validation['e_AC'] = validation.AC - validation.AC_pred\n",
    "validation['e_HT'] = validation.HT - validation.HT_pred\n",
    "\n",
    "# Menghitung kinerja\n",
    "MAE  = round(mean_absolute_error(y_target , y_pred),2)\n",
    "RMSE = round(mean_squared_error(y_target, y_pred)**0.5,2)\n",
    "EVar = round(explained_variance_score(y_target , y_pred)*100,2)\n",
    "R    = round(r2_score(y_target , y_pred)**0.5*100,2)\n",
    "\n",
    "# Menghitung nilai MAE, RMSE dan STDev\n",
    "MAE_AC  = round(mean_absolute_error(y_val.AC, y_pred.AC_pred),2)\n",
    "RMSE_AC = round(mean_squared_error(y_val.AC, y_pred.AC_pred)**0.5,2)\n",
    "EVar_AC = round(explained_variance_score(y_val.AC, y_pred.AC_pred)*100,2)\n",
    "Mean_AC = round(np.mean(validation.e_AC),2)\n",
    "Std_AC  = round(np.std(validation.e_AC),2)\n",
    "\n",
    "MAE_HT  = round(mean_absolute_error(y_val.HT, y_pred.HT_pred),2)\n",
    "RMSE_HT = round(mean_squared_error(y_val.HT, y_pred.HT_pred)**0.5,2)\n",
    "EVar_HT = round(explained_variance_score(y_val.HT, y_pred.HT_pred)*100,2)\n",
    "Mean_HT = round(np.mean(validation.e_HT),2)\n",
    "Std_HT  = round(np.std(validation.e_HT),2)\n",
    "\n",
    "# print errors as report\n",
    "print('Score = {}% R = {}% RMSE = {} MAE = {}'.format(EVar, R, RMSE, MAE))\n",
    "print()\n",
    "print('AC : Score = {}% RMSE = {} MAE = {} Mean = {} Std = {}'.format(EVar_AC, RMSE_AC, MAE_AC, Mean_AC, Std_AC))\n",
    "print('HT : Score = {}% RMSE = {} MAE = {} Mean = {} Std = {}'.format(EVar_HT, RMSE_HT, MAE_HT, Mean_HT, Std_HT))\n",
    "print()\n",
    "\n",
    "# Menyimpan data dalam berkas\n",
    "validation.to_excel(\"Data/Controller/Validation_multi.xlsx\")"
   ]
  },
  {
   "cell_type": "code",
   "execution_count": 26,
   "metadata": {},
   "outputs": [
    {
     "name": "stdout",
     "output_type": "stream",
     "text": [
      "TESTING PROCESS\n",
      "----------------------------------------------------------------------------\n",
      "Score = 9.01% R = 27.22% RMSE = 8.65 MAE = 6.13\n",
      "\n",
      "AC : Score = 0.37% RMSE = 12.21 MAE = 11.66 Mean = -0.28 Std = 12.3\n",
      "HT : Score = 17.66% RMSE = 0.72 MAE = 0.59 Mean = 0.17 Std = 0.75\n",
      "\n"
     ]
    }
   ],
   "source": [
    "# TESTING PROCESS\n",
    "print('TESTING PROCESS')\n",
    "print('-'*76)\n",
    "\n",
    "# Prediksi model\n",
    "y_pred = multi_mlp.predict(X_test)\n",
    "y_pred = pd.DataFrame(y_pred, columns=['AC_pred','HT_pred'])\n",
    "y_pred = round(y_pred)\n",
    "y_target = y_test[['AC','HT']]\n",
    "\n",
    "# Membuat DataFrame hasil\n",
    "y_target = y_target.reset_index()[['AC','HT']]\n",
    "testing = pd.concat([y_target,y_pred], axis=1)\n",
    "testing['e_AC'] = testing.AC - testing.AC_pred\n",
    "testing['e_HT'] = testing.HT - testing.HT_pred\n",
    "\n",
    "# Menghitung kinerja\n",
    "MAE  = round(mean_absolute_error(y_target , y_pred),2)\n",
    "RMSE = round(mean_squared_error(y_target, y_pred)**0.5,2)\n",
    "EVar = round(explained_variance_score(y_target , y_pred)*100,2)\n",
    "R    = round(r2_score(y_target , y_pred)**0.5*100,2)\n",
    "\n",
    "# Menghitung nilai MAE, RMSE dan STDev\n",
    "MAE_AC  = round(mean_absolute_error(y_test.AC, y_pred.AC_pred),2)\n",
    "RMSE_AC = round(mean_squared_error(y_test.AC, y_pred.AC_pred)**0.5,2)\n",
    "EVar_AC = round(explained_variance_score(y_test.AC, y_pred.AC_pred)*100,2)\n",
    "Mean_AC = round(np.mean(validation.e_AC),2)\n",
    "Std_AC  = round(np.std(validation.e_AC),2)\n",
    "\n",
    "MAE_HT  = round(mean_absolute_error(y_test.HT, y_pred.HT_pred),2)\n",
    "RMSE_HT = round(mean_squared_error(y_test.HT, y_pred.HT_pred)**0.5,2)\n",
    "EVar_HT = round(explained_variance_score(y_test.HT, y_pred.HT_pred)*100,2)\n",
    "Mean_HT = round(np.mean(validation.e_HT),2)\n",
    "Std_HT  = round(np.std(validation.e_HT),2)\n",
    "\n",
    "# print errors as report\n",
    "print('Score = {}% R = {}% RMSE = {} MAE = {}'.format(EVar, R, RMSE, MAE))\n",
    "print()\n",
    "print('AC : Score = {}% RMSE = {} MAE = {} Mean = {} Std = {}'.format(EVar_AC, RMSE_AC, MAE_AC, Mean_AC, Std_AC))\n",
    "print('HT : Score = {}% RMSE = {} MAE = {} Mean = {} Std = {}'.format(EVar_HT, RMSE_HT, MAE_HT, Mean_HT, Std_HT))\n",
    "print()\n",
    "\n",
    "# Menyimpan data dalam berkas\n",
    "testing.to_excel(\"Data/Controller/Testing_multi.xlsx\")"
   ]
  },
  {
   "cell_type": "code",
   "execution_count": null,
   "metadata": {
    "collapsed": true
   },
   "outputs": [],
   "source": []
  }
 ],
 "metadata": {
  "kernelspec": {
   "display_name": "Python 3",
   "language": "python",
   "name": "python3"
  },
  "language_info": {
   "codemirror_mode": {
    "name": "ipython",
    "version": 3
   },
   "file_extension": ".py",
   "mimetype": "text/x-python",
   "name": "python",
   "nbconvert_exporter": "python",
   "pygments_lexer": "ipython3",
   "version": "3.5.3"
  }
 },
 "nbformat": 4,
 "nbformat_minor": 2
}
