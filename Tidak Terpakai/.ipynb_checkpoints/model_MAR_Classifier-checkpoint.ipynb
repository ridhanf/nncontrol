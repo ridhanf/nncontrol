{
 "cells": [
  {
   "cell_type": "markdown",
   "metadata": {},
   "source": [
    "# Rancang Bangun Jaringan Saraf Tiruan untuk Sistem Kendali Lingkungan Termal Climate Chamber "
   ]
  },
  {
   "cell_type": "markdown",
   "metadata": {},
   "source": [
    "### Program Kecerdasan Buatan untuk membentuk model jaringan saraf tiruan dalam memenuhi Tugas Akhir program studi Teknik Fisika.\n",
    "### Data di Bulan Maret 2019"
   ]
  },
  {
   "cell_type": "code",
   "execution_count": 1,
   "metadata": {},
   "outputs": [
    {
     "name": "stdout",
     "output_type": "stream",
     "text": [
      "dataDES.xlsx\n",
      "dataJUN.xlsx\n",
      "dataMar.xlsx\n",
      "dataSEP.xlsx\n",
      "Data Simulasi IESVE (1-60).xlsx\n",
      "Data Simulasi IESVE (61-80).xlsx\n",
      "Data Simulasi IESVE (81-100).xlsx\n",
      "Data Training ANN (1-60).xlsx\n",
      "Data Training ANN (61-80).xlsx\n",
      "Data Training ANN (81-100).xlsx\n",
      "Data Training ANN Gabung (1-100).xlsx\n",
      "Data Training Musim 1. Mar.xlsx\n",
      "Data Training Musim 2. Jun.xlsx\n",
      "Data Training Musim 3. Sep.xlsx\n",
      "Data Training Musim 4. Des.xlsx\n",
      "\n"
     ]
    }
   ],
   "source": [
    "# Mengimpor pustaka untuk pengolahan data.\n",
    "import numpy as np\n",
    "import pandas as pd\n",
    "\n",
    "from subprocess import check_output\n",
    "print(check_output([\"ls\", \"../Data\"]).decode(\"utf8\"))"
   ]
  },
  {
   "cell_type": "code",
   "execution_count": 2,
   "metadata": {},
   "outputs": [],
   "source": [
    "# Mengimpor pustaka untuk visualisasi.\n",
    "import matplotlib.pyplot as plt\n",
    "%matplotlib inline \n",
    "import seaborn as sns"
   ]
  },
  {
   "cell_type": "code",
   "execution_count": 3,
   "metadata": {},
   "outputs": [],
   "source": [
    "# Memasukkan dataset ke dalam jupyter.\n",
    "dataMar = pd.read_excel('../Data/dataMar.xlsx')"
   ]
  },
  {
   "cell_type": "code",
   "execution_count": 4,
   "metadata": {},
   "outputs": [
    {
     "data": {
      "text/html": [
       "<div>\n",
       "<style scoped>\n",
       "    .dataframe tbody tr th:only-of-type {\n",
       "        vertical-align: middle;\n",
       "    }\n",
       "\n",
       "    .dataframe tbody tr th {\n",
       "        vertical-align: top;\n",
       "    }\n",
       "\n",
       "    .dataframe thead th {\n",
       "        text-align: right;\n",
       "    }\n",
       "</style>\n",
       "<table border=\"1\" class=\"dataframe\">\n",
       "  <thead>\n",
       "    <tr style=\"text-align: right;\">\n",
       "      <th></th>\n",
       "      <th>No</th>\n",
       "      <th>Time</th>\n",
       "      <th>Heater</th>\n",
       "      <th>AC</th>\n",
       "      <th>DrybulbT</th>\n",
       "      <th>Radiation</th>\n",
       "      <th>AirT</th>\n",
       "      <th>RH</th>\n",
       "      <th>DT</th>\n",
       "    </tr>\n",
       "  </thead>\n",
       "  <tbody>\n",
       "    <tr>\n",
       "      <td>0</td>\n",
       "      <td>1</td>\n",
       "      <td>00:03:00</td>\n",
       "      <td>0</td>\n",
       "      <td>0</td>\n",
       "      <td>24.08</td>\n",
       "      <td>0.0</td>\n",
       "      <td>24.03</td>\n",
       "      <td>70.64</td>\n",
       "      <td>DT1</td>\n",
       "    </tr>\n",
       "    <tr>\n",
       "      <td>1</td>\n",
       "      <td>2</td>\n",
       "      <td>00:09:00</td>\n",
       "      <td>0</td>\n",
       "      <td>0</td>\n",
       "      <td>24.08</td>\n",
       "      <td>0.0</td>\n",
       "      <td>24.03</td>\n",
       "      <td>70.72</td>\n",
       "      <td>NaN</td>\n",
       "    </tr>\n",
       "    <tr>\n",
       "      <td>2</td>\n",
       "      <td>3</td>\n",
       "      <td>00:15:00</td>\n",
       "      <td>0</td>\n",
       "      <td>0</td>\n",
       "      <td>24.08</td>\n",
       "      <td>0.0</td>\n",
       "      <td>24.04</td>\n",
       "      <td>70.81</td>\n",
       "      <td>NaN</td>\n",
       "    </tr>\n",
       "    <tr>\n",
       "      <td>3</td>\n",
       "      <td>4</td>\n",
       "      <td>00:21:00</td>\n",
       "      <td>0</td>\n",
       "      <td>0</td>\n",
       "      <td>24.08</td>\n",
       "      <td>0.0</td>\n",
       "      <td>24.04</td>\n",
       "      <td>70.90</td>\n",
       "      <td>NaN</td>\n",
       "    </tr>\n",
       "    <tr>\n",
       "      <td>4</td>\n",
       "      <td>5</td>\n",
       "      <td>00:27:00</td>\n",
       "      <td>0</td>\n",
       "      <td>0</td>\n",
       "      <td>24.08</td>\n",
       "      <td>0.0</td>\n",
       "      <td>24.04</td>\n",
       "      <td>70.99</td>\n",
       "      <td>NaN</td>\n",
       "    </tr>\n",
       "  </tbody>\n",
       "</table>\n",
       "</div>"
      ],
      "text/plain": [
       "   No      Time  Heater  AC  DrybulbT  Radiation   AirT     RH   DT\n",
       "0   1  00:03:00       0   0     24.08        0.0  24.03  70.64  DT1\n",
       "1   2  00:09:00       0   0     24.08        0.0  24.03  70.72  NaN\n",
       "2   3  00:15:00       0   0     24.08        0.0  24.04  70.81  NaN\n",
       "3   4  00:21:00       0   0     24.08        0.0  24.04  70.90  NaN\n",
       "4   5  00:27:00       0   0     24.08        0.0  24.04  70.99  NaN"
      ]
     },
     "execution_count": 4,
     "metadata": {},
     "output_type": "execute_result"
    }
   ],
   "source": [
    "# Menampilkan 5 data teratas.\n",
    "dataMar.head()"
   ]
  },
  {
   "cell_type": "code",
   "execution_count": 5,
   "metadata": {},
   "outputs": [],
   "source": [
    "# Membuang fitur No, Time dan DT.\n",
    "dataMar = dataMar.drop(['No','Time','DT'], axis =1)"
   ]
  },
  {
   "cell_type": "code",
   "execution_count": 6,
   "metadata": {},
   "outputs": [
    {
     "data": {
      "text/html": [
       "<div>\n",
       "<style scoped>\n",
       "    .dataframe tbody tr th:only-of-type {\n",
       "        vertical-align: middle;\n",
       "    }\n",
       "\n",
       "    .dataframe tbody tr th {\n",
       "        vertical-align: top;\n",
       "    }\n",
       "\n",
       "    .dataframe thead th {\n",
       "        text-align: right;\n",
       "    }\n",
       "</style>\n",
       "<table border=\"1\" class=\"dataframe\">\n",
       "  <thead>\n",
       "    <tr style=\"text-align: right;\">\n",
       "      <th></th>\n",
       "      <th>Heater</th>\n",
       "      <th>AC</th>\n",
       "      <th>DrybulbT</th>\n",
       "      <th>Radiation</th>\n",
       "      <th>AirT</th>\n",
       "      <th>RH</th>\n",
       "    </tr>\n",
       "  </thead>\n",
       "  <tbody>\n",
       "    <tr>\n",
       "      <td>count</td>\n",
       "      <td>6000.000000</td>\n",
       "      <td>6000.000000</td>\n",
       "      <td>6000.000000</td>\n",
       "      <td>6000.000000</td>\n",
       "      <td>6000.000000</td>\n",
       "      <td>6000.000000</td>\n",
       "    </tr>\n",
       "    <tr>\n",
       "      <td>mean</td>\n",
       "      <td>0.600000</td>\n",
       "      <td>9.375000</td>\n",
       "      <td>25.211667</td>\n",
       "      <td>104.668917</td>\n",
       "      <td>24.568788</td>\n",
       "      <td>94.383172</td>\n",
       "    </tr>\n",
       "    <tr>\n",
       "      <td>std</td>\n",
       "      <td>0.800067</td>\n",
       "      <td>12.379819</td>\n",
       "      <td>1.464896</td>\n",
       "      <td>172.175583</td>\n",
       "      <td>2.428443</td>\n",
       "      <td>7.556413</td>\n",
       "    </tr>\n",
       "    <tr>\n",
       "      <td>min</td>\n",
       "      <td>0.000000</td>\n",
       "      <td>0.000000</td>\n",
       "      <td>22.920000</td>\n",
       "      <td>0.000000</td>\n",
       "      <td>16.000000</td>\n",
       "      <td>70.030000</td>\n",
       "    </tr>\n",
       "    <tr>\n",
       "      <td>25%</td>\n",
       "      <td>0.000000</td>\n",
       "      <td>0.000000</td>\n",
       "      <td>23.952500</td>\n",
       "      <td>0.000000</td>\n",
       "      <td>24.010000</td>\n",
       "      <td>90.887500</td>\n",
       "    </tr>\n",
       "    <tr>\n",
       "      <td>50%</td>\n",
       "      <td>0.000000</td>\n",
       "      <td>0.000000</td>\n",
       "      <td>25.050000</td>\n",
       "      <td>0.000000</td>\n",
       "      <td>24.755000</td>\n",
       "      <td>98.430000</td>\n",
       "    </tr>\n",
       "    <tr>\n",
       "      <td>75%</td>\n",
       "      <td>1.000000</td>\n",
       "      <td>24.000000</td>\n",
       "      <td>26.667500</td>\n",
       "      <td>140.000000</td>\n",
       "      <td>26.000000</td>\n",
       "      <td>99.990000</td>\n",
       "    </tr>\n",
       "    <tr>\n",
       "      <td>max</td>\n",
       "      <td>2.000000</td>\n",
       "      <td>30.000000</td>\n",
       "      <td>27.300000</td>\n",
       "      <td>660.271000</td>\n",
       "      <td>30.020000</td>\n",
       "      <td>100.000000</td>\n",
       "    </tr>\n",
       "  </tbody>\n",
       "</table>\n",
       "</div>"
      ],
      "text/plain": [
       "            Heater           AC     DrybulbT    Radiation         AirT  \\\n",
       "count  6000.000000  6000.000000  6000.000000  6000.000000  6000.000000   \n",
       "mean      0.600000     9.375000    25.211667   104.668917    24.568788   \n",
       "std       0.800067    12.379819     1.464896   172.175583     2.428443   \n",
       "min       0.000000     0.000000    22.920000     0.000000    16.000000   \n",
       "25%       0.000000     0.000000    23.952500     0.000000    24.010000   \n",
       "50%       0.000000     0.000000    25.050000     0.000000    24.755000   \n",
       "75%       1.000000    24.000000    26.667500   140.000000    26.000000   \n",
       "max       2.000000    30.000000    27.300000   660.271000    30.020000   \n",
       "\n",
       "                RH  \n",
       "count  6000.000000  \n",
       "mean     94.383172  \n",
       "std       7.556413  \n",
       "min      70.030000  \n",
       "25%      90.887500  \n",
       "50%      98.430000  \n",
       "75%      99.990000  \n",
       "max     100.000000  "
      ]
     },
     "execution_count": 6,
     "metadata": {},
     "output_type": "execute_result"
    }
   ],
   "source": [
    "# Memeriksa persebaran statistik data.\n",
    "dataMar.describe()"
   ]
  },
  {
   "cell_type": "code",
   "execution_count": 7,
   "metadata": {},
   "outputs": [
    {
     "name": "stdout",
     "output_type": "stream",
     "text": [
      "<class 'pandas.core.frame.DataFrame'>\n",
      "RangeIndex: 6000 entries, 0 to 5999\n",
      "Data columns (total 6 columns):\n",
      "Heater       6000 non-null int64\n",
      "AC           6000 non-null int64\n",
      "DrybulbT     6000 non-null float64\n",
      "Radiation    6000 non-null float64\n",
      "AirT         6000 non-null float64\n",
      "RH           6000 non-null float64\n",
      "dtypes: float64(4), int64(2)\n",
      "memory usage: 281.4 KB\n"
     ]
    }
   ],
   "source": [
    "# Memeriksa nilai yang kosong.\n",
    "dataMar.info()"
   ]
  },
  {
   "cell_type": "markdown",
   "metadata": {},
   "source": [
    "## Klasifikasi menggunakan Multi-Layer Perceptron"
   ]
  },
  {
   "cell_type": "code",
   "execution_count": 8,
   "metadata": {},
   "outputs": [],
   "source": [
    "from sklearn.neural_network import MLPClassifier\n",
    "from sklearn.model_selection import train_test_split\n",
    "from sklearn.metrics import accuracy_score\n",
    "from sklearn.metrics import confusion_matrix"
   ]
  },
  {
   "cell_type": "code",
   "execution_count": 9,
   "metadata": {},
   "outputs": [],
   "source": [
    "# Memisahkan data input dan data target.\n",
    "x = dataMar[['DrybulbT','Radiation','AirT','RH']] # Data Input\n",
    "y = dataMar[['Heater','AC']]                      # Data Target"
   ]
  },
  {
   "cell_type": "code",
   "execution_count": 10,
   "metadata": {},
   "outputs": [],
   "source": [
    "# Variabel untuk pembuatan grafik\n",
    "DrybulbT  = x['DrybulbT']\n",
    "Radiation = x['Radiation']\n",
    "AirT      = x['AirT']\n",
    "RH        = x['RH']\n",
    "Heater    = y['Heater']\n",
    "AC        = y['AC']"
   ]
  },
  {
   "cell_type": "code",
   "execution_count": 11,
   "metadata": {},
   "outputs": [],
   "source": [
    "# One Hot Encoding\n",
    "y = pd.get_dummies(y, columns = ['Heater','AC'])"
   ]
  },
  {
   "cell_type": "code",
   "execution_count": 12,
   "metadata": {},
   "outputs": [
    {
     "name": "stdout",
     "output_type": "stream",
     "text": [
      "(4800, 4) (1200, 4) (4800, 17) (1200, 17)\n"
     ]
    }
   ],
   "source": [
    "# Memisahkan data pelatihan (training) dan data pengujian (testing).\n",
    "x_train, x_test, y_train, y_test = train_test_split(x, y, test_size=(0.20), random_state=27)\n",
    "print(x_train.shape, x_test.shape, y_train.shape, y_test.shape)"
   ]
  },
  {
   "cell_type": "code",
   "execution_count": 13,
   "metadata": {},
   "outputs": [
    {
     "data": {
      "text/html": [
       "<div>\n",
       "<style scoped>\n",
       "    .dataframe tbody tr th:only-of-type {\n",
       "        vertical-align: middle;\n",
       "    }\n",
       "\n",
       "    .dataframe tbody tr th {\n",
       "        vertical-align: top;\n",
       "    }\n",
       "\n",
       "    .dataframe thead th {\n",
       "        text-align: right;\n",
       "    }\n",
       "</style>\n",
       "<table border=\"1\" class=\"dataframe\">\n",
       "  <thead>\n",
       "    <tr style=\"text-align: right;\">\n",
       "      <th></th>\n",
       "      <th>Heater</th>\n",
       "      <th>AC_0</th>\n",
       "      <th>AC_16</th>\n",
       "      <th>AC_17</th>\n",
       "      <th>AC_18</th>\n",
       "      <th>AC_19</th>\n",
       "      <th>AC_20</th>\n",
       "      <th>AC_21</th>\n",
       "      <th>AC_22</th>\n",
       "      <th>AC_23</th>\n",
       "      <th>AC_24</th>\n",
       "      <th>AC_25</th>\n",
       "      <th>AC_26</th>\n",
       "      <th>AC_27</th>\n",
       "      <th>AC_28</th>\n",
       "      <th>AC_29</th>\n",
       "      <th>AC_30</th>\n",
       "    </tr>\n",
       "  </thead>\n",
       "  <tbody>\n",
       "    <tr>\n",
       "      <td>943</td>\n",
       "      <td>0</td>\n",
       "      <td>1</td>\n",
       "      <td>0</td>\n",
       "      <td>0</td>\n",
       "      <td>0</td>\n",
       "      <td>0</td>\n",
       "      <td>0</td>\n",
       "      <td>0</td>\n",
       "      <td>0</td>\n",
       "      <td>0</td>\n",
       "      <td>0</td>\n",
       "      <td>0</td>\n",
       "      <td>0</td>\n",
       "      <td>0</td>\n",
       "      <td>0</td>\n",
       "      <td>0</td>\n",
       "      <td>0</td>\n",
       "    </tr>\n",
       "    <tr>\n",
       "      <td>4085</td>\n",
       "      <td>1</td>\n",
       "      <td>1</td>\n",
       "      <td>0</td>\n",
       "      <td>0</td>\n",
       "      <td>0</td>\n",
       "      <td>0</td>\n",
       "      <td>0</td>\n",
       "      <td>0</td>\n",
       "      <td>0</td>\n",
       "      <td>0</td>\n",
       "      <td>0</td>\n",
       "      <td>0</td>\n",
       "      <td>0</td>\n",
       "      <td>0</td>\n",
       "      <td>0</td>\n",
       "      <td>0</td>\n",
       "      <td>0</td>\n",
       "    </tr>\n",
       "    <tr>\n",
       "      <td>283</td>\n",
       "      <td>0</td>\n",
       "      <td>1</td>\n",
       "      <td>0</td>\n",
       "      <td>0</td>\n",
       "      <td>0</td>\n",
       "      <td>0</td>\n",
       "      <td>0</td>\n",
       "      <td>0</td>\n",
       "      <td>0</td>\n",
       "      <td>0</td>\n",
       "      <td>0</td>\n",
       "      <td>0</td>\n",
       "      <td>0</td>\n",
       "      <td>0</td>\n",
       "      <td>0</td>\n",
       "      <td>0</td>\n",
       "      <td>0</td>\n",
       "    </tr>\n",
       "    <tr>\n",
       "      <td>4021</td>\n",
       "      <td>1</td>\n",
       "      <td>1</td>\n",
       "      <td>0</td>\n",
       "      <td>0</td>\n",
       "      <td>0</td>\n",
       "      <td>0</td>\n",
       "      <td>0</td>\n",
       "      <td>0</td>\n",
       "      <td>0</td>\n",
       "      <td>0</td>\n",
       "      <td>0</td>\n",
       "      <td>0</td>\n",
       "      <td>0</td>\n",
       "      <td>0</td>\n",
       "      <td>0</td>\n",
       "      <td>0</td>\n",
       "      <td>0</td>\n",
       "    </tr>\n",
       "    <tr>\n",
       "      <td>4560</td>\n",
       "      <td>1</td>\n",
       "      <td>1</td>\n",
       "      <td>0</td>\n",
       "      <td>0</td>\n",
       "      <td>0</td>\n",
       "      <td>0</td>\n",
       "      <td>0</td>\n",
       "      <td>0</td>\n",
       "      <td>0</td>\n",
       "      <td>0</td>\n",
       "      <td>0</td>\n",
       "      <td>0</td>\n",
       "      <td>0</td>\n",
       "      <td>0</td>\n",
       "      <td>0</td>\n",
       "      <td>0</td>\n",
       "      <td>0</td>\n",
       "    </tr>\n",
       "  </tbody>\n",
       "</table>\n",
       "</div>"
      ],
      "text/plain": [
       "      Heater  AC_0  AC_16  AC_17  AC_18  AC_19  AC_20  AC_21  AC_22  AC_23  \\\n",
       "943        0     1      0      0      0      0      0      0      0      0   \n",
       "4085       1     1      0      0      0      0      0      0      0      0   \n",
       "283        0     1      0      0      0      0      0      0      0      0   \n",
       "4021       1     1      0      0      0      0      0      0      0      0   \n",
       "4560       1     1      0      0      0      0      0      0      0      0   \n",
       "\n",
       "      AC_24  AC_25  AC_26  AC_27  AC_28  AC_29  AC_30  \n",
       "943       0      0      0      0      0      0      0  \n",
       "4085      0      0      0      0      0      0      0  \n",
       "283       0      0      0      0      0      0      0  \n",
       "4021      0      0      0      0      0      0      0  \n",
       "4560      0      0      0      0      0      0      0  "
      ]
     },
     "execution_count": 13,
     "metadata": {},
     "output_type": "execute_result"
    }
   ],
   "source": [
    "# Validasi data telah teracak\n",
    "y_test.head()"
   ]
  },
  {
   "cell_type": "code",
   "execution_count": 14,
   "metadata": {},
   "outputs": [],
   "source": [
    "x_train_v = x_train.values\n",
    "x_test_v = x_test.values\n",
    "y_train_v = y_train.values\n",
    "y_test_v = y_test.values"
   ]
  },
  {
   "cell_type": "code",
   "execution_count": 15,
   "metadata": {},
   "outputs": [],
   "source": [
    "# # Mencari jumlah hidden layer dan neuron optimal\n",
    "# import operator\n",
    "\n",
    "# def ann(m,n):\n",
    "#     return MLPClassifier(hidden_layer_sizes=(m,n), max_iter=500, alpha=0.0001, solver='adam', verbose=10,  random_state=21, tol=0.000000001)\n",
    "\n",
    "# daftar = {}\n",
    "# for i in range(4,6):\n",
    "#     for j in range(2,4):\n",
    "#         model = ann(i,j)\n",
    "#         model.fit(x_train_v, y_train_v)\n",
    "#         y_pred = model.predict(x_test_v)\n",
    "#         accuracy = accuracy_score(y_test_v, y_pred)\n",
    "#         key = str(i) + ',' + str(j)\n",
    "#         daftar[key] = accuracy\n",
    "#         if accuracy >= 50:\n",
    "#             neuron = {i,j}\n",
    "#             break\n",
    "#         else:\n",
    "#             neuron = max(daftar.items(), key=operator.itemgetter(1))[0]\n",
    "\n",
    "# print(neuron, daftar)"
   ]
  },
  {
   "cell_type": "code",
   "execution_count": 16,
   "metadata": {},
   "outputs": [],
   "source": [
    "# Pembuatan model\n",
    "model_clf = MLPClassifier(activation='relu', hidden_layer_sizes=(100,75,100), max_iter=500, alpha=0.0001,\n",
    "                     solver='adam', verbose=10,  random_state=21, tol=0.000000001)\n",
    "# model_clf = MLPClassifier()"
   ]
  },
  {
   "cell_type": "code",
   "execution_count": 17,
   "metadata": {},
   "outputs": [
    {
     "ename": "ValueError",
     "evalue": "Multioutput target data is not supported with label binarization",
     "output_type": "error",
     "traceback": [
      "\u001b[0;31m---------------------------------------------------------------------------\u001b[0m",
      "\u001b[0;31mValueError\u001b[0m                                Traceback (most recent call last)",
      "\u001b[0;32m<ipython-input-17-18591a1484df>\u001b[0m in \u001b[0;36m<module>\u001b[0;34m\u001b[0m\n\u001b[0;32m----> 1\u001b[0;31m \u001b[0mmodel_clf\u001b[0m\u001b[0;34m.\u001b[0m\u001b[0mfit\u001b[0m\u001b[0;34m(\u001b[0m\u001b[0mx_train\u001b[0m\u001b[0;34m,\u001b[0m \u001b[0my_train\u001b[0m\u001b[0;34m)\u001b[0m     \u001b[0;31m# Pelatihan model\u001b[0m\u001b[0;34m\u001b[0m\u001b[0;34m\u001b[0m\u001b[0m\n\u001b[0m",
      "\u001b[0;32m~/miniconda3/envs/ML/lib/python3.7/site-packages/sklearn/neural_network/multilayer_perceptron.py\u001b[0m in \u001b[0;36mfit\u001b[0;34m(self, X, y)\u001b[0m\n\u001b[1;32m    980\u001b[0m         \"\"\"\n\u001b[1;32m    981\u001b[0m         return self._fit(X, y, incremental=(self.warm_start and\n\u001b[0;32m--> 982\u001b[0;31m                                             hasattr(self, \"classes_\")))\n\u001b[0m\u001b[1;32m    983\u001b[0m \u001b[0;34m\u001b[0m\u001b[0m\n\u001b[1;32m    984\u001b[0m     \u001b[0;34m@\u001b[0m\u001b[0mproperty\u001b[0m\u001b[0;34m\u001b[0m\u001b[0;34m\u001b[0m\u001b[0m\n",
      "\u001b[0;32m~/miniconda3/envs/ML/lib/python3.7/site-packages/sklearn/neural_network/multilayer_perceptron.py\u001b[0m in \u001b[0;36m_fit\u001b[0;34m(self, X, y, incremental)\u001b[0m\n\u001b[1;32m    321\u001b[0m                              hidden_layer_sizes)\n\u001b[1;32m    322\u001b[0m \u001b[0;34m\u001b[0m\u001b[0m\n\u001b[0;32m--> 323\u001b[0;31m         \u001b[0mX\u001b[0m\u001b[0;34m,\u001b[0m \u001b[0my\u001b[0m \u001b[0;34m=\u001b[0m \u001b[0mself\u001b[0m\u001b[0;34m.\u001b[0m\u001b[0m_validate_input\u001b[0m\u001b[0;34m(\u001b[0m\u001b[0mX\u001b[0m\u001b[0;34m,\u001b[0m \u001b[0my\u001b[0m\u001b[0;34m,\u001b[0m \u001b[0mincremental\u001b[0m\u001b[0;34m)\u001b[0m\u001b[0;34m\u001b[0m\u001b[0;34m\u001b[0m\u001b[0m\n\u001b[0m\u001b[1;32m    324\u001b[0m         \u001b[0mn_samples\u001b[0m\u001b[0;34m,\u001b[0m \u001b[0mn_features\u001b[0m \u001b[0;34m=\u001b[0m \u001b[0mX\u001b[0m\u001b[0;34m.\u001b[0m\u001b[0mshape\u001b[0m\u001b[0;34m\u001b[0m\u001b[0;34m\u001b[0m\u001b[0m\n\u001b[1;32m    325\u001b[0m \u001b[0;34m\u001b[0m\u001b[0m\n",
      "\u001b[0;32m~/miniconda3/envs/ML/lib/python3.7/site-packages/sklearn/neural_network/multilayer_perceptron.py\u001b[0m in \u001b[0;36m_validate_input\u001b[0;34m(self, X, y, incremental)\u001b[0m\n\u001b[1;32m    923\u001b[0m         \u001b[0;32mif\u001b[0m \u001b[0;32mnot\u001b[0m \u001b[0mincremental\u001b[0m\u001b[0;34m:\u001b[0m\u001b[0;34m\u001b[0m\u001b[0;34m\u001b[0m\u001b[0m\n\u001b[1;32m    924\u001b[0m             \u001b[0mself\u001b[0m\u001b[0;34m.\u001b[0m\u001b[0m_label_binarizer\u001b[0m \u001b[0;34m=\u001b[0m \u001b[0mLabelBinarizer\u001b[0m\u001b[0;34m(\u001b[0m\u001b[0;34m)\u001b[0m\u001b[0;34m\u001b[0m\u001b[0;34m\u001b[0m\u001b[0m\n\u001b[0;32m--> 925\u001b[0;31m             \u001b[0mself\u001b[0m\u001b[0;34m.\u001b[0m\u001b[0m_label_binarizer\u001b[0m\u001b[0;34m.\u001b[0m\u001b[0mfit\u001b[0m\u001b[0;34m(\u001b[0m\u001b[0my\u001b[0m\u001b[0;34m)\u001b[0m\u001b[0;34m\u001b[0m\u001b[0;34m\u001b[0m\u001b[0m\n\u001b[0m\u001b[1;32m    926\u001b[0m             \u001b[0mself\u001b[0m\u001b[0;34m.\u001b[0m\u001b[0mclasses_\u001b[0m \u001b[0;34m=\u001b[0m \u001b[0mself\u001b[0m\u001b[0;34m.\u001b[0m\u001b[0m_label_binarizer\u001b[0m\u001b[0;34m.\u001b[0m\u001b[0mclasses_\u001b[0m\u001b[0;34m\u001b[0m\u001b[0;34m\u001b[0m\u001b[0m\n\u001b[1;32m    927\u001b[0m         \u001b[0;32melif\u001b[0m \u001b[0mself\u001b[0m\u001b[0;34m.\u001b[0m\u001b[0mwarm_start\u001b[0m\u001b[0;34m:\u001b[0m\u001b[0;34m\u001b[0m\u001b[0;34m\u001b[0m\u001b[0m\n",
      "\u001b[0;32m~/miniconda3/envs/ML/lib/python3.7/site-packages/sklearn/preprocessing/label.py\u001b[0m in \u001b[0;36mfit\u001b[0;34m(self, y)\u001b[0m\n\u001b[1;32m    408\u001b[0m         \u001b[0mself\u001b[0m\u001b[0;34m.\u001b[0m\u001b[0my_type_\u001b[0m \u001b[0;34m=\u001b[0m \u001b[0mtype_of_target\u001b[0m\u001b[0;34m(\u001b[0m\u001b[0my\u001b[0m\u001b[0;34m)\u001b[0m\u001b[0;34m\u001b[0m\u001b[0;34m\u001b[0m\u001b[0m\n\u001b[1;32m    409\u001b[0m         \u001b[0;32mif\u001b[0m \u001b[0;34m'multioutput'\u001b[0m \u001b[0;32min\u001b[0m \u001b[0mself\u001b[0m\u001b[0;34m.\u001b[0m\u001b[0my_type_\u001b[0m\u001b[0;34m:\u001b[0m\u001b[0;34m\u001b[0m\u001b[0;34m\u001b[0m\u001b[0m\n\u001b[0;32m--> 410\u001b[0;31m             raise ValueError(\"Multioutput target data is not supported with \"\n\u001b[0m\u001b[1;32m    411\u001b[0m                              \"label binarization\")\n\u001b[1;32m    412\u001b[0m         \u001b[0;32mif\u001b[0m \u001b[0m_num_samples\u001b[0m\u001b[0;34m(\u001b[0m\u001b[0my\u001b[0m\u001b[0;34m)\u001b[0m \u001b[0;34m==\u001b[0m \u001b[0;36m0\u001b[0m\u001b[0;34m:\u001b[0m\u001b[0;34m\u001b[0m\u001b[0;34m\u001b[0m\u001b[0m\n",
      "\u001b[0;31mValueError\u001b[0m: Multioutput target data is not supported with label binarization"
     ]
    }
   ],
   "source": [
    "model_clf.fit(x_train, y_train)     # Pelatihan model"
   ]
  },
  {
   "cell_type": "code",
   "execution_count": null,
   "metadata": {},
   "outputs": [],
   "source": [
    "y_pred = model_clf.predict(x_test)  # Prediksi output\n",
    "accuracy_score(y_test, y_pred)      # Menampilkan akurasi prediksi"
   ]
  },
  {
   "cell_type": "code",
   "execution_count": null,
   "metadata": {},
   "outputs": [],
   "source": [
    "y_pred"
   ]
  },
  {
   "cell_type": "code",
   "execution_count": null,
   "metadata": {},
   "outputs": [],
   "source": [
    "# Menampilkan confusion matrix\n",
    "cm = confusion_matrix(y_test, y_pred)\n",
    "cm"
   ]
  },
  {
   "cell_type": "markdown",
   "metadata": {},
   "source": [
    "# Visualisasi"
   ]
  },
  {
   "cell_type": "code",
   "execution_count": null,
   "metadata": {},
   "outputs": [],
   "source": [
    "# plot a line, a perfit predict would all fall on this line\n",
    "plt.subplot(2, 1, 1)\n",
    "plt.title('Grafik AirT terhadap AC dan Heater')\n",
    "plt.plot(AirT, AC, '.')\n",
    "plt.plot(AirT, AC, 'r.')\n",
    "plt.ylabel('AC')\n",
    "\n",
    "plt.subplot(2, 1, 2)\n",
    "plt.plot(AirT, Heater, '.')\n",
    "plt.plot(AirT, Heater, 'r.')\n",
    "plt.xlabel('Airt')\n",
    "plt.ylabel('Heater')\n",
    "\n",
    "plt.show()"
   ]
  },
  {
   "cell_type": "code",
   "execution_count": null,
   "metadata": {},
   "outputs": [],
   "source": [
    "plt.subplot(2, 1, 1)\n",
    "plt.title('Grafik AC terhadap AirT dan RH')\n",
    "plt.plot(x_test.values[:,1], y_test.values[:,0], '.')\n",
    "plt.plot(x_test.values[:,1], y_pred[:,0], 'r.')\n",
    "plt.ylabel('AirT')\n",
    "\n",
    "plt.subplot(2, 1, 2)\n",
    "plt.plot(x_test.values[:,1], y_test.values[:,1], '.')\n",
    "plt.plot(x_test.values[:,1], y_pred[:,1], 'r.')\n",
    "plt.xlabel('AC')\n",
    "plt.ylabel('RH')\n",
    "\n",
    "plt.show()"
   ]
  },
  {
   "cell_type": "code",
   "execution_count": null,
   "metadata": {},
   "outputs": [],
   "source": [
    "plt.subplot(2, 1, 1)\n",
    "plt.title('Grafik DrybulbT terhadap AirT dan RH')\n",
    "plt.plot(x_test.values[:,2], y_test.values[:,0], '.')\n",
    "plt.plot(x_test.values[:,2], y_pred[:,0], 'r.')\n",
    "plt.ylabel('AirT')\n",
    "\n",
    "plt.subplot(2, 1, 2)\n",
    "plt.plot(x_test.values[:,2], y_test.values[:,1], '.')\n",
    "plt.plot(x_test.values[:,2], y_pred[:,1], 'r.')\n",
    "plt.xlabel('DrybulbT')\n",
    "plt.ylabel('RH')\n",
    "\n",
    "plt.show()"
   ]
  },
  {
   "cell_type": "code",
   "execution_count": null,
   "metadata": {},
   "outputs": [],
   "source": [
    "plt.subplot(2, 1, 1)\n",
    "plt.title('Grafik Radiation terhadap AirT dan RH')\n",
    "plt.plot(x_test.values[:,3], y_test.values[:,0], '.')\n",
    "plt.plot(x_test.values[:,3], y_pred[:,0], 'r.')\n",
    "plt.ylabel('AirT')\n",
    "\n",
    "plt.subplot(2, 1, 2)\n",
    "plt.plot(x_test.values[:,3], y_test.values[:,1], '.')\n",
    "plt.plot(x_test.values[:,3], y_pred[:,1], 'r.')\n",
    "plt.xlabel('Radiation')\n",
    "plt.ylabel('RH')\n",
    "\n",
    "plt.show()"
   ]
  },
  {
   "cell_type": "code",
   "execution_count": null,
   "metadata": {},
   "outputs": [],
   "source": []
  },
  {
   "cell_type": "code",
   "execution_count": null,
   "metadata": {},
   "outputs": [],
   "source": []
  }
 ],
 "metadata": {
  "kernelspec": {
   "display_name": "Python 3",
   "language": "python",
   "name": "python3"
  },
  "language_info": {
   "codemirror_mode": {
    "name": "ipython",
    "version": 3
   },
   "file_extension": ".py",
   "mimetype": "text/x-python",
   "name": "python",
   "nbconvert_exporter": "python",
   "pygments_lexer": "ipython3",
   "version": "3.7.4"
  }
 },
 "nbformat": 4,
 "nbformat_minor": 2
}
