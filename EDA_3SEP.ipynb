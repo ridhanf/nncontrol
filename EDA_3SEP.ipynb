{
 "cells": [
  {
   "cell_type": "markdown",
   "metadata": {},
   "source": [
    "# Exploratory Data Analysis\n",
    "## Rancang Bangun Jaringan Saraf Tiruan untuk Sistem Kendali Lingkungan\n",
    "\n",
    "Ridhan Fadhilah\n",
    "15/384859/TK/43521"
   ]
  },
  {
   "cell_type": "markdown",
   "metadata": {},
   "source": [
    "### 1. Mengimpor pustaka yang diperlukan untuk EDA"
   ]
  },
  {
   "cell_type": "code",
   "execution_count": 1,
   "metadata": {},
   "outputs": [],
   "source": [
    "# Mengimpor pustaka-pustaka yang dibutuhkan\n",
    "import pandas as pd\n",
    "import numpy as np\n",
    "from scipy import stats\n",
    "import seaborn as sns #visualisation\n",
    "import matplotlib.pyplot as plt #visualisation\n",
    "%matplotlib inline\n",
    "sns.set(color_codes=True)"
   ]
  },
  {
   "cell_type": "markdown",
   "metadata": {},
   "source": [
    "### 2. Memuat data ke dalam DataFrame."
   ]
  },
  {
   "cell_type": "code",
   "execution_count": 2,
   "metadata": {},
   "outputs": [
    {
     "name": "stdout",
     "output_type": "stream",
     "text": [
      "data1Mar.xlsx\n",
      "data2Jun.xlsx\n",
      "data3Sep.xlsx\n",
      "data4Des.xlsx\n",
      "dataAll.xlsx\n",
      "dataEDA.csv\n",
      "DataFormat.xlsx\n",
      "Data Simulasi IESVE (1-60).xlsx\n",
      "Data Simulasi IESVE (61-80).xlsx\n",
      "Data Simulasi IESVE (81-100).xlsx\n",
      "Data Training ANN (1-60).xlsx\n",
      "Data Training ANN (61-80).xlsx\n",
      "Data Training ANN (81-100).xlsx\n",
      "Data Training ANN Gabung (1-100).xlsx\n",
      "\n"
     ]
    }
   ],
   "source": [
    "# Menampilkan berkas-berkas data\n",
    "from subprocess import check_output\n",
    "print(check_output([\"ls\", \"../Data\"]).decode(\"utf8\"))"
   ]
  },
  {
   "cell_type": "code",
   "execution_count": 3,
   "metadata": {},
   "outputs": [],
   "source": [
    "# Memasukkan dataset ke dalam jupyter.\n",
    "data = pd.read_excel('../Data/data3Sep.xlsx')"
   ]
  },
  {
   "cell_type": "code",
   "execution_count": 4,
   "metadata": {},
   "outputs": [
    {
     "data": {
      "text/html": [
       "<div>\n",
       "<style scoped>\n",
       "    .dataframe tbody tr th:only-of-type {\n",
       "        vertical-align: middle;\n",
       "    }\n",
       "\n",
       "    .dataframe tbody tr th {\n",
       "        vertical-align: top;\n",
       "    }\n",
       "\n",
       "    .dataframe thead th {\n",
       "        text-align: right;\n",
       "    }\n",
       "</style>\n",
       "<table border=\"1\" class=\"dataframe\">\n",
       "  <thead>\n",
       "    <tr style=\"text-align: right;\">\n",
       "      <th></th>\n",
       "      <th>No</th>\n",
       "      <th>Variation</th>\n",
       "      <th>Month</th>\n",
       "      <th>Time</th>\n",
       "      <th>Heater</th>\n",
       "      <th>AC</th>\n",
       "      <th>DrybulbT</th>\n",
       "      <th>Radiation</th>\n",
       "      <th>AirT</th>\n",
       "      <th>RH</th>\n",
       "    </tr>\n",
       "  </thead>\n",
       "  <tbody>\n",
       "    <tr>\n",
       "      <td>0</td>\n",
       "      <td>1</td>\n",
       "      <td>DT003</td>\n",
       "      <td>Sep</td>\n",
       "      <td>00:03:00</td>\n",
       "      <td>0</td>\n",
       "      <td>0</td>\n",
       "      <td>23.03</td>\n",
       "      <td>0.0</td>\n",
       "      <td>23.15</td>\n",
       "      <td>66.65</td>\n",
       "    </tr>\n",
       "    <tr>\n",
       "      <td>1</td>\n",
       "      <td>2</td>\n",
       "      <td>DT003</td>\n",
       "      <td>Sep</td>\n",
       "      <td>00:09:00</td>\n",
       "      <td>0</td>\n",
       "      <td>0</td>\n",
       "      <td>23.03</td>\n",
       "      <td>0.0</td>\n",
       "      <td>23.15</td>\n",
       "      <td>66.68</td>\n",
       "    </tr>\n",
       "    <tr>\n",
       "      <td>2</td>\n",
       "      <td>3</td>\n",
       "      <td>DT003</td>\n",
       "      <td>Sep</td>\n",
       "      <td>00:15:00</td>\n",
       "      <td>0</td>\n",
       "      <td>0</td>\n",
       "      <td>23.03</td>\n",
       "      <td>0.0</td>\n",
       "      <td>23.15</td>\n",
       "      <td>66.72</td>\n",
       "    </tr>\n",
       "    <tr>\n",
       "      <td>3</td>\n",
       "      <td>4</td>\n",
       "      <td>DT003</td>\n",
       "      <td>Sep</td>\n",
       "      <td>00:21:00</td>\n",
       "      <td>0</td>\n",
       "      <td>0</td>\n",
       "      <td>23.03</td>\n",
       "      <td>0.0</td>\n",
       "      <td>23.14</td>\n",
       "      <td>66.77</td>\n",
       "    </tr>\n",
       "    <tr>\n",
       "      <td>4</td>\n",
       "      <td>5</td>\n",
       "      <td>DT003</td>\n",
       "      <td>Sep</td>\n",
       "      <td>00:27:00</td>\n",
       "      <td>0</td>\n",
       "      <td>0</td>\n",
       "      <td>23.03</td>\n",
       "      <td>0.0</td>\n",
       "      <td>23.14</td>\n",
       "      <td>66.81</td>\n",
       "    </tr>\n",
       "  </tbody>\n",
       "</table>\n",
       "</div>"
      ],
      "text/plain": [
       "   No Variation Month      Time  Heater  AC  DrybulbT  Radiation   AirT     RH\n",
       "0   1     DT003   Sep  00:03:00       0   0     23.03        0.0  23.15  66.65\n",
       "1   2     DT003   Sep  00:09:00       0   0     23.03        0.0  23.15  66.68\n",
       "2   3     DT003   Sep  00:15:00       0   0     23.03        0.0  23.15  66.72\n",
       "3   4     DT003   Sep  00:21:00       0   0     23.03        0.0  23.14  66.77\n",
       "4   5     DT003   Sep  00:27:00       0   0     23.03        0.0  23.14  66.81"
      ]
     },
     "execution_count": 4,
     "metadata": {},
     "output_type": "execute_result"
    }
   ],
   "source": [
    "# Menampilkan 5 data teratas\n",
    "data.head()"
   ]
  },
  {
   "cell_type": "code",
   "execution_count": 5,
   "metadata": {},
   "outputs": [
    {
     "data": {
      "text/html": [
       "<div>\n",
       "<style scoped>\n",
       "    .dataframe tbody tr th:only-of-type {\n",
       "        vertical-align: middle;\n",
       "    }\n",
       "\n",
       "    .dataframe tbody tr th {\n",
       "        vertical-align: top;\n",
       "    }\n",
       "\n",
       "    .dataframe thead th {\n",
       "        text-align: right;\n",
       "    }\n",
       "</style>\n",
       "<table border=\"1\" class=\"dataframe\">\n",
       "  <thead>\n",
       "    <tr style=\"text-align: right;\">\n",
       "      <th></th>\n",
       "      <th>No</th>\n",
       "      <th>Variation</th>\n",
       "      <th>Month</th>\n",
       "      <th>Time</th>\n",
       "      <th>Heater</th>\n",
       "      <th>AC</th>\n",
       "      <th>DrybulbT</th>\n",
       "      <th>Radiation</th>\n",
       "      <th>AirT</th>\n",
       "      <th>RH</th>\n",
       "    </tr>\n",
       "  </thead>\n",
       "  <tbody>\n",
       "    <tr>\n",
       "      <td>5995</td>\n",
       "      <td>5996</td>\n",
       "      <td>DT099</td>\n",
       "      <td>Sep</td>\n",
       "      <td>23:33:00</td>\n",
       "      <td>2</td>\n",
       "      <td>0</td>\n",
       "      <td>23.28</td>\n",
       "      <td>0.0</td>\n",
       "      <td>25.26</td>\n",
       "      <td>71.38</td>\n",
       "    </tr>\n",
       "    <tr>\n",
       "      <td>5996</td>\n",
       "      <td>5997</td>\n",
       "      <td>DT099</td>\n",
       "      <td>Sep</td>\n",
       "      <td>23:39:00</td>\n",
       "      <td>2</td>\n",
       "      <td>0</td>\n",
       "      <td>23.28</td>\n",
       "      <td>0.0</td>\n",
       "      <td>25.22</td>\n",
       "      <td>71.52</td>\n",
       "    </tr>\n",
       "    <tr>\n",
       "      <td>5997</td>\n",
       "      <td>5998</td>\n",
       "      <td>DT099</td>\n",
       "      <td>Sep</td>\n",
       "      <td>23:45:00</td>\n",
       "      <td>2</td>\n",
       "      <td>0</td>\n",
       "      <td>23.28</td>\n",
       "      <td>0.0</td>\n",
       "      <td>25.18</td>\n",
       "      <td>71.66</td>\n",
       "    </tr>\n",
       "    <tr>\n",
       "      <td>5998</td>\n",
       "      <td>5999</td>\n",
       "      <td>DT099</td>\n",
       "      <td>Sep</td>\n",
       "      <td>23:51:00</td>\n",
       "      <td>2</td>\n",
       "      <td>0</td>\n",
       "      <td>23.28</td>\n",
       "      <td>0.0</td>\n",
       "      <td>25.14</td>\n",
       "      <td>71.81</td>\n",
       "    </tr>\n",
       "    <tr>\n",
       "      <td>5999</td>\n",
       "      <td>6000</td>\n",
       "      <td>DT099</td>\n",
       "      <td>Sep</td>\n",
       "      <td>23:57:00</td>\n",
       "      <td>2</td>\n",
       "      <td>0</td>\n",
       "      <td>23.28</td>\n",
       "      <td>0.0</td>\n",
       "      <td>25.11</td>\n",
       "      <td>71.94</td>\n",
       "    </tr>\n",
       "  </tbody>\n",
       "</table>\n",
       "</div>"
      ],
      "text/plain": [
       "        No Variation Month      Time  Heater  AC  DrybulbT  Radiation   AirT  \\\n",
       "5995  5996     DT099   Sep  23:33:00       2   0     23.28        0.0  25.26   \n",
       "5996  5997     DT099   Sep  23:39:00       2   0     23.28        0.0  25.22   \n",
       "5997  5998     DT099   Sep  23:45:00       2   0     23.28        0.0  25.18   \n",
       "5998  5999     DT099   Sep  23:51:00       2   0     23.28        0.0  25.14   \n",
       "5999  6000     DT099   Sep  23:57:00       2   0     23.28        0.0  25.11   \n",
       "\n",
       "         RH  \n",
       "5995  71.38  \n",
       "5996  71.52  \n",
       "5997  71.66  \n",
       "5998  71.81  \n",
       "5999  71.94  "
      ]
     },
     "execution_count": 5,
     "metadata": {},
     "output_type": "execute_result"
    }
   ],
   "source": [
    "# Menampilkan 5 data terbawah\n",
    "data.tail()"
   ]
  },
  {
   "cell_type": "markdown",
   "metadata": {},
   "source": [
    "### 3. Memeriksa tipe data"
   ]
  },
  {
   "cell_type": "code",
   "execution_count": 6,
   "metadata": {},
   "outputs": [
    {
     "data": {
      "text/plain": [
       "No             int64\n",
       "Variation     object\n",
       "Month         object\n",
       "Time          object\n",
       "Heater         int64\n",
       "AC             int64\n",
       "DrybulbT     float64\n",
       "Radiation    float64\n",
       "AirT         float64\n",
       "RH           float64\n",
       "dtype: object"
      ]
     },
     "execution_count": 6,
     "metadata": {},
     "output_type": "execute_result"
    }
   ],
   "source": [
    "# Memeriksa tipe data\n",
    "data.dtypes"
   ]
  },
  {
   "cell_type": "markdown",
   "metadata": {},
   "source": [
    "### 4. Membuang (drop) kolom yang tidak relevan"
   ]
  },
  {
   "cell_type": "code",
   "execution_count": 7,
   "metadata": {},
   "outputs": [],
   "source": [
    "# Menghilangkan kolom yang tidak relevan\n",
    "data = data.drop(['No'], axis=1)"
   ]
  },
  {
   "cell_type": "markdown",
   "metadata": {},
   "source": [
    "### 5. Mengganti nama kolom"
   ]
  },
  {
   "cell_type": "code",
   "execution_count": 8,
   "metadata": {},
   "outputs": [],
   "source": [
    "# # Mengganti nama kolom\n",
    "# data = data.rename(columns={'No': 'Nomor', 'Heater': 'Pemanas'})"
   ]
  },
  {
   "cell_type": "markdown",
   "metadata": {},
   "source": [
    "### 6. Membuang (drop)  baris duplikat"
   ]
  },
  {
   "cell_type": "code",
   "execution_count": 9,
   "metadata": {},
   "outputs": [
    {
     "data": {
      "text/plain": [
       "(6000, 9)"
      ]
     },
     "execution_count": 9,
     "metadata": {},
     "output_type": "execute_result"
    }
   ],
   "source": [
    "# Total number of rows and columns\n",
    "data.shape"
   ]
  },
  {
   "cell_type": "code",
   "execution_count": 10,
   "metadata": {},
   "outputs": [
    {
     "name": "stdout",
     "output_type": "stream",
     "text": [
      "number of duplicate rows:  (0, 9)\n"
     ]
    }
   ],
   "source": [
    "# Baris-baris yang mengandung data duplikat\n",
    "duplicate_rows_data = data[data.duplicated()]\n",
    "print('number of duplicate rows: ', duplicate_rows_data.shape)"
   ]
  },
  {
   "cell_type": "code",
   "execution_count": 11,
   "metadata": {},
   "outputs": [
    {
     "data": {
      "text/plain": [
       "Variation    6000\n",
       "Month        6000\n",
       "Time         6000\n",
       "Heater       6000\n",
       "AC           6000\n",
       "DrybulbT     6000\n",
       "Radiation    6000\n",
       "AirT         6000\n",
       "RH           6000\n",
       "dtype: int64"
      ]
     },
     "execution_count": 11,
     "metadata": {},
     "output_type": "execute_result"
    }
   ],
   "source": [
    "# Biasakan menghitung jumlah baris sebelumnya menghapus datanya\n",
    "data.count() "
   ]
  },
  {
   "cell_type": "code",
   "execution_count": 12,
   "metadata": {},
   "outputs": [],
   "source": [
    "# # Membuang (drop) data duplikat \n",
    "# data = df.drop_duplicates()"
   ]
  },
  {
   "cell_type": "markdown",
   "metadata": {},
   "source": [
    "### 7. Membuang (drop) nilai-nilai yang hilang atau null."
   ]
  },
  {
   "cell_type": "code",
   "execution_count": 13,
   "metadata": {},
   "outputs": [
    {
     "name": "stdout",
     "output_type": "stream",
     "text": [
      "Variation    0\n",
      "Month        0\n",
      "Time         0\n",
      "Heater       0\n",
      "AC           0\n",
      "DrybulbT     0\n",
      "Radiation    0\n",
      "AirT         0\n",
      "RH           0\n",
      "dtype: int64\n"
     ]
    }
   ],
   "source": [
    "# Mencari nilai-nilai kosong (null)\n",
    "print(data.isnull().sum())"
   ]
  },
  {
   "cell_type": "code",
   "execution_count": 14,
   "metadata": {},
   "outputs": [],
   "source": [
    "# # Membuang nilai-nilai yang hilang.\n",
    "# df = df.dropna() "
   ]
  },
  {
   "cell_type": "markdown",
   "metadata": {},
   "source": [
    "### 8. Mendeteksi Outliers"
   ]
  },
  {
   "cell_type": "code",
   "execution_count": 15,
   "metadata": {},
   "outputs": [
    {
     "data": {
      "text/plain": [
       "<matplotlib.axes._subplots.AxesSubplot at 0x7f5442a57810>"
      ]
     },
     "execution_count": 15,
     "metadata": {},
     "output_type": "execute_result"
    },
    {
     "data": {
      "image/png": "[encoded data removed]",
      "text/plain": [
       "<Figure size 432x288 with 1 Axes>"
      ]
     },
     "metadata": {
      "needs_background": "light"
     },
     "output_type": "display_data"
    }
   ],
   "source": [
    "sns.boxplot(x=data['AirT'])"
   ]
  },
  {
   "cell_type": "code",
   "execution_count": 16,
   "metadata": {},
   "outputs": [
    {
     "data": {
      "text/plain": [
       "<matplotlib.axes._subplots.AxesSubplot at 0x7f544291f890>"
      ]
     },
     "execution_count": 16,
     "metadata": {},
     "output_type": "execute_result"
    },
    {
     "data": {
      "image/png": "[encoded data removed]",
      "text/plain": [
       "<Figure size 432x288 with 1 Axes>"
      ]
     },
     "metadata": {
      "needs_background": "light"
     },
     "output_type": "display_data"
    }
   ],
   "source": [
    "sns.boxplot(x=data['RH'])"
   ]
  },
  {
   "cell_type": "code",
   "execution_count": 17,
   "metadata": {},
   "outputs": [
    {
     "data": {
      "text/html": [
       "<div>\n",
       "<style scoped>\n",
       "    .dataframe tbody tr th:only-of-type {\n",
       "        vertical-align: middle;\n",
       "    }\n",
       "\n",
       "    .dataframe tbody tr th {\n",
       "        vertical-align: top;\n",
       "    }\n",
       "\n",
       "    .dataframe thead th {\n",
       "        text-align: right;\n",
       "    }\n",
       "</style>\n",
       "<table border=\"1\" class=\"dataframe\">\n",
       "  <thead>\n",
       "    <tr style=\"text-align: right;\">\n",
       "      <th></th>\n",
       "      <th>Heater</th>\n",
       "      <th>AC</th>\n",
       "      <th>DrybulbT</th>\n",
       "      <th>Radiation</th>\n",
       "      <th>AirT</th>\n",
       "      <th>RH</th>\n",
       "    </tr>\n",
       "  </thead>\n",
       "  <tbody>\n",
       "    <tr>\n",
       "      <td>count</td>\n",
       "      <td>6000.000000</td>\n",
       "      <td>6000.000000</td>\n",
       "      <td>6000.000000</td>\n",
       "      <td>6000.000000</td>\n",
       "      <td>6000.000000</td>\n",
       "      <td>6000.000000</td>\n",
       "    </tr>\n",
       "    <tr>\n",
       "      <td>mean</td>\n",
       "      <td>0.600000</td>\n",
       "      <td>9.375000</td>\n",
       "      <td>25.358083</td>\n",
       "      <td>191.983750</td>\n",
       "      <td>24.377918</td>\n",
       "      <td>79.966033</td>\n",
       "    </tr>\n",
       "    <tr>\n",
       "      <td>std</td>\n",
       "      <td>0.800067</td>\n",
       "      <td>12.379819</td>\n",
       "      <td>2.331456</td>\n",
       "      <td>282.013554</td>\n",
       "      <td>2.563013</td>\n",
       "      <td>9.704265</td>\n",
       "    </tr>\n",
       "    <tr>\n",
       "      <td>min</td>\n",
       "      <td>0.000000</td>\n",
       "      <td>0.000000</td>\n",
       "      <td>22.460000</td>\n",
       "      <td>0.000000</td>\n",
       "      <td>16.000000</td>\n",
       "      <td>55.840000</td>\n",
       "    </tr>\n",
       "    <tr>\n",
       "      <td>25%</td>\n",
       "      <td>0.000000</td>\n",
       "      <td>0.000000</td>\n",
       "      <td>23.217500</td>\n",
       "      <td>0.000000</td>\n",
       "      <td>23.460000</td>\n",
       "      <td>72.647500</td>\n",
       "    </tr>\n",
       "    <tr>\n",
       "      <td>50%</td>\n",
       "      <td>0.000000</td>\n",
       "      <td>0.000000</td>\n",
       "      <td>24.490000</td>\n",
       "      <td>0.000000</td>\n",
       "      <td>24.180000</td>\n",
       "      <td>79.495000</td>\n",
       "    </tr>\n",
       "    <tr>\n",
       "      <td>75%</td>\n",
       "      <td>1.000000</td>\n",
       "      <td>24.000000</td>\n",
       "      <td>27.385000</td>\n",
       "      <td>334.794500</td>\n",
       "      <td>26.000000</td>\n",
       "      <td>86.290000</td>\n",
       "    </tr>\n",
       "    <tr>\n",
       "      <td>max</td>\n",
       "      <td>2.000000</td>\n",
       "      <td>30.000000</td>\n",
       "      <td>29.200000</td>\n",
       "      <td>823.928000</td>\n",
       "      <td>30.190000</td>\n",
       "      <td>99.980000</td>\n",
       "    </tr>\n",
       "  </tbody>\n",
       "</table>\n",
       "</div>"
      ],
      "text/plain": [
       "            Heater           AC     DrybulbT    Radiation         AirT  \\\n",
       "count  6000.000000  6000.000000  6000.000000  6000.000000  6000.000000   \n",
       "mean      0.600000     9.375000    25.358083   191.983750    24.377918   \n",
       "std       0.800067    12.379819     2.331456   282.013554     2.563013   \n",
       "min       0.000000     0.000000    22.460000     0.000000    16.000000   \n",
       "25%       0.000000     0.000000    23.217500     0.000000    23.460000   \n",
       "50%       0.000000     0.000000    24.490000     0.000000    24.180000   \n",
       "75%       1.000000    24.000000    27.385000   334.794500    26.000000   \n",
       "max       2.000000    30.000000    29.200000   823.928000    30.190000   \n",
       "\n",
       "                RH  \n",
       "count  6000.000000  \n",
       "mean     79.966033  \n",
       "std       9.704265  \n",
       "min      55.840000  \n",
       "25%      72.647500  \n",
       "50%      79.495000  \n",
       "75%      86.290000  \n",
       "max      99.980000  "
      ]
     },
     "execution_count": 17,
     "metadata": {},
     "output_type": "execute_result"
    }
   ],
   "source": [
    "data.describe()"
   ]
  },
  {
   "cell_type": "code",
   "execution_count": 18,
   "metadata": {},
   "outputs": [
    {
     "name": "stdout",
     "output_type": "stream",
     "text": [
      "Heater         1.0000\n",
      "AC            24.0000\n",
      "DrybulbT       4.1675\n",
      "Radiation    334.7945\n",
      "AirT           2.5400\n",
      "RH            13.6425\n",
      "dtype: float64\n"
     ]
    }
   ],
   "source": [
    "# Menentukan nilai IQR\n",
    "Q1 = data.quantile(0.25)\n",
    "Q3 = data.quantile(0.75)\n",
    "IQR = Q3 - Q1\n",
    "print(IQR)"
   ]
  },
  {
   "cell_type": "code",
   "execution_count": 19,
   "metadata": {},
   "outputs": [],
   "source": [
    "# # Membuang Outliers\n",
    "# data = data[~((data < (Q1 - 1.5 * IQR)) |(data > (Q3 + 1.5 * IQR))).any(axis=1)]\n",
    "# data.shape"
   ]
  },
  {
   "cell_type": "code",
   "execution_count": 20,
   "metadata": {},
   "outputs": [
    {
     "data": {
      "text/html": [
       "<div>\n",
       "<style scoped>\n",
       "    .dataframe tbody tr th:only-of-type {\n",
       "        vertical-align: middle;\n",
       "    }\n",
       "\n",
       "    .dataframe tbody tr th {\n",
       "        vertical-align: top;\n",
       "    }\n",
       "\n",
       "    .dataframe thead th {\n",
       "        text-align: right;\n",
       "    }\n",
       "</style>\n",
       "<table border=\"1\" class=\"dataframe\">\n",
       "  <thead>\n",
       "    <tr style=\"text-align: right;\">\n",
       "      <th></th>\n",
       "      <th>Heater</th>\n",
       "      <th>AC</th>\n",
       "      <th>DrybulbT</th>\n",
       "      <th>Radiation</th>\n",
       "      <th>AirT</th>\n",
       "      <th>RH</th>\n",
       "    </tr>\n",
       "  </thead>\n",
       "  <tbody>\n",
       "    <tr>\n",
       "      <td>count</td>\n",
       "      <td>6000.000000</td>\n",
       "      <td>6000.000000</td>\n",
       "      <td>6000.000000</td>\n",
       "      <td>6000.000000</td>\n",
       "      <td>6000.000000</td>\n",
       "      <td>6000.000000</td>\n",
       "    </tr>\n",
       "    <tr>\n",
       "      <td>mean</td>\n",
       "      <td>0.600000</td>\n",
       "      <td>9.375000</td>\n",
       "      <td>25.358083</td>\n",
       "      <td>191.983750</td>\n",
       "      <td>24.377918</td>\n",
       "      <td>79.966033</td>\n",
       "    </tr>\n",
       "    <tr>\n",
       "      <td>std</td>\n",
       "      <td>0.800067</td>\n",
       "      <td>12.379819</td>\n",
       "      <td>2.331456</td>\n",
       "      <td>282.013554</td>\n",
       "      <td>2.563013</td>\n",
       "      <td>9.704265</td>\n",
       "    </tr>\n",
       "    <tr>\n",
       "      <td>min</td>\n",
       "      <td>0.000000</td>\n",
       "      <td>0.000000</td>\n",
       "      <td>22.460000</td>\n",
       "      <td>0.000000</td>\n",
       "      <td>16.000000</td>\n",
       "      <td>55.840000</td>\n",
       "    </tr>\n",
       "    <tr>\n",
       "      <td>25%</td>\n",
       "      <td>0.000000</td>\n",
       "      <td>0.000000</td>\n",
       "      <td>23.217500</td>\n",
       "      <td>0.000000</td>\n",
       "      <td>23.460000</td>\n",
       "      <td>72.647500</td>\n",
       "    </tr>\n",
       "    <tr>\n",
       "      <td>50%</td>\n",
       "      <td>0.000000</td>\n",
       "      <td>0.000000</td>\n",
       "      <td>24.490000</td>\n",
       "      <td>0.000000</td>\n",
       "      <td>24.180000</td>\n",
       "      <td>79.495000</td>\n",
       "    </tr>\n",
       "    <tr>\n",
       "      <td>75%</td>\n",
       "      <td>1.000000</td>\n",
       "      <td>24.000000</td>\n",
       "      <td>27.385000</td>\n",
       "      <td>334.794500</td>\n",
       "      <td>26.000000</td>\n",
       "      <td>86.290000</td>\n",
       "    </tr>\n",
       "    <tr>\n",
       "      <td>max</td>\n",
       "      <td>2.000000</td>\n",
       "      <td>30.000000</td>\n",
       "      <td>29.200000</td>\n",
       "      <td>823.928000</td>\n",
       "      <td>30.190000</td>\n",
       "      <td>99.980000</td>\n",
       "    </tr>\n",
       "  </tbody>\n",
       "</table>\n",
       "</div>"
      ],
      "text/plain": [
       "            Heater           AC     DrybulbT    Radiation         AirT  \\\n",
       "count  6000.000000  6000.000000  6000.000000  6000.000000  6000.000000   \n",
       "mean      0.600000     9.375000    25.358083   191.983750    24.377918   \n",
       "std       0.800067    12.379819     2.331456   282.013554     2.563013   \n",
       "min       0.000000     0.000000    22.460000     0.000000    16.000000   \n",
       "25%       0.000000     0.000000    23.217500     0.000000    23.460000   \n",
       "50%       0.000000     0.000000    24.490000     0.000000    24.180000   \n",
       "75%       1.000000    24.000000    27.385000   334.794500    26.000000   \n",
       "max       2.000000    30.000000    29.200000   823.928000    30.190000   \n",
       "\n",
       "                RH  \n",
       "count  6000.000000  \n",
       "mean     79.966033  \n",
       "std       9.704265  \n",
       "min      55.840000  \n",
       "25%      72.647500  \n",
       "50%      79.495000  \n",
       "75%      86.290000  \n",
       "max      99.980000  "
      ]
     },
     "execution_count": 20,
     "metadata": {},
     "output_type": "execute_result"
    }
   ],
   "source": [
    "data.describe()"
   ]
  },
  {
   "cell_type": "code",
   "execution_count": 21,
   "metadata": {},
   "outputs": [],
   "source": [
    "# # Membuang AC bernilai 0\n",
    "# data = data[data.AC != 0]"
   ]
  },
  {
   "cell_type": "code",
   "execution_count": 22,
   "metadata": {},
   "outputs": [
    {
     "data": {
      "text/html": [
       "<div>\n",
       "<style scoped>\n",
       "    .dataframe tbody tr th:only-of-type {\n",
       "        vertical-align: middle;\n",
       "    }\n",
       "\n",
       "    .dataframe tbody tr th {\n",
       "        vertical-align: top;\n",
       "    }\n",
       "\n",
       "    .dataframe thead th {\n",
       "        text-align: right;\n",
       "    }\n",
       "</style>\n",
       "<table border=\"1\" class=\"dataframe\">\n",
       "  <thead>\n",
       "    <tr style=\"text-align: right;\">\n",
       "      <th></th>\n",
       "      <th>Heater</th>\n",
       "      <th>AC</th>\n",
       "      <th>DrybulbT</th>\n",
       "      <th>Radiation</th>\n",
       "      <th>AirT</th>\n",
       "      <th>RH</th>\n",
       "    </tr>\n",
       "  </thead>\n",
       "  <tbody>\n",
       "    <tr>\n",
       "      <td>count</td>\n",
       "      <td>6000.000000</td>\n",
       "      <td>6000.000000</td>\n",
       "      <td>6000.000000</td>\n",
       "      <td>6000.000000</td>\n",
       "      <td>6000.000000</td>\n",
       "      <td>6000.000000</td>\n",
       "    </tr>\n",
       "    <tr>\n",
       "      <td>mean</td>\n",
       "      <td>0.600000</td>\n",
       "      <td>9.375000</td>\n",
       "      <td>25.358083</td>\n",
       "      <td>191.983750</td>\n",
       "      <td>24.377918</td>\n",
       "      <td>79.966033</td>\n",
       "    </tr>\n",
       "    <tr>\n",
       "      <td>std</td>\n",
       "      <td>0.800067</td>\n",
       "      <td>12.379819</td>\n",
       "      <td>2.331456</td>\n",
       "      <td>282.013554</td>\n",
       "      <td>2.563013</td>\n",
       "      <td>9.704265</td>\n",
       "    </tr>\n",
       "    <tr>\n",
       "      <td>min</td>\n",
       "      <td>0.000000</td>\n",
       "      <td>0.000000</td>\n",
       "      <td>22.460000</td>\n",
       "      <td>0.000000</td>\n",
       "      <td>16.000000</td>\n",
       "      <td>55.840000</td>\n",
       "    </tr>\n",
       "    <tr>\n",
       "      <td>25%</td>\n",
       "      <td>0.000000</td>\n",
       "      <td>0.000000</td>\n",
       "      <td>23.217500</td>\n",
       "      <td>0.000000</td>\n",
       "      <td>23.460000</td>\n",
       "      <td>72.647500</td>\n",
       "    </tr>\n",
       "    <tr>\n",
       "      <td>50%</td>\n",
       "      <td>0.000000</td>\n",
       "      <td>0.000000</td>\n",
       "      <td>24.490000</td>\n",
       "      <td>0.000000</td>\n",
       "      <td>24.180000</td>\n",
       "      <td>79.495000</td>\n",
       "    </tr>\n",
       "    <tr>\n",
       "      <td>75%</td>\n",
       "      <td>1.000000</td>\n",
       "      <td>24.000000</td>\n",
       "      <td>27.385000</td>\n",
       "      <td>334.794500</td>\n",
       "      <td>26.000000</td>\n",
       "      <td>86.290000</td>\n",
       "    </tr>\n",
       "    <tr>\n",
       "      <td>max</td>\n",
       "      <td>2.000000</td>\n",
       "      <td>30.000000</td>\n",
       "      <td>29.200000</td>\n",
       "      <td>823.928000</td>\n",
       "      <td>30.190000</td>\n",
       "      <td>99.980000</td>\n",
       "    </tr>\n",
       "  </tbody>\n",
       "</table>\n",
       "</div>"
      ],
      "text/plain": [
       "            Heater           AC     DrybulbT    Radiation         AirT  \\\n",
       "count  6000.000000  6000.000000  6000.000000  6000.000000  6000.000000   \n",
       "mean      0.600000     9.375000    25.358083   191.983750    24.377918   \n",
       "std       0.800067    12.379819     2.331456   282.013554     2.563013   \n",
       "min       0.000000     0.000000    22.460000     0.000000    16.000000   \n",
       "25%       0.000000     0.000000    23.217500     0.000000    23.460000   \n",
       "50%       0.000000     0.000000    24.490000     0.000000    24.180000   \n",
       "75%       1.000000    24.000000    27.385000   334.794500    26.000000   \n",
       "max       2.000000    30.000000    29.200000   823.928000    30.190000   \n",
       "\n",
       "                RH  \n",
       "count  6000.000000  \n",
       "mean     79.966033  \n",
       "std       9.704265  \n",
       "min      55.840000  \n",
       "25%      72.647500  \n",
       "50%      79.495000  \n",
       "75%      86.290000  \n",
       "max      99.980000  "
      ]
     },
     "execution_count": 22,
     "metadata": {},
     "output_type": "execute_result"
    }
   ],
   "source": [
    "data.describe()"
   ]
  },
  {
   "cell_type": "markdown",
   "metadata": {},
   "source": [
    "### 9. Plot berbagai fitur terhadap satu sama lain (scatter), terhadap frekuensi (histogram)"
   ]
  },
  {
   "cell_type": "code",
   "execution_count": 23,
   "metadata": {},
   "outputs": [
    {
     "data": {
      "image/png": "[encoded data removed]",
      "text/plain": [
       "<Figure size 720x360 with 1 Axes>"
      ]
     },
     "metadata": {
      "needs_background": "light"
     },
     "output_type": "display_data"
    }
   ],
   "source": [
    "# Menggambar Histogram\n",
    "data.Heater.value_counts().nlargest(40).plot(kind='bar', figsize=(10,5))\n",
    "plt.title(\"Number of data by Heater\")\n",
    "plt.ylabel('Number of data')\n",
    "plt.xlabel('Heater Status');"
   ]
  },
  {
   "cell_type": "code",
   "execution_count": 24,
   "metadata": {},
   "outputs": [
    {
     "data": {
      "text/html": [
       "<div>\n",
       "<style scoped>\n",
       "    .dataframe tbody tr th:only-of-type {\n",
       "        vertical-align: middle;\n",
       "    }\n",
       "\n",
       "    .dataframe tbody tr th {\n",
       "        vertical-align: top;\n",
       "    }\n",
       "\n",
       "    .dataframe thead th {\n",
       "        text-align: right;\n",
       "    }\n",
       "</style>\n",
       "<table border=\"1\" class=\"dataframe\">\n",
       "  <thead>\n",
       "    <tr style=\"text-align: right;\">\n",
       "      <th></th>\n",
       "      <th>Heater</th>\n",
       "      <th>AC</th>\n",
       "      <th>DrybulbT</th>\n",
       "      <th>Radiation</th>\n",
       "      <th>AirT</th>\n",
       "      <th>RH</th>\n",
       "    </tr>\n",
       "  </thead>\n",
       "  <tbody>\n",
       "    <tr>\n",
       "      <td>Heater</td>\n",
       "      <td>1.000000e+00</td>\n",
       "      <td>0.068161</td>\n",
       "      <td>0.001063</td>\n",
       "      <td>-1.720985e-16</td>\n",
       "      <td>0.410788</td>\n",
       "      <td>-0.486904</td>\n",
       "    </tr>\n",
       "    <tr>\n",
       "      <td>AC</td>\n",
       "      <td>6.816096e-02</td>\n",
       "      <td>1.000000</td>\n",
       "      <td>0.866567</td>\n",
       "      <td>7.902211e-01</td>\n",
       "      <td>0.147143</td>\n",
       "      <td>-0.047898</td>\n",
       "    </tr>\n",
       "    <tr>\n",
       "      <td>DrybulbT</td>\n",
       "      <td>1.063444e-03</td>\n",
       "      <td>0.866567</td>\n",
       "      <td>1.000000</td>\n",
       "      <td>8.822591e-01</td>\n",
       "      <td>0.085127</td>\n",
       "      <td>-0.005763</td>\n",
       "    </tr>\n",
       "    <tr>\n",
       "      <td>Radiation</td>\n",
       "      <td>-1.720985e-16</td>\n",
       "      <td>0.790221</td>\n",
       "      <td>0.882259</td>\n",
       "      <td>1.000000e+00</td>\n",
       "      <td>0.067614</td>\n",
       "      <td>0.012059</td>\n",
       "    </tr>\n",
       "    <tr>\n",
       "      <td>AirT</td>\n",
       "      <td>4.107881e-01</td>\n",
       "      <td>0.147143</td>\n",
       "      <td>0.085127</td>\n",
       "      <td>6.761397e-02</td>\n",
       "      <td>1.000000</td>\n",
       "      <td>-0.819253</td>\n",
       "    </tr>\n",
       "    <tr>\n",
       "      <td>RH</td>\n",
       "      <td>-4.869040e-01</td>\n",
       "      <td>-0.047898</td>\n",
       "      <td>-0.005763</td>\n",
       "      <td>1.205944e-02</td>\n",
       "      <td>-0.819253</td>\n",
       "      <td>1.000000</td>\n",
       "    </tr>\n",
       "  </tbody>\n",
       "</table>\n",
       "</div>"
      ],
      "text/plain": [
       "                 Heater        AC  DrybulbT     Radiation      AirT        RH\n",
       "Heater     1.000000e+00  0.068161  0.001063 -1.720985e-16  0.410788 -0.486904\n",
       "AC         6.816096e-02  1.000000  0.866567  7.902211e-01  0.147143 -0.047898\n",
       "DrybulbT   1.063444e-03  0.866567  1.000000  8.822591e-01  0.085127 -0.005763\n",
       "Radiation -1.720985e-16  0.790221  0.882259  1.000000e+00  0.067614  0.012059\n",
       "AirT       4.107881e-01  0.147143  0.085127  6.761397e-02  1.000000 -0.819253\n",
       "RH        -4.869040e-01 -0.047898 -0.005763  1.205944e-02 -0.819253  1.000000"
      ]
     },
     "execution_count": 24,
     "metadata": {},
     "output_type": "execute_result"
    }
   ],
   "source": [
    "# Mencari relasi anatara variabel-variabel.\n",
    "c = pd.DataFrame(data.corr())\n",
    "c"
   ]
  },
  {
   "cell_type": "code",
   "execution_count": 25,
   "metadata": {},
   "outputs": [
    {
     "data": {
      "image/png": "[encoded data removed]",
      "text/plain": [
       "<Figure size 864x504 with 2 Axes>"
      ]
     },
     "metadata": {},
     "output_type": "display_data"
    }
   ],
   "source": [
    "# Heatmaps\n",
    "sns.set_style('white')\n",
    "sns.set_context(\"paper\", font_scale=1.7) \n",
    "plt.figure(figsize=(12,7))\n",
    "sns.heatmap(data.corr(),cmap=\"BrBG\",annot=True, linewidths=0.1)\n",
    "plt.tight_layout()"
   ]
  },
  {
   "cell_type": "code",
   "execution_count": 26,
   "metadata": {},
   "outputs": [
    {
     "data": {
      "image/png": "[encoded data removed]",
      "text/plain": [
       "<Figure size 720x432 with 1 Axes>"
      ]
     },
     "metadata": {},
     "output_type": "display_data"
    }
   ],
   "source": [
    "# Menggambar scatter plot\n",
    "fig, ax = plt.subplots(figsize=(10,6))\n",
    "ax.scatter(data['DrybulbT'], data['AirT'])\n",
    "ax.set_xlabel('DrybulbT')\n",
    "ax.set_ylabel('AirT')\n",
    "plt.show()"
   ]
  },
  {
   "cell_type": "markdown",
   "metadata": {},
   "source": [
    "## Uji Distribusi dan Normalitas"
   ]
  },
  {
   "cell_type": "code",
   "execution_count": 27,
   "metadata": {},
   "outputs": [
    {
     "name": "stdout",
     "output_type": "stream",
     "text": [
      "count    6000.000000\n",
      "mean       24.377918\n",
      "std         2.563013\n",
      "min        16.000000\n",
      "25%        23.460000\n",
      "50%        24.180000\n",
      "75%        26.000000\n",
      "max        30.190000\n",
      "Name: AirT, dtype: float64\n",
      "Kurtosis of normal distribution (should be 0): 1.6486556258205392\n",
      "Skewness of normal distribution (should be 0): -0.890693056464147\n"
     ]
    },
    {
     "data": {
      "image/png": "[encoded data removed]",
      "text/plain": [
       "<Figure size 432x288 with 1 Axes>"
      ]
     },
     "metadata": {},
     "output_type": "display_data"
    }
   ],
   "source": [
    "print(data.AirT.describe())\n",
    "\n",
    "sns.distplot(data.AirT);\n",
    "\n",
    "stats.normaltest(data.AirT)\n",
    "#This function tests the null hypothesis that a sample comes from a normal distribution. \n",
    "# It is based on D'Agostino and Pearson's test that combines skew and kurtosis to produce\n",
    "# an omnibus test of normality.\n",
    "print( 'Kurtosis of normal distribution (should be 0): {}'.format(stats.kurtosis(data.AirT)))\n",
    "print( 'Skewness of normal distribution (should be 0): {}'.format(stats.skew(data.AirT)))"
   ]
  },
  {
   "cell_type": "markdown",
   "metadata": {},
   "source": [
    "KURTOSIS: menggambarkan bobot ekor suatu distribusi\n",
    "\n",
    "Distribusi Normal memiliki kurtosis 0 (mesokurtik) <br/>\n",
    "Nilai positif memberi tahu Anda bahwa Anda memiliki ekor yang berat (mis. Banyak data di ekor Anda). <br/>\n",
    "Nilai negatif berarti Anda memiliki ekor ringan (mis. Sedikit data di ekor Anda). <br/>\n",
    "\n",
    "SKEWNESS:\n",
    "\n",
    "Jika kemiringan kurang dari -1 atau lebih besar dari 1, distribusinya sangat miring. <br/>\n",
    "Jika kemiringan antara -1 dan -0,5 atau antara 0,5 dan 1, distribusinya cukup miring. <br/>\n",
    "Jika kemiringan antara -0,5 dan 0,5, distribusinya kira-kira simetris. <br/>"
   ]
  },
  {
   "cell_type": "code",
   "execution_count": 28,
   "metadata": {},
   "outputs": [
    {
     "name": "stdout",
     "output_type": "stream",
     "text": [
      "count    6000.000000\n",
      "mean       79.966033\n",
      "std         9.704265\n",
      "min        55.840000\n",
      "25%        72.647500\n",
      "50%        79.495000\n",
      "75%        86.290000\n",
      "max        99.980000\n",
      "Name: RH, dtype: float64\n",
      "Kurtosis of normal distribution (should be 0): -0.3375007881559364\n",
      "Skewness of normal distribution (should be 0): 0.3010456112675289\n"
     ]
    },
    {
     "data": {
      "image/png": "[encoded data removed]",
      "text/plain": [
       "<Figure size 432x288 with 1 Axes>"
      ]
     },
     "metadata": {},
     "output_type": "display_data"
    }
   ],
   "source": [
    "print(data.RH.describe())\n",
    "\n",
    "sns.distplot(data.RH);\n",
    "\n",
    "stats.normaltest(data.RH)\n",
    "#This function tests the null hypothesis that a sample comes from a normal distribution. \n",
    "# It is based on D'Agostino and Pearson's test that combines skew and kurtosis to produce\n",
    "# an omnibus test of normality.\n",
    "print( 'Kurtosis of normal distribution (should be 0): {}'.format(stats.kurtosis(data.RH)))\n",
    "print( 'Skewness of normal distribution (should be 0): {}'.format(stats.skew(data.RH)))"
   ]
  },
  {
   "cell_type": "code",
   "execution_count": 29,
   "metadata": {},
   "outputs": [
    {
     "name": "stdout",
     "output_type": "stream",
     "text": [
      "count    6000.000000\n",
      "mean        9.375000\n",
      "std        12.379819\n",
      "min         0.000000\n",
      "25%         0.000000\n",
      "50%         0.000000\n",
      "75%        24.000000\n",
      "max        30.000000\n",
      "Name: AC, dtype: float64\n",
      "Kurtosis of normal distribution (should be 0): -1.4636009520297257\n",
      "Skewness of normal distribution (should be 0): 0.6387853179108071\n"
     ]
    },
    {
     "data": {
      "image/png": "[encoded data removed]",
      "text/plain": [
       "<Figure size 432x288 with 1 Axes>"
      ]
     },
     "metadata": {},
     "output_type": "display_data"
    }
   ],
   "source": [
    "print(data.AC.describe())\n",
    "\n",
    "sns.distplot(data.AC);\n",
    "\n",
    "stats.normaltest(data.AC)\n",
    "#This function tests the null hypothesis that a sample comes from a normal distribution. \n",
    "# It is based on D'Agostino and Pearson's test that combines skew and kurtosis to produce\n",
    "# an omnibus test of normality.\n",
    "print( 'Kurtosis of normal distribution (should be 0): {}'.format(stats.kurtosis(data.AC)))\n",
    "print( 'Skewness of normal distribution (should be 0): {}'.format(stats.skew(data.AC)))"
   ]
  },
  {
   "cell_type": "code",
   "execution_count": null,
   "metadata": {},
   "outputs": [],
   "source": []
  }
 ],
 "metadata": {
  "kernelspec": {
   "display_name": "Python 3",
   "language": "python",
   "name": "python3"
  },
  "language_info": {
   "codemirror_mode": {
    "name": "ipython",
    "version": 3
   },
   "file_extension": ".py",
   "mimetype": "text/x-python",
   "name": "python",
   "nbconvert_exporter": "python",
   "pygments_lexer": "ipython3",
   "version": "3.7.4"
  }
 },
 "nbformat": 4,
 "nbformat_minor": 2
}
