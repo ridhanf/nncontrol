{
 "cells": [
  {
   "cell_type": "code",
   "execution_count": 1,
   "metadata": {},
   "outputs": [],
   "source": [
    "import numpy as np\n",
    "%matplotlib inline\n",
    "import matplotlib.pyplot as plt\n",
    "import ipywidgets as wg\n",
    "from IPython.display import display\n",
    "from apm import *"
   ]
  },
  {
   "cell_type": "code",
   "execution_count": 2,
   "metadata": {},
   "outputs": [
    {
     "name": "stdout",
     "output_type": "stream",
     "text": [
      "apm 202.80.219.198_mpc_widget <br><pre> ----------------------------------------------------------------\n",
      " APMonitor, Version 0.9.2\n",
      " APMonitor Optimization Suite\n",
      " ----------------------------------------------------------------\n",
      " \n",
      " \n",
      " --------- APM Model Size ------------\n",
      " Each time step contains\n",
      "   Objects      :            0\n",
      "   Constants    :            0\n",
      "   Variables    :            5\n",
      "   Intermediates:            0\n",
      "   Connections  :            0\n",
      "   Equations    :            2\n",
      "   Residuals    :            2\n",
      " \n",
      " Variable time shift OFF\n",
      " Number of state variables:            266\n",
      " Number of total equations: -          252\n",
      " Number of slack variables: -            0\n",
      " ---------------------------------------\n",
      " Degrees of freedom       :             14\n",
      " \n",
      " ----------------------------------------------\n",
      " Dynamic Control with APOPT Solver\n",
      " ----------------------------------------------\n",
      " \n",
      " Iter    Objective  Convergence\n",
      "    0  9.34170E+01  4.00000E+00\n",
      "    1 -2.25227E+00  1.09091E-10\n",
      "    2 -2.25227E+00  1.78290E-10\n",
      "    3 -2.25227E+00  4.44089E-16\n",
      "    4 -2.25227E+00  4.44089E-16\n",
      "    5 -2.25227E+00  4.44089E-16\n",
      " Successful solution\n",
      " \n",
      " ---------------------------------------------------\n",
      " Solver         :  APOPT (v1.0)\n",
      " Solution time  :   3.350000001955777E-002 sec\n",
      " Objective      :   -2.25226655065365     \n",
      " Successful solution\n",
      " ---------------------------------------------------\n",
      " \n",
      "</pre>\n"
     ]
    }
   ],
   "source": [
    "# define server and application name\n",
    "s = 'http://byu.apmonitor.com'\n",
    "a = 'mpc_widget'\n",
    "\n",
    "# initialize MPC\n",
    "def mpc_init(s,a):\n",
    "    # clear prior and load new application\n",
    "    apm(s,a,'clear all')\n",
    "    apm_load(s,a,'mpc.apm')\n",
    "    csv_load(s,a,'mpc.csv')\n",
    "\n",
    "    # set global options\n",
    "    apm_option(s,a,'apm.imode',6)\n",
    "    apm_option(s,a,'apm.mv_type',1)\n",
    "    apm_option(s,a,'apm.cv_type',1)\n",
    "    apm_option(s,a,'apm.mv_step_hor',1)\n",
    "    apm_option(s,a,'apm.time_shift',0)\n",
    "    apm_option(s,a,'apm.solver',1)\n",
    "    apm_option(s,a,'apm.max_iter',100)\n",
    "\n",
    "    # declare MV and CV\n",
    "    apm_info(s,a,'MV','u')\n",
    "    apm_info(s,a,'CV','y')\n",
    "\n",
    "    # default options for MV\n",
    "    apm_option(s,a,'u.status',1)\n",
    "    apm_option(s,a,'u.cost',-0.1)\n",
    "    apm_option(s,a,'u.dcost',0.1)\n",
    "    apm_option(s,a,'u.dmax',2.0)\n",
    "\n",
    "    # default options for CV\n",
    "    apm_option(s,a,'y.status',1)\n",
    "    apm_option(s,a,'y.cost',0)\n",
    "    apm_option(s,a,'y.sphi',10.0)\n",
    "    apm_option(s,a,'y.splo',8.0)\n",
    "    apm_option(s,a,'y.tau',5.0)\n",
    "    apm_option(s,a,'y.tr_init',2)\n",
    "    apm_option(s,a,'y.tr_open',3)\n",
    "    apm_option(s,a,'y.wsphi',10.0)\n",
    "    apm_option(s,a,'y.wsplo',10.0)\n",
    "    \n",
    "    output = apm(s,a,'solve')\n",
    "    return output\n",
    "\n",
    "print(mpc_init(s,a))"
   ]
  },
  {
   "cell_type": "markdown",
   "metadata": {},
   "source": [
    "### Manipulated Variable Tuning\n",
    "\n",
    "* COST = (+) minimize MV, (-) maximize MV \n",
    "* DCOST = penalty for MV movement \n",
    "* DMAX = maximum that MV can move each cycle \n",
    "* MV_STEP_HOR = default 1, higher integers allow MV to move less frequently"
   ]
  },
  {
   "cell_type": "code",
   "execution_count": 3,
   "metadata": {},
   "outputs": [
    {
     "data": {
      "application/vnd.jupyter.widget-view+json": {
       "model_id": "963d168f57df4fb9bfb28cef575b947f",
       "version_major": 2,
       "version_minor": 0
      },
      "text/plain": [
       "interactive(children=(FloatSlider(value=0.0, description='cost', max=1.0, min=-1.0), FloatSlider(value=0.1, de…"
      ]
     },
     "metadata": {},
     "output_type": "display_data"
    },
    {
     "data": {
      "text/plain": [
       "<function __main__.mpc_mv_tuning(cost, dcost, dmax, mv_step)>"
      ]
     },
     "execution_count": 3,
     "metadata": {},
     "output_type": "execute_result"
    }
   ],
   "source": [
    "def mpc_mv_tuning(cost,dcost,dmax,mv_step):\n",
    "    apm_option(s,a,'u.cost',cost)\n",
    "    apm_option(s,a,'u.dcost',dcost)\n",
    "    apm_option(s,a,'u.dmax',dmax)\n",
    "    apm_option(s,a,'u.mv_step_hor',mv_step)\n",
    "    \n",
    "    # solve mpc\n",
    "    output = apm(s,a,'solve')\n",
    "    \n",
    "    # retrieve solution\n",
    "    z = apm_sol(s,a)\n",
    "    \n",
    "    plt.figure(1,figsize=(10,7))\n",
    "    plt.subplot(2,1,1)\n",
    "    plt.plot(z['time'],z['u'],'b-',label=r'$u$')\n",
    "    plt.legend(loc='best')\n",
    "    plt.ylabel('MV')\n",
    "\n",
    "    plt.subplot(2,1,2)\n",
    "    plt.plot(z['time'],z['y.tr_hi'],'r:',linewidth=3,label=r'$y_{hi}$')\n",
    "    plt.plot(z['time'],z['y'],'k',linewidth=3,label=r'$y$')\n",
    "    plt.plot(z['time'],z['y.tr_lo'],'g:',linewidth=3,label=r'$y_{lo}$')\n",
    "    plt.legend(loc='best')\n",
    "    plt.ylabel('CV')\n",
    "    plt.xlabel('Time (sec)')\n",
    "    \n",
    "cost_slide = wg.FloatSlider(value=0.0,min=-1.0,max=1.0,step=0.1)\n",
    "dcost_slide = wg.FloatSlider(value=0.1,min=0.0,max=1.0,step=0.1)\n",
    "dmax_slide = wg.FloatSlider(value=1.0,min=0.0,max=1.0,step=0.1)\n",
    "mv_step_slide = wg.FloatSlider(value=1,min=1,max=10,step=1)\n",
    "wg.interact(mpc_mv_tuning, cost=cost_slide, dcost=dcost_slide, dmax=dmax_slide, mv_step=mv_step_slide)"
   ]
  },
  {
   "cell_type": "markdown",
   "metadata": {},
   "source": [
    "### Controlled Variable Tuning\n",
    "\n",
    "* COST = (+) minimize CV, (-) maximize CV\n",
    "* SP = setpoint for the controller, translated to SPLO / SPHI for l1-norm dead-band\n",
    "* TAU = time constant of reference trajectory\n",
    "* TR_INIT = 0 for constant dead-band, 1 or 2 for reference trajectory, 2 re-initializes initial condition every cycle\n",
    "* TR_OPEN = relative opening of the initial trajectory relative to the SPHI - SPLO end difference"
   ]
  },
  {
   "cell_type": "code",
   "execution_count": 4,
   "metadata": {},
   "outputs": [
    {
     "data": {
      "application/vnd.jupyter.widget-view+json": {
       "model_id": "c2efa106a12549dcbc2b834cde1101cb",
       "version_major": 2,
       "version_minor": 0
      },
      "text/plain": [
       "interactive(children=(FloatSlider(value=0.0, description='cost', max=1.0, min=-1.0), FloatSlider(value=9.0, de…"
      ]
     },
     "metadata": {},
     "output_type": "display_data"
    },
    {
     "data": {
      "text/plain": [
       "<function __main__.mpc_cv_tuning(cost, sp, tau, tr_init, tr_open)>"
      ]
     },
     "execution_count": 4,
     "metadata": {},
     "output_type": "execute_result"
    }
   ],
   "source": [
    "def mpc_cv_tuning(cost,sp,tau,tr_init,tr_open):\n",
    "    gap = 2.0\n",
    "    apm_option(s,a,'y.cost',cost)\n",
    "    apm_option(s,a,'y.sphi',sp+gap/2)\n",
    "    apm_option(s,a,'y.splo',sp-gap/2)\n",
    "    apm_option(s,a,'y.tau',tau)\n",
    "    apm_option(s,a,'y.tr_init',tr_init)\n",
    "    apm_option(s,a,'y.tr_open',tr_open)\n",
    "    \n",
    "    # solve mpc\n",
    "    output = apm(s,a,'solve')\n",
    "    \n",
    "    # retrieve solution\n",
    "    z = apm_sol(s,a)\n",
    "    \n",
    "    plt.figure(1,figsize=(10,7))\n",
    "    plt.subplot(2,1,1)\n",
    "    plt.plot(z['time'],z['u'],'b-',label=r'$u$')\n",
    "    plt.legend(loc='best')\n",
    "    plt.ylabel('MV')\n",
    "\n",
    "    plt.subplot(2,1,2)\n",
    "    plt.plot(z['time'],z['y.tr_hi'],'r:',linewidth=3,label=r'$y_{hi}$')\n",
    "    plt.plot(z['time'],z['y'],'k',linewidth=3,label=r'$y$')\n",
    "    plt.plot(z['time'],z['y.tr_lo'],'g:',linewidth=3,label=r'$y_{lo}$')\n",
    "    plt.legend(loc='best')\n",
    "    plt.ylabel('CV')\n",
    "    plt.xlabel('Time (sec)')\n",
    "    \n",
    "cost_slide = wg.FloatSlider(value=0.0,min=-1.0,max=1.0,step=0.1)\n",
    "sp_slide = wg.FloatSlider(value=9.0,min=0.0,max=20.0,step=1.0)\n",
    "tau_slide = wg.FloatSlider(value=5.0,min=1.0,max=10.0,step=1.0)\n",
    "tr_init_slide = wg.FloatSlider(value=2.0,min=0.0,max=2.0,step=1.0)\n",
    "tr_open_slide = wg.FloatSlider(value=3.0,min=0.0,max=10.0,step=1.0)\n",
    "wg.interact(mpc_cv_tuning, cost=cost_slide, sp=sp_slide, tau=tau_slide, tr_init=tr_init_slide, tr_open=tr_open_slide)"
   ]
  },
  {
   "cell_type": "code",
   "execution_count": null,
   "metadata": {},
   "outputs": [],
   "source": []
  }
 ],
 "metadata": {
  "kernelspec": {
   "display_name": "Python 3",
   "language": "python",
   "name": "python3"
  },
  "language_info": {
   "codemirror_mode": {
    "name": "ipython",
    "version": 3
   },
   "file_extension": ".py",
   "mimetype": "text/x-python",
   "name": "python",
   "nbconvert_exporter": "python",
   "pygments_lexer": "ipython3",
   "version": "3.7.7"
  }
 },
 "nbformat": 4,
 "nbformat_minor": 4
}
