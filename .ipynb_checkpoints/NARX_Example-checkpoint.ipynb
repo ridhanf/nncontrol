{
 "cells": [
  {
   "cell_type": "code",
   "execution_count": 253,
   "metadata": {},
   "outputs": [],
   "source": [
    "from fireTS.models import NARX, DirectAutoRegressor\n",
    "from sklearn.neural_network import MLPRegressor\n",
    "import numpy as np\n",
    "\n",
    "# Random training data\n",
    "x = np.random.randn(100, 4)\n",
    "y = np.random.randn(100,2)\n",
    "x = np.append(x, y, axis=1)\n",
    "y1 = y[:,0]\n",
    "y2 = y[:,1]\n",
    "\n",
    "p, q , d = 3, 3, 1\n",
    "\n",
    "# Build a non-linear autoregression model with exogenous inputs\n",
    "# using MLPRegressor as the base model\n",
    "mdl1 = NARX(\n",
    "    MLPRegressor(random_state = 1, hidden_layer_sizes=(91), max_iter = 5000),\n",
    "    auto_order=p,\n",
    "    exog_order=[q, q, q, q],\n",
    "    exog_delay=[d, d, d, d])\n",
    "mdl1.fit(x, y1)\n",
    "ypred1 = mdl1.predict(x, y1)\n",
    "R2_mdl1 = mdl1.score(x, y1, method='r2')\n",
    "RMSE_mdl1 = mdl1.score(x, y1, method='mse')**0.5\n",
    "\n",
    "# # Build a general autoregression model and make multi-step prediction directly\n",
    "# # using MLPRegressor as the base model\n",
    "# mdl2 = DirectAutoRegressor(\n",
    "#     MLPRegressor(random_state = 1, hidden_layer_sizes=(91), max_iter = 5000),\n",
    "#     auto_order=p,\n",
    "#     exog_order=[q, q, q, q],\n",
    "#     exog_delay=[d, d, d, d],\n",
    "#     pred_step =1)\n",
    "# mdl2.fit(x, y)\n",
    "# ypred2 = mdl2.predict(x, y)\n",
    "# R2_mdl2 = mdl2.score(x, y, method='r2')\n",
    "# RMSE_mdl2 = mdl2.score(x, y, method='mse')**0.5"
   ]
  },
  {
   "cell_type": "code",
   "execution_count": 254,
   "metadata": {},
   "outputs": [
    {
     "data": {
      "text/plain": [
       "NARX(auto_order=3,\n",
       "     base_estimator=MLPRegressor(activation='relu', alpha=0.0001,\n",
       "                                 batch_size='auto', beta_1=0.9, beta_2=0.999,\n",
       "                                 early_stopping=False, epsilon=1e-08,\n",
       "                                 hidden_layer_sizes=91,\n",
       "                                 learning_rate='constant',\n",
       "                                 learning_rate_init=0.001, max_fun=15000,\n",
       "                                 max_iter=5000, momentum=0.9,\n",
       "                                 n_iter_no_change=10, nesterovs_momentum=True,\n",
       "                                 power_t=0.5, random_state=1, shuffle=True,\n",
       "                                 solver='adam', tol=0.0001,\n",
       "                                 validation_fraction=0.1, verbose=False,\n",
       "                                 warm_start=False),\n",
       "     exog_delay=[1, 1, 1, 1], exog_order=[3, 3, 3, 3])"
      ]
     },
     "execution_count": 254,
     "metadata": {},
     "output_type": "execute_result"
    }
   ],
   "source": [
    "mdl1"
   ]
  },
  {
   "cell_type": "code",
   "execution_count": 255,
   "metadata": {},
   "outputs": [
    {
     "data": {
      "text/plain": [
       "DirectAutoRegressor(auto_order=3,\n",
       "                    base_estimator=MLPRegressor(activation='relu', alpha=0.0001,\n",
       "                                                batch_size='auto', beta_1=0.9,\n",
       "                                                beta_2=0.999,\n",
       "                                                early_stopping=False,\n",
       "                                                epsilon=1e-08,\n",
       "                                                hidden_layer_sizes=91,\n",
       "                                                learning_rate='constant',\n",
       "                                                learning_rate_init=0.001,\n",
       "                                                max_fun=15000, max_iter=5000,\n",
       "                                                momentum=0.9,\n",
       "                                                n_iter_no_change=10,\n",
       "                                                nesterovs_momentum=True,\n",
       "                                                power_t=0.5, random_state=1,\n",
       "                                                shuffle=True, solver='adam',\n",
       "                                                tol=0.0001,\n",
       "                                                validation_fraction=0.1,\n",
       "                                                verbose=False,\n",
       "                                                warm_start=False),\n",
       "                    exog_delay=[1, 1, 1, 1], exog_order=[3, 3, 3, 3],\n",
       "                    pred_step=1)"
      ]
     },
     "execution_count": 255,
     "metadata": {},
     "output_type": "execute_result"
    }
   ],
   "source": [
    "mdl2"
   ]
  },
  {
   "cell_type": "code",
   "execution_count": 266,
   "metadata": {},
   "outputs": [
    {
     "data": {
      "text/plain": [
       "array([[ 0.26331078, -1.20566742,  1.02444375,  0.40417753],\n",
       "       [-0.97358651, -1.0122502 , -0.45937406,  1.31201936],\n",
       "       [ 0.39941575, -0.55079172, -0.04303121,  0.60660848],\n",
       "       [ 1.29527556,  2.97550947, -0.28321548, -0.42207215],\n",
       "       [ 0.35801331, -1.03399244, -0.59591756, -0.30738304],\n",
       "       [ 0.54551527, -1.46935842,  0.31889753,  0.49061307],\n",
       "       [ 1.66504065, -1.9790523 , -0.46750261,  1.05181184],\n",
       "       [ 0.64902783,  0.35902171, -0.23601889, -0.71223712],\n",
       "       [-0.05078052,  1.5818025 ,  0.05129231,  1.21109551],\n",
       "       [-0.23321386,  0.9966515 ,  0.04153324,  0.74810179]])"
      ]
     },
     "execution_count": 266,
     "metadata": {},
     "output_type": "execute_result"
    }
   ],
   "source": [
    "x[:10]"
   ]
  },
  {
   "cell_type": "code",
   "execution_count": 264,
   "metadata": {},
   "outputs": [
    {
     "data": {
      "text/plain": [
       "array([-0.25702414,  0.44239928, -1.56149496,  1.35306086, -0.40451172,\n",
       "       -0.20482901,  1.27876553,  0.81609331,  2.04928321,  0.12883333])"
      ]
     },
     "execution_count": 264,
     "metadata": {},
     "output_type": "execute_result"
    }
   ],
   "source": [
    "y1[:10]"
   ]
  },
  {
   "cell_type": "code",
   "execution_count": 258,
   "metadata": {},
   "outputs": [
    {
     "data": {
      "text/plain": [
       "array([        nan,         nan,         nan,         nan, -0.38755043,\n",
       "       -0.21470465,  1.22679672,  0.80133088,  1.96268004,  0.15311808])"
      ]
     },
     "execution_count": 258,
     "metadata": {},
     "output_type": "execute_result"
    }
   ],
   "source": [
    "ypred1[:10]"
   ]
  },
  {
   "cell_type": "code",
   "execution_count": 259,
   "metadata": {},
   "outputs": [
    {
     "data": {
      "text/plain": [
       "array([        nan,         nan,         nan,         nan, -0.27151278,\n",
       "       -0.01487934,  1.08358216, -0.40579806,  0.40233704, -0.69897895])"
      ]
     },
     "execution_count": 259,
     "metadata": {},
     "output_type": "execute_result"
    }
   ],
   "source": [
    "ypred2[:10]"
   ]
  },
  {
   "cell_type": "code",
   "execution_count": 260,
   "metadata": {},
   "outputs": [
    {
     "name": "stdout",
     "output_type": "stream",
     "text": [
      "Model 1: R2 = 0.9909431169740344 | RMSE = 0.0913280512395089\n"
     ]
    }
   ],
   "source": [
    "print(\"Model 1: R2 = {} | RMSE = {}\".format(R2_mdl1,RMSE_mdl1))"
   ]
  },
  {
   "cell_type": "code",
   "execution_count": 261,
   "metadata": {},
   "outputs": [
    {
     "name": "stdout",
     "output_type": "stream",
     "text": [
      "Model 2: R2 = 0.9921207410456336 | RMSE = 0.09036532061329337\n"
     ]
    }
   ],
   "source": [
    "print(\"Model 2: R2 = {} | RMSE = {}\".format(R2_mdl2,RMSE_mdl2))"
   ]
  },
  {
   "cell_type": "code",
   "execution_count": null,
   "metadata": {},
   "outputs": [],
   "source": []
  }
 ],
 "metadata": {
  "kernelspec": {
   "display_name": "Python 3",
   "language": "python",
   "name": "python3"
  },
  "language_info": {
   "codemirror_mode": {
    "name": "ipython",
    "version": 3
   },
   "file_extension": ".py",
   "mimetype": "text/x-python",
   "name": "python",
   "nbconvert_exporter": "python",
   "pygments_lexer": "ipython3",
   "version": "3.7.7"
  }
 },
 "nbformat": 4,
 "nbformat_minor": 2
}
