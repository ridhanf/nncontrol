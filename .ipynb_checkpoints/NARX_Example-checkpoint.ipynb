{
 "cells": [
  {
   "cell_type": "code",
   "execution_count": 3,
   "metadata": {},
   "outputs": [],
   "source": [
    "from fireTS.models import NARX, DirectAutoRegressor\n",
    "from sklearn.ensemble import RandomForestRegressor\n",
    "# from xgboost import XGBRegressor\n",
    "import numpy as np\n",
    "\n",
    "# Random training data\n",
    "x = np.random.randn(100, 2)\n",
    "y = np.random.randn(100)\n",
    "\n",
    "# Build a non-linear autoregression model with exogenous inputs\n",
    "# using Random Forest regression as the base model\n",
    "mdl1 = NARX(\n",
    "    RandomForestRegressor(n_estimators=10),\n",
    "    auto_order=2,\n",
    "    exog_order=[2, 2],\n",
    "    exog_delay=[1, 1])\n",
    "mdl1.fit(x, y)\n",
    "ypred1 = mdl1.predict(x, y, step=3)\n",
    "\n",
    "# # Build a general autoregression model and make multi-step prediction directly\n",
    "# # using XGBRegressor as the base model\n",
    "# mdl2 = DirectAutoRegressor(\n",
    "#     XGBRegressor(n_estimators=10),\n",
    "#     auto_order=2,\n",
    "#     exog_order=[2, 2],\n",
    "#     exog_delay=[1, 1],\n",
    "#     pred_step=3)\n",
    "# mdl2.fit(x, y)\n",
    "# ypred2 = mdl2.predict(x, y)"
   ]
  },
  {
   "cell_type": "code",
   "execution_count": 6,
   "metadata": {},
   "outputs": [
    {
     "data": {
      "text/plain": [
       "array([-0.49091032, -1.19968538, -0.22938395, -1.27536743,  1.61394522,\n",
       "       -0.57172911, -1.4986063 , -0.59927911, -0.01292577, -0.67681211,\n",
       "        0.61778266, -0.61520068, -0.02737208, -0.85598819,  0.23205959,\n",
       "       -0.19153373, -0.28781316, -0.21272947,  1.46006666, -1.02646425,\n",
       "        2.559308  ,  1.07823169, -0.65125179,  1.28656417, -0.70701759,\n",
       "        0.89647323, -1.04045397,  0.39494399,  1.67318577, -2.11284539,\n",
       "       -1.06277457,  0.2809783 ,  0.90036395, -1.3336558 , -0.84241154,\n",
       "       -0.08867202,  0.98253851, -0.73342474, -0.04806633, -0.58463072,\n",
       "        1.10468867,  0.18017394,  0.43661673,  1.67428065,  1.80800731,\n",
       "       -1.6990215 ,  2.17955457,  0.46153487, -2.12145491, -0.16756626,\n",
       "        1.48051702, -0.14820671, -0.08700789,  1.31547758,  0.33558679,\n",
       "       -0.62361156,  1.22015471, -0.05375536, -1.11046057, -0.662014  ,\n",
       "       -0.3329409 ,  0.09614288, -1.72134574, -2.01564556,  0.46492928,\n",
       "       -0.52555055,  0.99349833, -0.48444886,  0.53814861, -1.0154911 ,\n",
       "        0.35622763, -0.10464225, -0.25012492,  0.75227226, -0.15991966,\n",
       "       -1.01632941, -1.82687111, -0.6661618 ,  0.42804285, -1.40691459,\n",
       "        2.30483392,  0.0628366 ,  1.00060843, -0.63945285,  0.69440651,\n",
       "       -0.1289045 ,  0.48184319,  1.85517595, -0.12075366,  1.94980661,\n",
       "       -0.14351964,  0.45565513, -0.59319039,  1.47652913,  0.72241288,\n",
       "        0.90425969,  0.46313842,  1.07660037,  1.75203446,  1.59140492])"
      ]
     },
     "execution_count": 6,
     "metadata": {},
     "output_type": "execute_result"
    }
   ],
   "source": [
    "y"
   ]
  },
  {
   "cell_type": "code",
   "execution_count": 7,
   "metadata": {},
   "outputs": [
    {
     "data": {
      "text/plain": [
       "array([        nan,         nan,         nan,         nan,         nan,\n",
       "       -0.35276925, -0.11305736,  0.20195308,  0.09645377, -0.48035535,\n",
       "        0.24229619, -0.28874462,  0.54657728, -0.85312427, -0.14153804,\n",
       "        0.15831661, -0.34062963,  0.11253591,  0.29281144, -0.73990358,\n",
       "        0.09563289, -0.00776499,  0.43220381,  0.65439295, -0.13871952,\n",
       "        0.96198817, -0.51240185,  0.42216597,  0.79695582, -0.19846697,\n",
       "        0.23719977,  0.02859459,  0.64398458, -0.52355213, -0.29612551,\n",
       "        0.01254344,  0.52092927,  0.19120893, -0.09567787,  0.00354588,\n",
       "        0.57945007, -0.05266989,  0.34307762,  0.79629135,  0.65478093,\n",
       "        0.02653784,  1.09566717,  0.09994275, -0.26533773,  0.15131395,\n",
       "        0.37217286, -0.17735121, -0.1504882 ,  0.13190869,  0.28426779,\n",
       "       -0.41544621,  0.45103904, -0.18937585, -0.15774147, -0.37903639,\n",
       "       -0.03931244, -0.15852283, -1.2044782 , -1.14075461, -0.09652879,\n",
       "       -0.15571152,  0.41726355, -0.70403671,  0.20635343, -0.79822036,\n",
       "       -0.16457099, -0.38515047, -0.31058388,  0.31934738, -0.15665178,\n",
       "        0.07914925, -0.63277314,  0.08378938,  0.43993797, -0.91449703,\n",
       "        0.97925979, -0.10677858,  0.6606915 , -0.2379246 ,  0.38165065,\n",
       "        0.20306376,  0.43787259,  0.92642714,  0.28934937,  0.62376053,\n",
       "        0.02337152,  0.33646583, -0.36978181,  0.87693164,  0.32956682,\n",
       "        0.29946396, -0.05257461,  0.3336482 ,  0.84900564,  0.23160499])"
      ]
     },
     "execution_count": 7,
     "metadata": {},
     "output_type": "execute_result"
    }
   ],
   "source": [
    "ypred1"
   ]
  },
  {
   "cell_type": "code",
   "execution_count": 11,
   "metadata": {},
   "outputs": [],
   "source": [
    "# from sklearn.metrics import mean_squared_error\n",
    "\n",
    "# RMSE = round(mean_squared_error(y, ypred1)**0.5,2)\n",
    "# RMSE"
   ]
  },
  {
   "cell_type": "code",
   "execution_count": null,
   "metadata": {
    "collapsed": true
   },
   "outputs": [],
   "source": []
  }
 ],
 "metadata": {
  "kernelspec": {
   "display_name": "Python 3",
   "language": "python",
   "name": "python3"
  },
  "language_info": {
   "codemirror_mode": {
    "name": "ipython",
    "version": 3
   },
   "file_extension": ".py",
   "mimetype": "text/x-python",
   "name": "python",
   "nbconvert_exporter": "python",
   "pygments_lexer": "ipython3",
   "version": "3.5.3"
  }
 },
 "nbformat": 4,
 "nbformat_minor": 2
}
