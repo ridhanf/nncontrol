{
 "cells": [
  {
   "cell_type": "code",
   "execution_count": 279,
   "metadata": {},
   "outputs": [],
   "source": [
    "from fireTS.models import NARX, DirectAutoRegressor\n",
    "from sklearn.neural_network import MLPRegressor\n",
    "import numpy as np\n",
    "\n",
    "# Random training data\n",
    "x = np.random.randn(100, 2)\n",
    "y = np.random.randn(100,2)\n",
    "\n",
    "x = np.append(x, y, axis=1)\n",
    "y1 = y[:,0]\n",
    "y2 = y[:,1]\n",
    "\n",
    "p, q , d = 3, 3, 1\n",
    "\n",
    "# Build a non-linear autoregression model with exogenous inputs\n",
    "# using MLPRegressor as the base model\n",
    "mdl1 = NARX(\n",
    "    MLPRegressor(random_state = 1, hidden_layer_sizes=(91), max_iter = 5000),\n",
    "    auto_order=p,\n",
    "    exog_order=[q, q, q, q],\n",
    "    exog_delay=[d, d, d, d])\n",
    "mdl1.fit(x, y1)\n",
    "ypred1 = mdl1.predict(x, y1)\n",
    "R2_mdl1 = mdl1.score(x, y1, method='r2')\n",
    "RMSE_mdl1 = mdl1.score(x, y1, method='mse')**0.5\n",
    "\n",
    "# # Build a general autoregression model and make multi-step prediction directly\n",
    "# # using MLPRegressor as the base model\n",
    "# mdl2 = DirectAutoRegressor(\n",
    "#     MLPRegressor(random_state = 1, hidden_layer_sizes=(91), max_iter = 5000),\n",
    "#     auto_order=p,\n",
    "#     exog_order=[q, q, q, q],\n",
    "#     exog_delay=[d, d, d, d],\n",
    "#     pred_step =1)\n",
    "# mdl2.fit(x, y)\n",
    "# ypred2 = mdl2.predict(x, y)\n",
    "# R2_mdl2 = mdl2.score(x, y, method='r2')\n",
    "# RMSE_mdl2 = mdl2.score(x, y, method='mse')**0.5"
   ]
  },
  {
   "cell_type": "code",
   "execution_count": 280,
   "metadata": {},
   "outputs": [
    {
     "data": {
      "text/plain": [
       "NARX(auto_order=3,\n",
       "     base_estimator=MLPRegressor(activation='relu', alpha=0.0001,\n",
       "                                 batch_size='auto', beta_1=0.9, beta_2=0.999,\n",
       "                                 early_stopping=False, epsilon=1e-08,\n",
       "                                 hidden_layer_sizes=91,\n",
       "                                 learning_rate='constant',\n",
       "                                 learning_rate_init=0.001, max_fun=15000,\n",
       "                                 max_iter=5000, momentum=0.9,\n",
       "                                 n_iter_no_change=10, nesterovs_momentum=True,\n",
       "                                 power_t=0.5, random_state=1, shuffle=True,\n",
       "                                 solver='adam', tol=0.0001,\n",
       "                                 validation_fraction=0.1, verbose=False,\n",
       "                                 warm_start=False),\n",
       "     exog_delay=[1, 1, 1, 1], exog_order=[3, 3, 3, 3])"
      ]
     },
     "execution_count": 280,
     "metadata": {},
     "output_type": "execute_result"
    }
   ],
   "source": [
    "mdl1"
   ]
  },
  {
   "cell_type": "code",
   "execution_count": 281,
   "metadata": {},
   "outputs": [
    {
     "data": {
      "text/plain": [
       "DirectAutoRegressor(auto_order=3,\n",
       "                    base_estimator=MLPRegressor(activation='relu', alpha=0.0001,\n",
       "                                                batch_size='auto', beta_1=0.9,\n",
       "                                                beta_2=0.999,\n",
       "                                                early_stopping=False,\n",
       "                                                epsilon=1e-08,\n",
       "                                                hidden_layer_sizes=91,\n",
       "                                                learning_rate='constant',\n",
       "                                                learning_rate_init=0.001,\n",
       "                                                max_fun=15000, max_iter=5000,\n",
       "                                                momentum=0.9,\n",
       "                                                n_iter_no_change=10,\n",
       "                                                nesterovs_momentum=True,\n",
       "                                                power_t=0.5, random_state=1,\n",
       "                                                shuffle=True, solver='adam',\n",
       "                                                tol=0.0001,\n",
       "                                                validation_fraction=0.1,\n",
       "                                                verbose=False,\n",
       "                                                warm_start=False),\n",
       "                    exog_delay=[1, 1, 1, 1], exog_order=[3, 3, 3, 3],\n",
       "                    pred_step=1)"
      ]
     },
     "execution_count": 281,
     "metadata": {},
     "output_type": "execute_result"
    }
   ],
   "source": [
    "mdl2"
   ]
  },
  {
   "cell_type": "code",
   "execution_count": 282,
   "metadata": {},
   "outputs": [
    {
     "data": {
      "text/plain": [
       "array([[ 0.69978971, -0.3170435 , -0.18682005, -0.29104796],\n",
       "       [ 1.00115199, -1.18123674,  1.62297663, -0.55983616],\n",
       "       [-0.39830562, -1.32406291,  1.19737577,  1.71057083],\n",
       "       [ 1.02977213, -0.73189183,  0.95842269,  0.6980463 ],\n",
       "       [-0.51515139, -1.50908437, -1.84032499,  0.11861452],\n",
       "       [-0.08688187,  0.35297619,  1.43412061,  0.82218709],\n",
       "       [-0.499579  , -0.72379622,  0.83542657,  1.16189568],\n",
       "       [-0.17359627,  1.14986568,  0.09168375, -1.08440089],\n",
       "       [ 1.40775766, -1.40929964,  1.57001969,  0.77863618],\n",
       "       [ 0.31594556, -0.63889716,  0.13726099,  1.32205033]])"
      ]
     },
     "execution_count": 282,
     "metadata": {},
     "output_type": "execute_result"
    }
   ],
   "source": [
    "x[:10]"
   ]
  },
  {
   "cell_type": "code",
   "execution_count": 283,
   "metadata": {},
   "outputs": [
    {
     "data": {
      "text/plain": [
       "array([-0.18682005,  1.62297663,  1.19737577,  0.95842269, -1.84032499,\n",
       "        1.43412061,  0.83542657,  0.09168375,  1.57001969,  0.13726099])"
      ]
     },
     "execution_count": 283,
     "metadata": {},
     "output_type": "execute_result"
    }
   ],
   "source": [
    "y1[:10]"
   ]
  },
  {
   "cell_type": "code",
   "execution_count": 284,
   "metadata": {},
   "outputs": [
    {
     "data": {
      "text/plain": [
       "array([        nan,         nan,         nan,         nan, -1.71569726,\n",
       "        1.37113119,  0.79244533,  0.0110503 ,  1.54820412,  0.06666719])"
      ]
     },
     "execution_count": 284,
     "metadata": {},
     "output_type": "execute_result"
    }
   ],
   "source": [
    "ypred1[:10]"
   ]
  },
  {
   "cell_type": "code",
   "execution_count": 285,
   "metadata": {},
   "outputs": [
    {
     "data": {
      "text/plain": [
       "array([        nan,         nan,         nan,         nan, -0.27151278,\n",
       "       -0.01487934,  1.08358216, -0.40579806,  0.40233704, -0.69897895])"
      ]
     },
     "execution_count": 285,
     "metadata": {},
     "output_type": "execute_result"
    }
   ],
   "source": [
    "ypred2[:10]"
   ]
  },
  {
   "cell_type": "code",
   "execution_count": 286,
   "metadata": {},
   "outputs": [
    {
     "name": "stdout",
     "output_type": "stream",
     "text": [
      "Model 1: R2 = 0.9920100320346246 | RMSE = 0.09854837560120597\n"
     ]
    }
   ],
   "source": [
    "print(\"Model 1: R2 = {} | RMSE = {}\".format(R2_mdl1,RMSE_mdl1))"
   ]
  },
  {
   "cell_type": "code",
   "execution_count": 287,
   "metadata": {},
   "outputs": [
    {
     "name": "stdout",
     "output_type": "stream",
     "text": [
      "Model 2: R2 = 0.9921207410456336 | RMSE = 0.09036532061329337\n"
     ]
    }
   ],
   "source": [
    "print(\"Model 2: R2 = {} | RMSE = {}\".format(R2_mdl2,RMSE_mdl2))"
   ]
  },
  {
   "cell_type": "code",
   "execution_count": null,
   "metadata": {},
   "outputs": [],
   "source": []
  }
 ],
 "metadata": {
  "kernelspec": {
   "display_name": "Python 3",
   "language": "python",
   "name": "python3"
  },
  "language_info": {
   "codemirror_mode": {
    "name": "ipython",
    "version": 3
   },
   "file_extension": ".py",
   "mimetype": "text/x-python",
   "name": "python",
   "nbconvert_exporter": "python",
   "pygments_lexer": "ipython3",
   "version": "3.7.6"
  }
 },
 "nbformat": 4,
 "nbformat_minor": 2
}
