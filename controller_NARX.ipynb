{
 "cells": [
  {
   "cell_type": "code",
   "execution_count": 1,
   "metadata": {},
   "outputs": [
    {
     "name": "stderr",
     "output_type": "stream",
     "text": [
      "/home/dhan/miniconda3/envs/ML/lib/python3.7/site-packages/sklearn/utils/deprecation.py:144: FutureWarning: The sklearn.metrics.regression module is  deprecated in version 0.22 and will be removed in version 0.24. The corresponding classes / functions should instead be imported from sklearn.metrics. Anything that cannot be imported from sklearn.metrics is now part of the private API.\n",
      "  warnings.warn(message, FutureWarning)\n"
     ]
    }
   ],
   "source": [
    "# Import needed libraries\n",
    "from fireTS.models import NARX\n",
    "import numpy as np\n",
    "import pandas as pd\n",
    "from sklearn.model_selection import train_test_split\n",
    "from sklearn.neural_network import MLPRegressor\n",
    "from sklearn.metrics import mean_squared_error, mean_absolute_error, explained_variance_score, r2_score\n",
    "from matplotlib import pyplot as plt\n",
    "%matplotlib inline"
   ]
  },
  {
   "cell_type": "code",
   "execution_count": 2,
   "metadata": {},
   "outputs": [
    {
     "name": "stdout",
     "output_type": "stream",
     "text": [
      "train: 80.0% | validation: 15.0% | test 5.0%\n"
     ]
    }
   ],
   "source": [
    "# Import dataset\n",
    "data = pd.read_excel('Data/newData.xlsx')\n",
    "\n",
    "y = data.loc[:, ['HT','AC'] ]\n",
    "X = data.loc[:, ['To','RD','Td','RH'] ]\n",
    "# # X for NARX: X = X and Y\n",
    "# X = np.append(X, y, axis=1)\n",
    "\n",
    "# Split dataset\n",
    "# Data test\n",
    "X_temp, X_test, y_temp, y_test = train_test_split(X, y, test_size=0.05, shuffle=False, random_state=15)\n",
    "# Data train and Data validation\n",
    "X_train, X_val, y_train, y_val = train_test_split(X_temp, y_temp, test_size=(15/95), shuffle=False, random_state=2019)\n",
    "# delete temporary data\n",
    "del X_temp, y_temp\n",
    "\n",
    "# print proportions\n",
    "print('train: {}% | validation: {}% | test {}%'.format(round(len(y_train)/len(y)*100,2),\n",
    "                                                        round(len(y_val)/len(y)*100,2),\n",
    "                                                        round(len(y_test)/len(y)*100,2)))"
   ]
  },
  {
   "cell_type": "code",
   "execution_count": 3,
   "metadata": {},
   "outputs": [],
   "source": [
    "# Control design (MLP-NARX)\n",
    "mdl_MLP = MLPRegressor(random_state = 1, hidden_layer_sizes=(91), max_iter = 5000)\n",
    "\n",
    "p_value, q_value, d_value = 1, [3]*4, [0]*4\n",
    "mdl_NARX = NARX(mdl_MLP, auto_order=p_value, exog_order=q_value, exog_delay=d_value)"
   ]
  },
  {
   "cell_type": "code",
   "execution_count": 4,
   "metadata": {},
   "outputs": [],
   "source": [
    "# score function\n",
    "def kinerja(y_target, y_pred, method=\"evar\"):\n",
    "    mask = np.isnan(y_target) | np.isnan(y_pred)\n",
    "    if method == \"evar\":\n",
    "        return explained_variance_score(y_target[~mask], y_pred[~mask])\n",
    "    elif method == \"r2\":\n",
    "        return r2_score(y_target[~mask], y_pred[~mask])\n",
    "    elif method == \"mse\":\n",
    "        return mean_squared_error(y_target[~mask], y_pred[~mask])\n",
    "    elif method == \"mae\":\n",
    "        return mean_absolute_error(y_target[~mask], y_pred[~mask])"
   ]
  },
  {
   "cell_type": "code",
   "execution_count": 5,
   "metadata": {},
   "outputs": [],
   "source": [
    "y_test = y_test.sample(frac=1)"
   ]
  },
  {
   "cell_type": "markdown",
   "metadata": {},
   "source": [
    "### SET AC"
   ]
  },
  {
   "cell_type": "code",
   "execution_count": 6,
   "metadata": {},
   "outputs": [],
   "source": [
    "# Controller Training\n",
    "mdl_NARX.fit(X_train, y_train.AC)"
   ]
  },
  {
   "cell_type": "code",
   "execution_count": 7,
   "metadata": {},
   "outputs": [],
   "source": [
    "# Prediction\n",
    "y_pred = mdl_NARX.predict(X_val, y_val.AC, step=1)\n",
    "y_pred = pd.Series(y_pred, index=y_val.index)"
   ]
  },
  {
   "cell_type": "code",
   "execution_count": 8,
   "metadata": {},
   "outputs": [
    {
     "data": {
      "text/plain": [
       "<matplotlib.legend.Legend at 0x7f30dbf050d0>"
      ]
     },
     "execution_count": 8,
     "metadata": {},
     "output_type": "execute_result"
    },
    {
     "data": {
      "image/png": "[encoded data removed]",
      "text/plain": [
       "<Figure size 432x288 with 1 Axes>"
      ]
     },
     "metadata": {
      "needs_background": "light"
     },
     "output_type": "display_data"
    }
   ],
   "source": [
    "# Plot result\n",
    "y_val.AC.plot(label='AC_actual')\n",
    "y_pred.plot(label='AC_prediction')\n",
    "plt.legend()"
   ]
  },
  {
   "cell_type": "code",
   "execution_count": 9,
   "metadata": {},
   "outputs": [
    {
     "name": "stdout",
     "output_type": "stream",
     "text": [
      "Performance evaluation based on Test Data\n",
      "EVar = -74.87% | R2 = -74.88% | RMSE = 18.95 | MAE = 14.05\n",
      "\n"
     ]
    }
   ],
   "source": [
    "# Performance Evaluation\n",
    "y_pred = mdl_NARX.predict(X_test, y_test.AC, step=1)\n",
    "y_pred = pd.Series(y_pred, index=y_test.index)\n",
    "\n",
    "EVar = round(kinerja(y_test.AC, y_pred, method='evar')*100, 2)\n",
    "R2   = round(kinerja(y_test.AC, y_pred, method='r2')*100, 2)\n",
    "RMSE = round(kinerja(y_test.AC, y_pred, method='mse')**0.5, 2)\n",
    "MAE  = round(kinerja(y_test.AC, y_pred, method='mae'), 2)\n",
    "print(\"Performance evaluation based on Test Data\")\n",
    "print(\"EVar = {}% | R2 = {}% | RMSE = {} | MAE = {}\".format(EVar, R2, RMSE, MAE))\n",
    "print()"
   ]
  },
  {
   "cell_type": "markdown",
   "metadata": {},
   "source": [
    "### SET Heater"
   ]
  },
  {
   "cell_type": "code",
   "execution_count": 10,
   "metadata": {},
   "outputs": [],
   "source": [
    "# Controller Training\n",
    "mdl_NARX.fit(X_train, y_train.HT)"
   ]
  },
  {
   "cell_type": "code",
   "execution_count": 11,
   "metadata": {},
   "outputs": [],
   "source": [
    "# Prediction\n",
    "y_pred = mdl_NARX.predict(X_val, y_val.HT, step=1)\n",
    "y_pred = pd.Series(y_pred, index=y_val.index)"
   ]
  },
  {
   "cell_type": "code",
   "execution_count": 12,
   "metadata": {},
   "outputs": [
    {
     "data": {
      "text/plain": [
       "<matplotlib.legend.Legend at 0x7f30dbe31290>"
      ]
     },
     "execution_count": 12,
     "metadata": {},
     "output_type": "execute_result"
    },
    {
     "data": {
      "image/png": "[encoded data removed]",
      "text/plain": [
       "<Figure size 432x288 with 1 Axes>"
      ]
     },
     "metadata": {
      "needs_background": "light"
     },
     "output_type": "display_data"
    }
   ],
   "source": [
    "# Plot result\n",
    "y_val.HT.plot(label='HT_actual')\n",
    "y_pred.plot(label='HT_prediction')\n",
    "plt.legend()"
   ]
  },
  {
   "cell_type": "code",
   "execution_count": 13,
   "metadata": {},
   "outputs": [
    {
     "name": "stdout",
     "output_type": "stream",
     "text": [
      "Performance evaluation based on Test Data\n",
      "EVar = -97.93% | R2 = -98.25% | RMSE = 1.05 | MAE = 0.82\n",
      "\n"
     ]
    }
   ],
   "source": [
    "# Performance Evaluation\n",
    "y_pred = mdl_NARX.predict(X_test, y_test.HT, step=1)\n",
    "y_pred = pd.Series(y_pred, index=y_test.index)\n",
    "\n",
    "EVar = round(kinerja(y_test.HT, y_pred, method='evar')*100, 2)\n",
    "R2   = round(kinerja(y_test.HT, y_pred, method='r2')*100, 2)\n",
    "RMSE = round(kinerja(y_test.HT, y_pred, method='mse')**0.5, 2)\n",
    "MAE  = round(kinerja(y_test.HT, y_pred, method='mae'), 2)\n",
    "print(\"Performance evaluation based on Test Data\")\n",
    "print(\"EVar = {}% | R2 = {}% | RMSE = {} | MAE = {}\".format(EVar, R2, RMSE, MAE))\n",
    "print()"
   ]
  },
  {
   "cell_type": "code",
   "execution_count": null,
   "metadata": {},
   "outputs": [],
   "source": []
  },
  {
   "cell_type": "code",
   "execution_count": null,
   "metadata": {},
   "outputs": [],
   "source": []
  }
 ],
 "metadata": {
  "kernelspec": {
   "display_name": "Python 3",
   "language": "python",
   "name": "python3"
  },
  "language_info": {
   "codemirror_mode": {
    "name": "ipython",
    "version": 3
   },
   "file_extension": ".py",
   "mimetype": "text/x-python",
   "name": "python",
   "nbconvert_exporter": "python",
   "pygments_lexer": "ipython3",
   "version": "3.7.7"
  }
 },
 "nbformat": 4,
 "nbformat_minor": 4
}
