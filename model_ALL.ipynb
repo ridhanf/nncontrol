{
 "cells": [
  {
   "cell_type": "markdown",
   "metadata": {},
   "source": [
    "# Rancang Bangun Pengendali Otomatis Lingkungan Termal Berbasis Jaringan Saraf Tiruan"
   ]
  },
  {
   "cell_type": "markdown",
   "metadata": {},
   "source": [
    "### Program Kecerdasan Buatan untuk membentuk model jaringan saraf tiruan dalam memenuhi Tugas Akhir program studi Teknik Fisika."
   ]
  },
  {
   "cell_type": "code",
   "execution_count": 1,
   "metadata": {},
   "outputs": [],
   "source": [
    "# Mengimpor pustaka yang dibutuhkan.\n",
    "\n",
    "import numpy as np\n",
    "import pandas as pd\n",
    "\n",
    "from matplotlib import pyplot as plt\n",
    "%matplotlib inline"
   ]
  },
  {
   "cell_type": "code",
   "execution_count": 2,
   "metadata": {},
   "outputs": [],
   "source": [
    "# Memasukkan dataset ke dalam jupyter.\n",
    "data = pd.read_excel('Data/dataAll.xlsx')"
   ]
  },
  {
   "cell_type": "code",
   "execution_count": 3,
   "metadata": {},
   "outputs": [],
   "source": [
    "# # Mengubah tipe data waktu\n",
    "# def ubahT(dt):\n",
    "#     waktu = 60*int(dt.strftime('%H')) + int(dt.strftime('%M'))\n",
    "#     return waktu\n",
    "\n",
    "# data['Time'] = data['Time'].apply(ubahT)\n",
    "# data['Time']"
   ]
  },
  {
   "cell_type": "code",
   "execution_count": 4,
   "metadata": {},
   "outputs": [],
   "source": [
    "# # Mengubah data Month\n",
    "\n",
    "# def ubahM(dt):\n",
    "#     if dt == 'Mar':\n",
    "#         return 3\n",
    "#     elif dt == 'Jun':\n",
    "#         return 6\n",
    "#     elif dt == 'Sep':\n",
    "#         return 9\n",
    "#     elif dt == 'Des':\n",
    "#         return 12\n",
    "\n",
    "# data['Month'] = data['Month'].apply(ubahM)\n",
    "# data['Month']"
   ]
  },
  {
   "cell_type": "code",
   "execution_count": 5,
   "metadata": {},
   "outputs": [],
   "source": [
    "# Memisahkan data input dan data target.\n",
    "\n",
    "# Data Input\n",
    "X = data[['Heater','AC','DrybulbT','Radiation']]\n",
    "\n",
    "# Data Target\n",
    "target = data[['AirT','RH','No','Variation','Month','Time']]"
   ]
  },
  {
   "cell_type": "code",
   "execution_count": 6,
   "metadata": {},
   "outputs": [],
   "source": [
    "# Memisahkan data pelatihan (training) dan data pengujian (testing).\n",
    "\n",
    "from sklearn.model_selection import train_test_split\n",
    "from sklearn.metrics import mean_squared_error, r2_score\n",
    "\n",
    "# Memisahkan 20% menjadi data tes\n",
    "X_temp, X_test, y_temp, y_test = train_test_split(X, target, test_size=0.2, shuffle=True, random_state=15)\n",
    "\n",
    "# Memisahkan 20% menjadi data validation\n",
    "X_train, X_val, y_train, y_val = train_test_split(X_temp, y_temp, test_size=0.25, shuffle=True, random_state=2019)"
   ]
  },
  {
   "cell_type": "code",
   "execution_count": 7,
   "metadata": {},
   "outputs": [
    {
     "name": "stdout",
     "output_type": "stream",
     "text": [
      "train: 60.0% | validation: 20.0% | test 20.0%\n"
     ]
    }
   ],
   "source": [
    "# Menghapus data temporary\n",
    "del X_temp, y_temp\n",
    "\n",
    "# print proportions\n",
    "print('train: {}% | validation: {}% | test {}%'.format(round(len(y_train)/len(target)*100,2),\n",
    "                                                       round(len(y_val)/len(target)*100,2),\n",
    "                                                       round(len(y_test)/len(target)*100,2)))"
   ]
  },
  {
   "cell_type": "code",
   "execution_count": 8,
   "metadata": {},
   "outputs": [
    {
     "name": "stdout",
     "output_type": "stream",
     "text": [
      "(14400, 4) (4800, 4) (4800, 4) (14400, 6) (4800, 6) (4800, 6)\n"
     ]
    }
   ],
   "source": [
    "# banyak data\n",
    "print(X_train.shape, X_val.shape, X_test.shape, y_train.shape, y_val.shape, y_test.shape)"
   ]
  },
  {
   "cell_type": "markdown",
   "metadata": {},
   "source": [
    "## Model Tuning menggunakan Multi-Layer Perceptron Regressor"
   ]
  },
  {
   "cell_type": "code",
   "execution_count": 9,
   "metadata": {},
   "outputs": [],
   "source": [
    "# Impor pustaka\n",
    "from sklearn.neural_network import MLPRegressor\n",
    "\n",
    "# list_neuron = [1,5,10,25,50,75,100]\n",
    "list_neuron = range(1,21)"
   ]
  },
  {
   "cell_type": "code",
   "execution_count": 10,
   "metadata": {},
   "outputs": [],
   "source": [
    "# # Mencari optimasi jumlah hidden layer dan neuron terbaik\n",
    "# import operator\n",
    "\n",
    "# def ann(m):\n",
    "#     # Model MLP\n",
    "#     return MLPRegressor(random_state = 1, activation = 'relu', hidden_layer_sizes=(m), solver='adam', alpha=0.001, max_iter = 5000)\n",
    "\n",
    "# daftar = {}\n",
    "# for i in list_neuron:\n",
    "#     # Pelatihan model\n",
    "#     model = ann(i)\n",
    "#     model.fit(X_train, y_train[['AirT','RH']])\n",
    "    \n",
    "#     # Prediksi model\n",
    "#     y_pred = model.predict(X_val)\n",
    "#     y_pred = pd.DataFrame(y_pred, columns=['AirT','RH'])\n",
    "    \n",
    "#     # Menghitung nilai RMSE dan R^2 (Validasi)\n",
    "#     rmse_AirT = round(mean_squared_error(y_val.AirT, y_pred.AirT)**0.5,2)\n",
    "#     R2_AirT = round(r2_score(y_val.AirT, y_pred.AirT)*100,2)\n",
    "    \n",
    "#     key = str(i)\n",
    "#     value = str(rmse_AirT) + ',' + str(R2_AirT)\n",
    "#     daftar[key] = rmse_AirT\n",
    "#     print(i,': ','RMSE =',rmse_AirT,', R^2 =',R2_AirT,'%')\n",
    "#     if R2_AirT > 0.5 and rmse_AirT < 1:\n",
    "#         neuron = {i}\n",
    "#         break\n",
    "#     else:\n",
    "#         neuron = min(daftar.items(), key=operator.itemgetter(1))[0]\n",
    "\n",
    "# print()\n",
    "# print(neuron, daftar)  # 15 : RMSE = 1.04, R^2 = 82.61%"
   ]
  },
  {
   "cell_type": "code",
   "execution_count": 11,
   "metadata": {},
   "outputs": [
    {
     "ename": "NameError",
     "evalue": "name 'daftar' is not defined",
     "output_type": "error",
     "traceback": [
      "\u001b[0;31m---------------------------------------------------------------------------\u001b[0m",
      "\u001b[0;31mNameError\u001b[0m                                 Traceback (most recent call last)",
      "\u001b[0;32m<ipython-input-11-ed172da74c4e>\u001b[0m in \u001b[0;36m<module>\u001b[0;34m\u001b[0m\n\u001b[0;32m----> 1\u001b[0;31m \u001b[0mlists\u001b[0m \u001b[0;34m=\u001b[0m \u001b[0msorted\u001b[0m\u001b[0;34m(\u001b[0m\u001b[0mdaftar\u001b[0m\u001b[0;34m.\u001b[0m\u001b[0mitems\u001b[0m\u001b[0;34m(\u001b[0m\u001b[0;34m)\u001b[0m\u001b[0;34m)\u001b[0m\u001b[0;34m\u001b[0m\u001b[0;34m\u001b[0m\u001b[0m\n\u001b[0m\u001b[1;32m      2\u001b[0m \u001b[0mx\u001b[0m\u001b[0;34m,\u001b[0m \u001b[0my\u001b[0m \u001b[0;34m=\u001b[0m \u001b[0mzip\u001b[0m\u001b[0;34m(\u001b[0m\u001b[0;34m*\u001b[0m\u001b[0mlists\u001b[0m\u001b[0;34m)\u001b[0m\u001b[0;34m\u001b[0m\u001b[0;34m\u001b[0m\u001b[0m\n\u001b[1;32m      3\u001b[0m \u001b[0;34m\u001b[0m\u001b[0m\n\u001b[1;32m      4\u001b[0m \u001b[0mplt\u001b[0m\u001b[0;34m.\u001b[0m\u001b[0mplot\u001b[0m\u001b[0;34m(\u001b[0m\u001b[0mx\u001b[0m\u001b[0;34m,\u001b[0m \u001b[0my\u001b[0m\u001b[0;34m)\u001b[0m\u001b[0;34m\u001b[0m\u001b[0;34m\u001b[0m\u001b[0m\n\u001b[1;32m      5\u001b[0m \u001b[0mplt\u001b[0m\u001b[0;34m.\u001b[0m\u001b[0mshow\u001b[0m\u001b[0;34m(\u001b[0m\u001b[0;34m)\u001b[0m\u001b[0;34m\u001b[0m\u001b[0;34m\u001b[0m\u001b[0m\n",
      "\u001b[0;31mNameError\u001b[0m: name 'daftar' is not defined"
     ]
    }
   ],
   "source": [
    "lists = sorted(daftar.items())\n",
    "x, y = zip(*lists)\n",
    "\n",
    "plt.plot(x, y)\n",
    "plt.show()"
   ]
  },
  {
   "cell_type": "code",
   "execution_count": null,
   "metadata": {},
   "outputs": [
    {
     "name": "stdout",
     "output_type": "stream",
     "text": [
      "1 1 :  RMSE = 2.5 , R^2 = -0.01\n",
      "1 2 :  RMSE = 2.5 , R^2 = -0.01\n",
      "1 3 :  RMSE = 2.5 , R^2 = -0.01\n",
      "1 4 :  RMSE = 2.5 , R^2 = -0.01\n",
      "1 5 :  RMSE = 2.5 , R^2 = -0.02\n",
      "1 6 :  RMSE = 2.5 , R^2 = -0.0\n",
      "1 7 :  RMSE = 2.5 , R^2 = -0.03\n",
      "1 8 :  RMSE = 2.5 , R^2 = -0.0\n",
      "1 9 :  RMSE = 2.5 , R^2 = -0.0\n",
      "1 10 :  RMSE = 2.5 , R^2 = -0.0\n",
      "1 11 :  RMSE = 2.5 , R^2 = -0.03\n",
      "1 12 :  RMSE = 2.5 , R^2 = -0.0\n",
      "1 13 :  RMSE = 2.5 , R^2 = -0.0\n",
      "1 14 :  RMSE = 2.5 , R^2 = -0.01\n",
      "1 15 :  RMSE = 2.5 , R^2 = -0.0\n",
      "1 16 :  RMSE = 2.5 , R^2 = -0.07\n",
      "1 17 :  RMSE = 2.5 , R^2 = -0.01\n",
      "1 18 :  RMSE = 2.5 , R^2 = -0.01\n",
      "1 19 :  RMSE = 2.5 , R^2 = -0.03\n",
      "1 20 :  RMSE = 2.5 , R^2 = -0.0\n",
      "2 1 :  RMSE = 2.5 , R^2 = -0.01\n",
      "2 2 :  RMSE = 2.5 , R^2 = -0.01\n",
      "2 3 :  RMSE = 2.5 , R^2 = -0.01\n",
      "2 4 :  RMSE = 2.63 , R^2 = -11.04\n",
      "2 5 :  RMSE = 2.5 , R^2 = -0.01\n",
      "2 6 :  RMSE = 2.5 , R^2 = -0.05\n",
      "2 7 :  RMSE = 2.5 , R^2 = -0.05\n"
     ]
    }
   ],
   "source": [
    "# Mencari optimasi jumlah hidden layer dan neuron terbaik\n",
    "import operator\n",
    "\n",
    "def ann(m,n):\n",
    "    # Model MLP\n",
    "    return MLPRegressor(random_state = 1, activation = 'relu', hidden_layer_sizes=(m,n), solver='adam', alpha=0.001, max_iter = 5000)\n",
    "\n",
    "daftar = {}\n",
    "for i in list_neuron:\n",
    "    for j in list_neuron:\n",
    "        # Pelatihan model\n",
    "        model = ann(i,j)\n",
    "        model.fit(X_train, y_train[['AirT','RH']])\n",
    "\n",
    "        # Prediksi model\n",
    "        y_pred = model.predict(X_val)\n",
    "        y_pred = pd.DataFrame(y_pred, columns=['AirT','RH'])\n",
    "\n",
    "        # Menghitung nilai RMSE dan R^2 (Validasi)\n",
    "        rmse_AirT = round(mean_squared_error(y_val.AirT, y_pred.AirT)**0.5,2)\n",
    "        R2_AirT = round(r2_score(y_val.AirT, y_pred.AirT)*100,2)\n",
    "\n",
    "        key = str(i) + ',' + str(j)\n",
    "        value = str(rmse_AirT) + ',' + str(R2_AirT)\n",
    "        daftar[key] = rmse_AirT\n",
    "        print(i,j,': ','RMSE =',rmse_AirT,', R^2 =',R2_AirT)\n",
    "        if R2_AirT > 0.5 and rmse_AirT < 1:\n",
    "            neuron = {i,j}\n",
    "            break\n",
    "        else:\n",
    "            neuron = min(daftar.items(), key=operator.itemgetter(1))[0]\n",
    "\n",
    "print()\n",
    "print(neuron, daftar)  # i, j : RMSE = ..."
   ]
  },
  {
   "cell_type": "code",
   "execution_count": null,
   "metadata": {},
   "outputs": [],
   "source": [
    "# alphas = [0.00001, 0.0001, 0.001, 0.01, 0.1, 1, 10]\n",
    "# print('Mencari nilai alpha terbaik')\n",
    "# print('-'*76)\n",
    "# for alpha in alphas:\n",
    "#     # Pembuatan model\n",
    "#     # model_mlp = MLPRegressor(random_state=1, activation='relu', hidden_layer_sizes=(24,24,24), solver='adam')\n",
    "#     model_mlp = MLPRegressor(random_state = 1, activation = 'relu', hidden_layer_sizes=(20, 13), solver='adam', \n",
    "#                              alpha=alpha, max_iter = 5000)\n",
    "\n",
    "#     # Melakukan pelatihan (training) menggunakan 'fit'\n",
    "#     model_mlp.fit(X_train, y_train[['AirT','RH']])\n",
    "\n",
    "#     # Prediksi model\n",
    "#     y_pred = model_mlp.predict(X_val)\n",
    "#     y_pred = pd.DataFrame(y_pred, columns=['AirT','RH'])\n",
    "    \n",
    "#     # Menghitung nilai RMSE dan R^2 (Testing)\n",
    "#     rmse_AirT = round(mean_squared_error(y_val.AirT, y_pred.AirT)**0.5,2)\n",
    "#     rmse_RH = round(mean_squared_error(y_val.RH, y_pred.RH)**0.5,2)\n",
    "#     R2_AirT = round(r2_score(y_val.AirT, y_pred.AirT)*100,2)\n",
    "#     R2_RH = round(r2_score(y_val.RH, y_pred.RH)*100,2)\n",
    "    \n",
    "\n",
    "#     # print errors as report\n",
    "#     print('AirT: RMSE = {}, R^2 = {}%'.format(rmse_AirT,R2_AirT), end=' | ')\n",
    "#     print('RH: RMSE = {}, R^2 {}% = | alpha: {}'.format(rmse_RH,R2_RH,alpha))"
   ]
  },
  {
   "cell_type": "code",
   "execution_count": null,
   "metadata": {},
   "outputs": [],
   "source": [
    "# Model final\n",
    "model_mlp = MLPRegressor(random_state = 1, activation = 'relu', hidden_layer_sizes=(15), solver='adam', \n",
    "                             alpha=0.001, max_iter = 5000)\n",
    "\n",
    "# Melakukan pelatihan (training) menggunakan 'fit'\n",
    "model_mlp.fit(X_train, y_train[['AirT','RH']])\n",
    "\n",
    "# Prediksi model\n",
    "y_pred = model_mlp.predict(X_test)\n",
    "y_pred = pd.DataFrame(y_pred, columns=['AirT','RH'])\n",
    "\n",
    "# Menghitung nilai RMSE dan R^2 (testing)\n",
    "rmse_AirT = round(mean_squared_error(y_test.AirT, y_pred.AirT)**0.5,2)\n",
    "rmse_RH = round(mean_squared_error(y_test.RH, y_pred.RH)**0.5,2)\n",
    "R2_AirT = round(r2_score(y_test.AirT, y_pred.AirT)*100,2)\n",
    "R2_RH = round(r2_score(y_test.RH, y_pred.RH)*100,2)\n",
    "\n",
    "print('Testing')\n",
    "print('AirT : RMSE = {} | R^2 = {}%'.format(rmse_AirT,R2_AirT))\n",
    "print('RH   : RMSE = {} | R^2 = {}%'.format(rmse_RH,R2_RH))"
   ]
  },
  {
   "cell_type": "code",
   "execution_count": null,
   "metadata": {},
   "outputs": [],
   "source": [
    "print(model_mlp.get_params)"
   ]
  },
  {
   "cell_type": "code",
   "execution_count": null,
   "metadata": {},
   "outputs": [],
   "source": [
    "# Menambahkan fitur No Variation Month dan Time pada hasil prediksi\n",
    "y_pred.index = y_test.index\n",
    "y_pred[['No']] = y_test[['No']]\n",
    "y_pred[['Variation']] = y_test[['Variation']]\n",
    "y_pred[['Month']] = y_test[['Month']]\n",
    "y_pred[['Time']] = y_test[['Time']]\n",
    "y_pred"
   ]
  },
  {
   "cell_type": "markdown",
   "metadata": {},
   "source": [
    "## Visualisasi"
   ]
  },
  {
   "cell_type": "code",
   "execution_count": null,
   "metadata": {},
   "outputs": [],
   "source": [
    "# Variabel untuk pembuatan grafik\n",
    "\n",
    "Heater    = X_test['Heater']\n",
    "AC        = X_test['AC']\n",
    "DrybulbT  = X_test['DrybulbT']\n",
    "Radiation = X_test['Radiation']\n",
    "AirT      = y_test['AirT']\n",
    "RH        = y_test['RH']"
   ]
  },
  {
   "cell_type": "code",
   "execution_count": null,
   "metadata": {},
   "outputs": [],
   "source": [
    "# plot a line, a perfit predict would all fall on this line\n",
    "plt.subplot(2, 1, 1)\n",
    "plt.title('Grafik Heater terhadap AirT dan RH')\n",
    "plt.plot(Heater, AirT, '.')\n",
    "plt.plot(Heater, y_pred.AirT, 'r.')\n",
    "plt.ylabel('AirT')\n",
    "\n",
    "plt.subplot(2, 1, 2)\n",
    "plt.plot(Heater, RH, '.')\n",
    "plt.plot(Heater, y_pred.RH, 'r.')\n",
    "plt.xlabel('Heater')\n",
    "plt.ylabel('RH')\n",
    "\n",
    "plt.show()"
   ]
  },
  {
   "cell_type": "code",
   "execution_count": null,
   "metadata": {},
   "outputs": [],
   "source": [
    "plt.subplot(2, 1, 1)\n",
    "plt.title('Grafik AC terhadap AirT dan RH')\n",
    "plt.plot(AC, AirT, '.')\n",
    "plt.plot(AC, y_pred.AirT, 'r.')\n",
    "plt.ylabel('AirT')\n",
    "\n",
    "plt.subplot(2, 1, 2)\n",
    "plt.plot(AC, RH, '.')\n",
    "plt.plot(AC, y_pred.RH, 'r.')\n",
    "plt.xlabel('AC')\n",
    "plt.ylabel('RH')\n",
    "\n",
    "plt.show()"
   ]
  },
  {
   "cell_type": "code",
   "execution_count": null,
   "metadata": {},
   "outputs": [],
   "source": [
    "plt.subplot(2, 1, 1)\n",
    "plt.title('Grafik DrybulbT terhadap AirT dan RH')\n",
    "plt.plot(DrybulbT, AirT, '.')\n",
    "plt.plot(DrybulbT, y_pred.AirT, 'r.')\n",
    "plt.ylabel('AirT')\n",
    "\n",
    "plt.subplot(2, 1, 2)\n",
    "plt.plot(DrybulbT, RH, '.')\n",
    "plt.plot(DrybulbT, y_pred.RH, 'r.')\n",
    "plt.xlabel('DrybulbT')\n",
    "plt.ylabel('RH')\n",
    "\n",
    "plt.show()"
   ]
  },
  {
   "cell_type": "code",
   "execution_count": null,
   "metadata": {},
   "outputs": [],
   "source": [
    "plt.subplot(2, 1, 1)\n",
    "plt.title('Grafik Radiation terhadap AirT dan RH')\n",
    "plt.plot(Radiation, AirT, '.')\n",
    "plt.plot(Radiation, y_pred.AirT, 'r.')\n",
    "plt.ylabel('AirT')\n",
    "\n",
    "plt.subplot(2, 1, 2)\n",
    "plt.plot(Radiation, RH, '.')\n",
    "plt.plot(Radiation, y_pred.RH, 'r.')\n",
    "plt.xlabel('Radiation')\n",
    "plt.ylabel('RH')\n",
    "\n",
    "plt.show()"
   ]
  },
  {
   "cell_type": "markdown",
   "metadata": {},
   "source": [
    "## Visualisation in Time variance"
   ]
  },
  {
   "cell_type": "code",
   "execution_count": null,
   "metadata": {},
   "outputs": [],
   "source": [
    "i = 0\n",
    "for v in y_test.Variation.unique():\n",
    "    print('Variasi:', v)\n",
    "    \n",
    "    x1  = y_test.loc[y_test['Variation']==v].Time\n",
    "    \n",
    "    y1  = X_test.loc[y_test['Variation']==v].AC\n",
    "    y2  = X_test.loc[y_test['Variation']==v].Heater\n",
    "    y3  = X_test.loc[y_test['Variation']==v].DrybulbT\n",
    "    y4  = X_test.loc[y_test['Variation']==v].Radiation\n",
    "    y5a = y_test.loc[y_test['Variation']==v].AirT\n",
    "    y5b = y_pred.loc[y_pred['Variation']==v].AirT\n",
    "    y6a = y_test.loc[y_test['Variation']==v].RH\n",
    "    y6b = y_pred.loc[y_pred['Variation']==v].RH\n",
    "    \n",
    "    plt.subplots(figsize=(30,30))\n",
    "    \n",
    "    plt.subplot(3,2,1)\n",
    "    plt.title('Grafik Nilai-Nilai Variabel terhadap waktu. Variasi: ' + str(v))\n",
    "    plt.plot(x1, y1, 'o')\n",
    "    plt.xlabel(None)\n",
    "    plt.ylabel('AC')\n",
    "    \n",
    "    plt.subplot(3,2,2)\n",
    "    plt.plot(x1, y2, 'o')\n",
    "    plt.xlabel(None)\n",
    "    plt.ylabel('Heater')\n",
    "    \n",
    "    plt.subplot(3,2,3)\n",
    "    plt.plot(x1, y3, 'o')\n",
    "    plt.xlabel(None)\n",
    "    plt.ylabel('DrybulbT')\n",
    "    \n",
    "    plt.subplot(3,2,4)\n",
    "    plt.plot(x1, y4, 'o')\n",
    "    plt.xlabel(None)\n",
    "    plt.ylabel('Radiation')\n",
    "    \n",
    "    plt.subplot(3,2,5)\n",
    "    plt.plot(x1, y5a, 'o', label='target')\n",
    "    plt.plot(x1, y5b, 'ro', label='prediction')\n",
    "    plt.xlabel(None)\n",
    "    plt.ylabel('AirT')\n",
    "    plt.legend(loc = 'upper left')\n",
    "    \n",
    "    plt.subplot(3,2,6)\n",
    "    plt.plot(x1, y6a, 'o', label='target')\n",
    "    plt.plot(x1, y6b, 'ro', label='prediction')\n",
    "    plt.xlabel('waktu')\n",
    "    plt.ylabel('RH')\n",
    "    plt.legend(loc = 'upper left')\n",
    "    \n",
    "    plt.show()\n",
    "    \n",
    "    print('_'*110)\n",
    "    print()\n",
    "    \n",
    "    i+=1\n",
    "    if i == 3:\n",
    "        break"
   ]
  },
  {
   "cell_type": "code",
   "execution_count": null,
   "metadata": {},
   "outputs": [],
   "source": []
  }
 ],
 "metadata": {
  "kernelspec": {
   "display_name": "Python 3",
   "language": "python",
   "name": "python3"
  },
  "language_info": {
   "codemirror_mode": {
    "name": "ipython",
    "version": 3
   },
   "file_extension": ".py",
   "mimetype": "text/x-python",
   "name": "python",
   "nbconvert_exporter": "python",
   "pygments_lexer": "ipython3",
   "version": "3.7.4"
  }
 },
 "nbformat": 4,
 "nbformat_minor": 2
}
