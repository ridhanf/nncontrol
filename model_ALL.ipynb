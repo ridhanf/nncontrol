{
 "cells": [
  {
   "cell_type": "markdown",
   "metadata": {},
   "source": [
    "# Rancang Bangun Pengendali Otomatis Lingkungan Termal Berbasis Jaringan Saraf Tiruan"
   ]
  },
  {
   "cell_type": "markdown",
   "metadata": {},
   "source": [
    "### Program Kecerdasan Buatan untuk membentuk model jaringan saraf tiruan dalam memenuhi Tugas Akhir program studi Teknik Fisika.\n",
    "### Data di Bulan Maret 2019"
   ]
  },
  {
   "cell_type": "code",
   "execution_count": 1,
   "metadata": {},
   "outputs": [],
   "source": [
    "# Mengimpor pustaka yang dibutuhkan.\n",
    "\n",
    "import numpy as np\n",
    "import pandas as pd\n",
    "from scipy.optimize import curve_fit\n",
    "from matplotlib import pyplot as plt\n",
    "%matplotlib inline"
   ]
  },
  {
   "cell_type": "code",
   "execution_count": 2,
   "metadata": {},
   "outputs": [],
   "source": [
    "# Memasukkan dataset ke dalam jupyter.\n",
    "data = pd.read_excel('../Data/dataAll.xlsx')"
   ]
  },
  {
   "cell_type": "code",
   "execution_count": 3,
   "metadata": {},
   "outputs": [
    {
     "data": {
      "text/html": [
       "<div>\n",
       "<style scoped>\n",
       "    .dataframe tbody tr th:only-of-type {\n",
       "        vertical-align: middle;\n",
       "    }\n",
       "\n",
       "    .dataframe tbody tr th {\n",
       "        vertical-align: top;\n",
       "    }\n",
       "\n",
       "    .dataframe thead th {\n",
       "        text-align: right;\n",
       "    }\n",
       "</style>\n",
       "<table border=\"1\" class=\"dataframe\">\n",
       "  <thead>\n",
       "    <tr style=\"text-align: right;\">\n",
       "      <th></th>\n",
       "      <th>No</th>\n",
       "      <th>Variation</th>\n",
       "      <th>Month</th>\n",
       "      <th>Time</th>\n",
       "      <th>Heater</th>\n",
       "      <th>AC</th>\n",
       "      <th>DrybulbT</th>\n",
       "      <th>Radiation</th>\n",
       "      <th>AirT</th>\n",
       "      <th>RH</th>\n",
       "    </tr>\n",
       "  </thead>\n",
       "  <tbody>\n",
       "    <tr>\n",
       "      <td>0</td>\n",
       "      <td>1</td>\n",
       "      <td>DT001</td>\n",
       "      <td>Mar</td>\n",
       "      <td>00:03:00</td>\n",
       "      <td>0</td>\n",
       "      <td>0</td>\n",
       "      <td>24.08</td>\n",
       "      <td>0.0</td>\n",
       "      <td>24.03</td>\n",
       "      <td>70.64</td>\n",
       "    </tr>\n",
       "    <tr>\n",
       "      <td>1</td>\n",
       "      <td>2</td>\n",
       "      <td>DT001</td>\n",
       "      <td>Mar</td>\n",
       "      <td>00:09:00</td>\n",
       "      <td>0</td>\n",
       "      <td>0</td>\n",
       "      <td>24.08</td>\n",
       "      <td>0.0</td>\n",
       "      <td>24.03</td>\n",
       "      <td>70.72</td>\n",
       "    </tr>\n",
       "    <tr>\n",
       "      <td>2</td>\n",
       "      <td>3</td>\n",
       "      <td>DT001</td>\n",
       "      <td>Mar</td>\n",
       "      <td>00:15:00</td>\n",
       "      <td>0</td>\n",
       "      <td>0</td>\n",
       "      <td>24.08</td>\n",
       "      <td>0.0</td>\n",
       "      <td>24.04</td>\n",
       "      <td>70.81</td>\n",
       "    </tr>\n",
       "    <tr>\n",
       "      <td>3</td>\n",
       "      <td>4</td>\n",
       "      <td>DT001</td>\n",
       "      <td>Mar</td>\n",
       "      <td>00:21:00</td>\n",
       "      <td>0</td>\n",
       "      <td>0</td>\n",
       "      <td>24.08</td>\n",
       "      <td>0.0</td>\n",
       "      <td>24.04</td>\n",
       "      <td>70.90</td>\n",
       "    </tr>\n",
       "    <tr>\n",
       "      <td>4</td>\n",
       "      <td>5</td>\n",
       "      <td>DT001</td>\n",
       "      <td>Mar</td>\n",
       "      <td>00:27:00</td>\n",
       "      <td>0</td>\n",
       "      <td>0</td>\n",
       "      <td>24.08</td>\n",
       "      <td>0.0</td>\n",
       "      <td>24.04</td>\n",
       "      <td>70.99</td>\n",
       "    </tr>\n",
       "  </tbody>\n",
       "</table>\n",
       "</div>"
      ],
      "text/plain": [
       "   No Variation Month      Time  Heater  AC  DrybulbT  Radiation   AirT     RH\n",
       "0   1     DT001   Mar  00:03:00       0   0     24.08        0.0  24.03  70.64\n",
       "1   2     DT001   Mar  00:09:00       0   0     24.08        0.0  24.03  70.72\n",
       "2   3     DT001   Mar  00:15:00       0   0     24.08        0.0  24.04  70.81\n",
       "3   4     DT001   Mar  00:21:00       0   0     24.08        0.0  24.04  70.90\n",
       "4   5     DT001   Mar  00:27:00       0   0     24.08        0.0  24.04  70.99"
      ]
     },
     "execution_count": 3,
     "metadata": {},
     "output_type": "execute_result"
    }
   ],
   "source": [
    "# Menampilkan 5 data teratas.\n",
    "data.head()"
   ]
  },
  {
   "cell_type": "code",
   "execution_count": 4,
   "metadata": {},
   "outputs": [],
   "source": [
    "# Membuang fitur No, dan Variation.\n",
    "data = data.drop(['No','Variation'], axis =1)"
   ]
  },
  {
   "cell_type": "code",
   "execution_count": 5,
   "metadata": {},
   "outputs": [],
   "source": [
    "# # Mengubah tipe data waktu\n",
    "# def ubahT(dt):\n",
    "#     waktu = 60*int(dt.strftime('%H')) + int(dt.strftime('%M'))\n",
    "#     return waktu\n",
    "\n",
    "# data['Time'] = data['Time'].apply(ubahT)\n",
    "# data['Time']"
   ]
  },
  {
   "cell_type": "code",
   "execution_count": 6,
   "metadata": {},
   "outputs": [],
   "source": [
    "# # Mengubah data Month\n",
    "\n",
    "# def ubahM(dt):\n",
    "#     if dt == 'Mar':\n",
    "#         return 3\n",
    "#     elif dt == 'Jun':\n",
    "#         return 6\n",
    "#     elif dt == 'Sep':\n",
    "#         return 9\n",
    "#     elif dt == 'Des':\n",
    "#         return 12\n",
    "\n",
    "# data['Month'] = data['Month'].apply(ubahM)\n",
    "# data['Month']"
   ]
  },
  {
   "cell_type": "code",
   "execution_count": 7,
   "metadata": {},
   "outputs": [],
   "source": [
    "# Memisahkan data input dan data target.\n",
    "\n",
    "# Data Input\n",
    "X = data[['Heater','AC','DrybulbT','Radiation']]\n",
    "\n",
    "# Data Target\n",
    "target = data[['AirT','RH']]"
   ]
  },
  {
   "cell_type": "code",
   "execution_count": 8,
   "metadata": {},
   "outputs": [],
   "source": [
    "# Memisahkan data pelatihan (training) dan data pengujian (testing).\n",
    "\n",
    "from sklearn.model_selection import train_test_split\n",
    "from sklearn.metrics import mean_squared_error, r2_score\n",
    "\n",
    "# Memisahkan 20% menjadi data tes\n",
    "X_temp, X_test, y_temp, y_test = train_test_split(X, target, test_size=0.2, shuffle=True, random_state=15)\n",
    "\n",
    "# Memisahkan 20% menjadi data validation\n",
    "X_train, X_val, y_train, y_val = train_test_split(X_temp, y_temp, test_size=0.25, shuffle=False, random_state=2019)"
   ]
  },
  {
   "cell_type": "code",
   "execution_count": 9,
   "metadata": {},
   "outputs": [
    {
     "name": "stdout",
     "output_type": "stream",
     "text": [
      "train: 0.6% | validation: 0.2% | test 0.2%\n"
     ]
    }
   ],
   "source": [
    "# Menghapus data temporary\n",
    "del X_temp, y_temp\n",
    "\n",
    "# print proportions\n",
    "print('train: {}% | validation: {}% | test {}%'.format(round(len(y_train)/len(target)*100,2),\n",
    "                                                       round(len(y_val)/len(target)*100,2),\n",
    "                                                       round(len(y_test)/len(target)*100,2)))"
   ]
  },
  {
   "cell_type": "code",
   "execution_count": 10,
   "metadata": {},
   "outputs": [
    {
     "name": "stdout",
     "output_type": "stream",
     "text": [
      "(14400, 4) (4800, 4) (4800, 4) (14400, 2) (4800, 2) (4800, 2)\n"
     ]
    }
   ],
   "source": [
    "# banyak data\n",
    "print(X_train.shape, X_val.shape, X_test.shape, y_train.shape, y_val.shape, y_test.shape)"
   ]
  },
  {
   "cell_type": "markdown",
   "metadata": {},
   "source": [
    "## Model Tuning menggunakan Multi-Layer Perceptron Regressor"
   ]
  },
  {
   "cell_type": "code",
   "execution_count": 11,
   "metadata": {},
   "outputs": [],
   "source": [
    "# Impor pustaka\n",
    "from sklearn.neural_network import MLPRegressor"
   ]
  },
  {
   "cell_type": "code",
   "execution_count": 30,
   "metadata": {},
   "outputs": [
    {
     "name": "stdout",
     "output_type": "stream",
     "text": [
      "1 :  RMSE = 7.676472390893648 , R^2 = -0.00026894498026275304\n",
      "2 :  RMSE = 7.601981619207993 , R^2 = -0.02186397924854777\n",
      "3 :  RMSE = 6.914552776288646 , R^2 = 0.10266266746220953\n",
      "4 :  RMSE = 7.625446737559507 , R^2 = -0.02242161963257261\n",
      "5 :  RMSE = 6.908410476341447 , R^2 = 0.23582245803481527\n",
      "6 :  RMSE = 6.819693082556216 , R^2 = 0.262550516548783\n",
      "7 :  RMSE = 6.882281935858971 , R^2 = 0.26835336354660305\n",
      "8 :  RMSE = 6.660913806747602 , R^2 = 0.41102941289499284\n",
      "9 :  RMSE = 6.582485375620983 , R^2 = 0.46360169231119835\n",
      "10 :  RMSE = 6.377444146443421 , R^2 = 0.5375922595511765\n",
      "11 :  RMSE = 6.4337210646539695 , R^2 = 0.4954351579137487\n",
      "12 :  RMSE = 6.7997344837035705 , R^2 = 0.29657237834788247\n",
      "13 :  RMSE = 6.4902747969859576 , R^2 = 0.5005818823519589\n",
      "14 :  RMSE = 6.361577001921606 , R^2 = 0.5449765781903044\n",
      "15 :  RMSE = 6.4658094184682 , R^2 = 0.502451186197141\n",
      "16 :  RMSE = 6.387860430634295 , R^2 = 0.5447046862836948\n",
      "17 :  RMSE = 6.756557820451211 , R^2 = 0.3037549340057641\n",
      "18 :  RMSE = 6.2614394043974295 , R^2 = 0.5480499423527272\n",
      "19 :  RMSE = 6.314618784279261 , R^2 = 0.5264825318382198\n",
      "20 :  RMSE = 6.426990754420088 , R^2 = 0.5240429080917165\n",
      "18 {'1': 7.676472390893648, '2': 7.601981619207993, '3': 6.914552776288646, '4': 7.625446737559507, '5': 6.908410476341447, '6': 6.819693082556216, '7': 6.882281935858971, '8': 6.660913806747602, '9': 6.582485375620983, '10': 6.377444146443421, '11': 6.4337210646539695, '12': 6.7997344837035705, '13': 6.4902747969859576, '14': 6.361577001921606, '15': 6.4658094184682, '16': 6.387860430634295, '17': 6.756557820451211, '18': 6.2614394043974295, '19': 6.314618784279261, '20': 6.426990754420088}\n"
     ]
    }
   ],
   "source": [
    "# Mencari optimasi jumlah hidden layer dan neuron terbaik\n",
    "import operator\n",
    "\n",
    "def ann(m):\n",
    "    return MLPRegressor(random_state = 1, activation = 'relu', hidden_layer_sizes=(m), solver='adam', alpha=0.001, max_iter = 5000)\n",
    "\n",
    "daftar = {}\n",
    "for i in range(1,21):\n",
    "    model = ann(i)\n",
    "    model.fit(X_train, y_train)\n",
    "    y_pred = model.predict(X_val)\n",
    "    rmse = mean_squared_error(y_val, y_pred)**0.5\n",
    "    r2 = r2_score(y_val, y_pred)\n",
    "    key = str(i)\n",
    "    value = str(rmse) + ',' + str(r2)\n",
    "    daftar[key] = rmse\n",
    "    print(i,': ','RMSE =',rmse,', R^2 =',r2)\n",
    "    if rmse < 6.101:\n",
    "        neuron = {i}\n",
    "        break\n",
    "    else:\n",
    "        neuron = min(daftar.items(), key=operator.itemgetter(1))[0]\n",
    "\n",
    "print(neuron, daftar)  # 20, 4 : RMSE = 6,19..."
   ]
  },
  {
   "cell_type": "code",
   "execution_count": 29,
   "metadata": {},
   "outputs": [
    {
     "name": "stdout",
     "output_type": "stream",
     "text": [
      "20 13 :  RMSE = 6.070160239167145 , R^2 = 0.5627795722053989\n",
      "20 14 :  RMSE = 6.532899323968007 , R^2 = 0.5300336797252206\n",
      "20 15 :  RMSE = 6.351689796305892 , R^2 = 0.5474061392349541\n",
      "20 16 :  RMSE = 6.277376873845304 , R^2 = 0.549599404592846\n",
      "20 17 :  RMSE = 6.2846640224956385 , R^2 = 0.5442819839177151\n",
      "20 18 :  RMSE = 6.239618853454412 , R^2 = 0.5670320127706252\n",
      "20 19 :  RMSE = 6.446004638272175 , R^2 = 0.524307701085486\n",
      "20 20 :  RMSE = 6.247250477995721 , R^2 = 0.5427788161324067\n",
      "20,13 {'20,13': 6.070160239167145, '20,14': 6.532899323968007, '20,15': 6.351689796305892, '20,16': 6.277376873845304, '20,17': 6.2846640224956385, '20,18': 6.239618853454412, '20,19': 6.446004638272175, '20,20': 6.247250477995721}\n"
     ]
    }
   ],
   "source": [
    "# Mencari optimasi jumlah hidden layer dan neuron terbaik\n",
    "import operator\n",
    "\n",
    "def ann(m,n):\n",
    "    return MLPRegressor(random_state = 1, activation = 'relu', hidden_layer_sizes=(m,n), solver='adam', alpha=0.001, max_iter = 5000)\n",
    "\n",
    "daftar = {}\n",
    "for i in range(20,21):\n",
    "    for j in range(13,21):\n",
    "        model = ann(i,j)\n",
    "        model.fit(X_train, y_train)\n",
    "        y_pred = model.predict(X_val)\n",
    "        rmse = mean_squared_error(y_val, y_pred)**0.5\n",
    "        r2 = r2_score(y_val, y_pred)\n",
    "        key = str(i) + ',' + str(j)\n",
    "        value = str(rmse) + ',' + str(r2)\n",
    "        daftar[key] = rmse\n",
    "        print(i,j,': ','RMSE =',rmse,', R^2 =',r2)\n",
    "        if rmse < 6.07:\n",
    "            neuron = {i,j}\n",
    "            break\n",
    "        else:\n",
    "            neuron = min(daftar.items(), key=operator.itemgetter(1))[0]\n",
    "\n",
    "print(neuron, daftar)  # 20, 13 : RMSE = 6,07..."
   ]
  },
  {
   "cell_type": "code",
   "execution_count": 25,
   "metadata": {},
   "outputs": [
    {
     "name": "stdout",
     "output_type": "stream",
     "text": [
      "Semua error dalam nilai RMSE\n",
      "----------------------------------------------------------------------------\n",
      "alpha:   1e-05 | train error: 6.123 | val error:  6.102 | test error: 6.151\n",
      "alpha:  0.0001 | train error: 6.327 | val error:  6.335 | test error: 6.355\n",
      "alpha:   0.001 | train error: 6.104 | val error:   6.07 | test error: 6.137\n",
      "alpha:    0.01 | train error:  6.28 | val error:  6.236 | test error: 6.284\n",
      "alpha:     0.1 | train error: 6.491 | val error:  6.461 | test error: 6.53\n",
      "alpha:       1 | train error: 6.475 | val error:  6.412 | test error: 6.462\n",
      "alpha:      10 | train error: 6.731 | val error:  6.738 | test error: 6.752\n"
     ]
    }
   ],
   "source": [
    "alphas = [0.00001, 0.0001, 0.001, 0.01, 0.1, 1, 10]\n",
    "print('Semua error dalam nilai RMSE')\n",
    "print('-'*76)\n",
    "for alpha in alphas:\n",
    "    # Pembuatan model\n",
    "    # model_mlp = MLPRegressor(random_state=1, activation='relu', hidden_layer_sizes=(24,24,24), solver='adam')\n",
    "    model_mlp = MLPRegressor(random_state = 1, activation = 'relu', hidden_layer_sizes=(20, 13), solver='adam', \n",
    "                             alpha=alpha, max_iter = 5000)\n",
    "\n",
    "    # Melakukan pelatihan (training) menggunakan 'fit'\n",
    "    model_mlp.fit(X_train, y_train)\n",
    "\n",
    "    # Menghitung nilai RMSE\n",
    "    rmse_train = mean_squared_error(y_train, model_mlp.predict(X_train))**0.5\n",
    "    rmse_validation = mean_squared_error(y_val, model_mlp.predict(X_val))**0.5\n",
    "    rmse_test = mean_squared_error(y_test, model_mlp.predict(X_test))**0.5\n",
    "\n",
    "    # print errors as report\n",
    "    print('alpha: {:7} | train error: {:5} | val error: {:6} | test error: {}'.\n",
    "          format(alpha,\n",
    "                 round(rmse_train,3),\n",
    "                 round(rmse_validation,3),\n",
    "                 round(rmse_test,3)))"
   ]
  },
  {
   "cell_type": "code",
   "execution_count": 26,
   "metadata": {},
   "outputs": [
    {
     "name": "stdout",
     "output_type": "stream",
     "text": [
      "test error: 6.137\n"
     ]
    }
   ],
   "source": [
    "# Model final\n",
    "model_mlp = MLPRegressor(random_state = 1, activation = 'relu', hidden_layer_sizes=(20, 13), solver='adam', \n",
    "                             alpha=0.001, max_iter = 5000)\n",
    "\n",
    "# Melakukan pelatihan (training) menggunakan 'fit'\n",
    "model_mlp.fit(X_train, y_train)\n",
    "\n",
    "# Testing\n",
    "rmse_test = mean_squared_error(y_test, model_mlp.predict(X_test))**0.5\n",
    "print('test error: {}'.format(round(rmse_test,3)))"
   ]
  },
  {
   "cell_type": "code",
   "execution_count": 20,
   "metadata": {},
   "outputs": [
    {
     "name": "stdout",
     "output_type": "stream",
     "text": [
      "<bound method BaseEstimator.get_params of MLPRegressor(activation='relu', alpha=1e-05, batch_size='auto', beta_1=0.9,\n",
      "             beta_2=0.999, early_stopping=False, epsilon=1e-08,\n",
      "             hidden_layer_sizes=(24, 24, 24), learning_rate='constant',\n",
      "             learning_rate_init=0.001, max_iter=5000, momentum=0.9,\n",
      "             n_iter_no_change=10, nesterovs_momentum=True, power_t=0.5,\n",
      "             random_state=1, shuffle=True, solver='adam', tol=0.0001,\n",
      "             validation_fraction=0.1, verbose=False, warm_start=False)>\n"
     ]
    }
   ],
   "source": [
    "print(model_mlp.get_params)"
   ]
  },
  {
   "cell_type": "code",
   "execution_count": null,
   "metadata": {},
   "outputs": [],
   "source": []
  },
  {
   "cell_type": "code",
   "execution_count": null,
   "metadata": {},
   "outputs": [],
   "source": []
  },
  {
   "cell_type": "markdown",
   "metadata": {},
   "source": [
    "## Visualisasi"
   ]
  },
  {
   "cell_type": "code",
   "execution_count": null,
   "metadata": {},
   "outputs": [],
   "source": [
    "# Variabel untuk pembuatan grafik\n",
    "\n",
    "Heater    = X_test['Heater']\n",
    "AC        = X_test['AC']\n",
    "DrybulbT  = X_test['DrybulbT']\n",
    "Radiation = X_test['Radiation']\n",
    "\n",
    "AirT      = Y_test['AirT']\n",
    "RH        = Y_test['RH']"
   ]
  },
  {
   "cell_type": "code",
   "execution_count": null,
   "metadata": {},
   "outputs": [],
   "source": [
    "# plot a line, a perfit predict would all fall on this line\n",
    "plt.subplot(2, 1, 1)\n",
    "plt.title('Grafik Heater terhadap AirT dan RH')\n",
    "plt.plot(X_test.values[:,0], Y_test.values[:,0], '.')\n",
    "plt.plot(X_test.values[:,0], Y_pred[:,0], 'r.')\n",
    "plt.ylabel('AirT')\n",
    "\n",
    "plt.subplot(2, 1, 2)\n",
    "plt.plot(X_test.values[:,0], Y_test.values[:,1], '.')\n",
    "plt.plot(X_test.values[:,0], Y_pred[:,1], 'r.')\n",
    "plt.xlabel('Heater')\n",
    "plt.ylabel('RH')\n",
    "\n",
    "plt.show()"
   ]
  },
  {
   "cell_type": "code",
   "execution_count": null,
   "metadata": {},
   "outputs": [],
   "source": [
    "plt.subplot(2, 1, 1)\n",
    "plt.title('Grafik AC terhadap AirT dan RH')\n",
    "plt.plot(X_test.values[:,1], Y_test.values[:,0], '.')\n",
    "plt.plot(X_test.values[:,1], Y_pred[:,0], 'r.')\n",
    "plt.ylabel('AirT')\n",
    "\n",
    "plt.subplot(2, 1, 2)\n",
    "plt.plot(X_test.values[:,1], Y_test.values[:,1], '.')\n",
    "plt.plot(X_test.values[:,1], Y_pred[:,1], 'r.')\n",
    "plt.xlabel('AC')\n",
    "plt.ylabel('RH')\n",
    "\n",
    "plt.show()"
   ]
  },
  {
   "cell_type": "code",
   "execution_count": null,
   "metadata": {},
   "outputs": [],
   "source": [
    "plt.subplot(2, 1, 1)\n",
    "plt.title('Grafik DrybulbT terhadap AirT dan RH')\n",
    "plt.plot(X_test.values[:,2], Y_test.values[:,0], '.')\n",
    "plt.plot(X_test.values[:,2], Y_pred[:,0], 'r.')\n",
    "plt.ylabel('AirT')\n",
    "\n",
    "plt.subplot(2, 1, 2)\n",
    "plt.plot(X_test.values[:,2], Y_test.values[:,1], '.')\n",
    "plt.plot(X_test.values[:,2], Y_pred[:,1], 'r.')\n",
    "plt.xlabel('DrybulbT')\n",
    "plt.ylabel('RH')\n",
    "\n",
    "plt.show()"
   ]
  },
  {
   "cell_type": "code",
   "execution_count": null,
   "metadata": {},
   "outputs": [],
   "source": [
    "plt.subplot(2, 1, 1)\n",
    "plt.title('Grafik Radiation terhadap AirT dan RH')\n",
    "plt.plot(X_test.values[:,3], Y_test.values[:,0], '.')\n",
    "plt.plot(X_test.values[:,3], Y_pred[:,0], 'r.')\n",
    "plt.ylabel('AirT')\n",
    "\n",
    "plt.subplot(2, 1, 2)\n",
    "plt.plot(X_test.values[:,3], Y_test.values[:,1], '.')\n",
    "plt.plot(X_test.values[:,3], Y_pred[:,1], 'r.')\n",
    "plt.xlabel('Radiation')\n",
    "plt.ylabel('RH')\n",
    "\n",
    "plt.show()"
   ]
  },
  {
   "cell_type": "code",
   "execution_count": null,
   "metadata": {},
   "outputs": [],
   "source": []
  },
  {
   "cell_type": "code",
   "execution_count": null,
   "metadata": {},
   "outputs": [],
   "source": []
  }
 ],
 "metadata": {
  "kernelspec": {
   "display_name": "Python 3",
   "language": "python",
   "name": "python3"
  },
  "language_info": {
   "codemirror_mode": {
    "name": "ipython",
    "version": 3
   },
   "file_extension": ".py",
   "mimetype": "text/x-python",
   "name": "python",
   "nbconvert_exporter": "python",
   "pygments_lexer": "ipython3",
   "version": "3.7.4"
  }
 },
 "nbformat": 4,
 "nbformat_minor": 2
}
