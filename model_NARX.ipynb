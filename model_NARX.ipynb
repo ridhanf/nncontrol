{
 "cells": [
  {
   "cell_type": "code",
   "execution_count": 2,
   "metadata": {},
   "outputs": [
    {
     "name": "stderr",
     "output_type": "stream",
     "text": [
      "/home/dhan/miniconda3/envs/ML/lib/python3.7/site-packages/sklearn/utils/deprecation.py:144: FutureWarning: The sklearn.metrics.regression module is  deprecated in version 0.22 and will be removed in version 0.24. The corresponding classes / functions should instead be imported from sklearn.metrics. Anything that cannot be imported from sklearn.metrics is now part of the private API.\n",
      "  warnings.warn(message, FutureWarning)\n"
     ]
    }
   ],
   "source": [
    "# Import needed libraries\n",
    "import numpy as np\n",
    "import pandas as pd\n",
    "from sklearn.model_selection import train_test_split\n",
    "from sklearn.neural_network import MLPRegressor\n",
    "from fireTS.models import NARX\n",
    "from sklearn.metrics import mean_squared_error, mean_absolute_error, explained_variance_score, r2_score\n",
    "from matplotlib import pyplot as plt\n",
    "%matplotlib inline"
   ]
  },
  {
   "cell_type": "code",
   "execution_count": 14,
   "metadata": {},
   "outputs": [],
   "source": [
    "# Memasukkan dataset.\n",
    "data_file_path = 'Data/newData.xlsx'\n",
    "data = pd.read_excel(data_file_path)\n",
    "\n",
    "data_features = ['HT','AC','To','RD']\n",
    "y = data[['Td','RH']]\n",
    "X = data[data_features]\n",
    "\n",
    "# Memisahkan data tes\n",
    "X_temp, X_test, y_temp, y_test = train_test_split(X, y, test_size=0.05, shuffle=False, random_state=15)\n",
    "# Memisahkan data train dan data validation\n",
    "X_train, X_val, y_train, y_val = train_test_split(X_temp, y_temp, test_size=(15/95), shuffle=False, random_state=2019)"
   ]
  },
  {
   "cell_type": "code",
   "execution_count": 16,
   "metadata": {},
   "outputs": [
    {
     "data": {
      "text/html": [
       "<div>\n",
       "<style scoped>\n",
       "    .dataframe tbody tr th:only-of-type {\n",
       "        vertical-align: middle;\n",
       "    }\n",
       "\n",
       "    .dataframe tbody tr th {\n",
       "        vertical-align: top;\n",
       "    }\n",
       "\n",
       "    .dataframe thead th {\n",
       "        text-align: right;\n",
       "    }\n",
       "</style>\n",
       "<table border=\"1\" class=\"dataframe\">\n",
       "  <thead>\n",
       "    <tr style=\"text-align: right;\">\n",
       "      <th></th>\n",
       "      <th>HT</th>\n",
       "      <th>AC</th>\n",
       "      <th>To</th>\n",
       "      <th>RD</th>\n",
       "    </tr>\n",
       "  </thead>\n",
       "  <tbody>\n",
       "    <tr>\n",
       "      <th>count</th>\n",
       "      <td>24000.000000</td>\n",
       "      <td>24000.000000</td>\n",
       "      <td>24000.000000</td>\n",
       "      <td>24000.000000</td>\n",
       "    </tr>\n",
       "    <tr>\n",
       "      <th>mean</th>\n",
       "      <td>0.600000</td>\n",
       "      <td>9.362500</td>\n",
       "      <td>25.269598</td>\n",
       "      <td>184.437794</td>\n",
       "    </tr>\n",
       "    <tr>\n",
       "      <th>std</th>\n",
       "      <td>0.800017</td>\n",
       "      <td>12.373357</td>\n",
       "      <td>1.825458</td>\n",
       "      <td>270.431525</td>\n",
       "    </tr>\n",
       "    <tr>\n",
       "      <th>min</th>\n",
       "      <td>0.000000</td>\n",
       "      <td>0.000000</td>\n",
       "      <td>13.130000</td>\n",
       "      <td>0.000000</td>\n",
       "    </tr>\n",
       "    <tr>\n",
       "      <th>25%</th>\n",
       "      <td>0.000000</td>\n",
       "      <td>0.000000</td>\n",
       "      <td>23.940000</td>\n",
       "      <td>0.000000</td>\n",
       "    </tr>\n",
       "    <tr>\n",
       "      <th>50%</th>\n",
       "      <td>0.000000</td>\n",
       "      <td>0.000000</td>\n",
       "      <td>24.680000</td>\n",
       "      <td>0.000000</td>\n",
       "    </tr>\n",
       "    <tr>\n",
       "      <th>75%</th>\n",
       "      <td>1.000000</td>\n",
       "      <td>24.000000</td>\n",
       "      <td>26.840000</td>\n",
       "      <td>291.576000</td>\n",
       "    </tr>\n",
       "    <tr>\n",
       "      <th>max</th>\n",
       "      <td>2.000000</td>\n",
       "      <td>30.000000</td>\n",
       "      <td>29.410000</td>\n",
       "      <td>845.891000</td>\n",
       "    </tr>\n",
       "  </tbody>\n",
       "</table>\n",
       "</div>"
      ],
      "text/plain": [
       "                 HT            AC            To            RD\n",
       "count  24000.000000  24000.000000  24000.000000  24000.000000\n",
       "mean       0.600000      9.362500     25.269598    184.437794\n",
       "std        0.800017     12.373357      1.825458    270.431525\n",
       "min        0.000000      0.000000     13.130000      0.000000\n",
       "25%        0.000000      0.000000     23.940000      0.000000\n",
       "50%        0.000000      0.000000     24.680000      0.000000\n",
       "75%        1.000000     24.000000     26.840000    291.576000\n",
       "max        2.000000     30.000000     29.410000    845.891000"
      ]
     },
     "execution_count": 16,
     "metadata": {},
     "output_type": "execute_result"
    }
   ],
   "source": [
    "X.describe()"
   ]
  },
  {
   "cell_type": "code",
   "execution_count": 17,
   "metadata": {},
   "outputs": [
    {
     "data": {
      "text/html": [
       "<div>\n",
       "<style scoped>\n",
       "    .dataframe tbody tr th:only-of-type {\n",
       "        vertical-align: middle;\n",
       "    }\n",
       "\n",
       "    .dataframe tbody tr th {\n",
       "        vertical-align: top;\n",
       "    }\n",
       "\n",
       "    .dataframe thead th {\n",
       "        text-align: right;\n",
       "    }\n",
       "</style>\n",
       "<table border=\"1\" class=\"dataframe\">\n",
       "  <thead>\n",
       "    <tr style=\"text-align: right;\">\n",
       "      <th></th>\n",
       "      <th>HT</th>\n",
       "      <th>AC</th>\n",
       "      <th>To</th>\n",
       "      <th>RD</th>\n",
       "    </tr>\n",
       "  </thead>\n",
       "  <tbody>\n",
       "    <tr>\n",
       "      <th>0</th>\n",
       "      <td>0</td>\n",
       "      <td>0</td>\n",
       "      <td>24.08</td>\n",
       "      <td>0.0</td>\n",
       "    </tr>\n",
       "    <tr>\n",
       "      <th>1</th>\n",
       "      <td>0</td>\n",
       "      <td>0</td>\n",
       "      <td>24.08</td>\n",
       "      <td>0.0</td>\n",
       "    </tr>\n",
       "    <tr>\n",
       "      <th>2</th>\n",
       "      <td>0</td>\n",
       "      <td>0</td>\n",
       "      <td>24.08</td>\n",
       "      <td>0.0</td>\n",
       "    </tr>\n",
       "    <tr>\n",
       "      <th>3</th>\n",
       "      <td>0</td>\n",
       "      <td>0</td>\n",
       "      <td>24.08</td>\n",
       "      <td>0.0</td>\n",
       "    </tr>\n",
       "    <tr>\n",
       "      <th>4</th>\n",
       "      <td>0</td>\n",
       "      <td>0</td>\n",
       "      <td>24.08</td>\n",
       "      <td>0.0</td>\n",
       "    </tr>\n",
       "  </tbody>\n",
       "</table>\n",
       "</div>"
      ],
      "text/plain": [
       "   HT  AC     To   RD\n",
       "0   0   0  24.08  0.0\n",
       "1   0   0  24.08  0.0\n",
       "2   0   0  24.08  0.0\n",
       "3   0   0  24.08  0.0\n",
       "4   0   0  24.08  0.0"
      ]
     },
     "execution_count": 17,
     "metadata": {},
     "output_type": "execute_result"
    }
   ],
   "source": [
    "X.head()"
   ]
  },
  {
   "cell_type": "code",
   "execution_count": 3,
   "metadata": {
    "collapsed": true
   },
   "outputs": [],
   "source": [
    "# Membuat model NARX\n",
    "mdl_MLP = MLPRegressor(random_state = 1, hidden_layer_sizes=(91), max_iter = 5000)\n",
    "\n",
    "p_value, q_value, d_value = 1, [3]*4, [0]*4\n",
    "mdl_NARX = NARX(mdl_MLP, auto_order=p_value, exog_order=q_value, exog_delay=d_value)"
   ]
  },
  {
   "cell_type": "code",
   "execution_count": 4,
   "metadata": {
    "collapsed": true
   },
   "outputs": [],
   "source": [
    "# score function\n",
    "def kinerja(y_target, y_pred, method=\"evar\"):\n",
    "    mask = np.isnan(y_target) | np.isnan(y_pred)\n",
    "    if method == \"evar\":\n",
    "        return explained_variance_score(y_target[~mask], y_pred[~mask])\n",
    "    elif method == \"r2\":\n",
    "        return r2_score(y_target[~mask], y_pred[~mask])\n",
    "    elif method == \"mse\":\n",
    "        return mean_squared_error(y_target[~mask], y_pred[~mask])\n",
    "    elif method == \"mae\":\n",
    "        return mean_absolute_error(y_target[~mask], y_pred[~mask])"
   ]
  },
  {
   "cell_type": "markdown",
   "metadata": {},
   "source": [
    "### Air Temperature"
   ]
  },
  {
   "cell_type": "code",
   "execution_count": 5,
   "metadata": {
    "collapsed": true
   },
   "outputs": [],
   "source": [
    "# Training Proses\n",
    "mdl_NARX.fit(X_train, y_train.Td)"
   ]
  },
  {
   "cell_type": "code",
   "execution_count": 6,
   "metadata": {
    "collapsed": true
   },
   "outputs": [],
   "source": [
    "# Prediction\n",
    "y_pred = mdl_NARX.predict(X_val, y_val.Td, step=1)\n",
    "y_pred = pd.Series(y_pred, index=y_val.index)"
   ]
  },
  {
   "cell_type": "code",
   "execution_count": 7,
   "metadata": {},
   "outputs": [
    {
     "data": {
      "text/plain": [
       "<matplotlib.legend.Legend at 0x21b76500208>"
      ]
     },
     "execution_count": 7,
     "metadata": {},
     "output_type": "execute_result"
    },
    {
     "data": {
      "image/png": "[encoded data removed]",
      "text/plain": [
       "<matplotlib.figure.Figure at 0x21b753392e8>"
      ]
     },
     "metadata": {},
     "output_type": "display_data"
    }
   ],
   "source": [
    "# Plot result\n",
    "y_val.Td.plot(label='Td_actual')\n",
    "y_pred.plot(label='Td_prediction')\n",
    "plt.legend()"
   ]
  },
  {
   "cell_type": "code",
   "execution_count": 8,
   "metadata": {},
   "outputs": [
    {
     "name": "stdout",
     "output_type": "stream",
     "text": [
      "Performance evaluation based on Test Data\n",
      "EVar = 94.3% | R2 = 93.79% | RMSE = 0.34 | MAE = 0.2\n",
      "\n"
     ]
    }
   ],
   "source": [
    "# Performance Evaluation\n",
    "y_pred = mdl_NARX.predict(X_test, y_test.Td, step=1)\n",
    "y_pred = pd.Series(y_pred, index=y_test.index)\n",
    "\n",
    "EVar = round(kinerja(y_test.Td, y_pred, method='evar')*100, 2)\n",
    "R2   = round(kinerja(y_test.Td, y_pred, method='r2')*100, 2)\n",
    "RMSE = round(kinerja(y_test.Td, y_pred, method='mse')**0.5, 2)\n",
    "MAE  = round(kinerja(y_test.Td, y_pred, method='mae'), 2)\n",
    "print(\"Performance evaluation based on Test Data\")\n",
    "print(\"EVar = {}% | R2 = {}% | RMSE = {} | MAE = {}\".format(EVar, R2, RMSE, MAE))\n",
    "print()"
   ]
  },
  {
   "cell_type": "markdown",
   "metadata": {},
   "source": [
    "### Relative Humidity"
   ]
  },
  {
   "cell_type": "code",
   "execution_count": 9,
   "metadata": {
    "collapsed": true
   },
   "outputs": [],
   "source": [
    "# Training Proses\n",
    "mdl_NARX.fit(X_train, y_train.RH)"
   ]
  },
  {
   "cell_type": "code",
   "execution_count": 10,
   "metadata": {
    "collapsed": true
   },
   "outputs": [],
   "source": [
    "# Prediction\n",
    "y_pred = mdl_NARX.predict(X_val, y_val.RH, step=1)\n",
    "y_pred = pd.Series(y_pred, index=y_val.index)"
   ]
  },
  {
   "cell_type": "code",
   "execution_count": 11,
   "metadata": {},
   "outputs": [
    {
     "data": {
      "text/plain": [
       "<matplotlib.legend.Legend at 0x21b7641acf8>"
      ]
     },
     "execution_count": 11,
     "metadata": {},
     "output_type": "execute_result"
    },
    {
     "data": {
      "image/png": "[encoded data removed]",
      "text/plain": [
       "<matplotlib.figure.Figure at 0x21b7641ac18>"
      ]
     },
     "metadata": {},
     "output_type": "display_data"
    }
   ],
   "source": [
    "# Plot result\n",
    "y_val.RH.plot(label='RH_actual')\n",
    "y_pred.plot(label='RH_prediction')\n",
    "plt.legend()"
   ]
  },
  {
   "cell_type": "code",
   "execution_count": 12,
   "metadata": {},
   "outputs": [
    {
     "name": "stdout",
     "output_type": "stream",
     "text": [
      "Performance evaluation based on Test Data\n",
      "EVar = 94.19% | R2 = 94.16% | RMSE = 1.43 | MAE = 0.6\n",
      "\n"
     ]
    }
   ],
   "source": [
    "# Performance Evaluation\n",
    "y_pred = mdl_NARX.predict(X_test, y_test.RH, step=1)\n",
    "y_pred = pd.Series(y_pred, index=y_test.index)\n",
    "\n",
    "EVar = round(kinerja(y_test.RH, y_pred, method='evar')*100, 2)\n",
    "R2   = round(kinerja(y_test.RH, y_pred, method='r2')*100, 2)\n",
    "RMSE = round(kinerja(y_test.RH, y_pred, method='mse')**0.5, 2)\n",
    "MAE  = round(kinerja(y_test.RH, y_pred, method='mae'), 2)\n",
    "print(\"Performance evaluation based on Test Data\")\n",
    "print(\"EVar = {}% | R2 = {}% | RMSE = {} | MAE = {}\".format(EVar, R2, RMSE, MAE))\n",
    "print()"
   ]
  },
  {
   "cell_type": "code",
   "execution_count": 32,
   "metadata": {},
   "outputs": [
    {
     "data": {
      "text/plain": [
       "13"
      ]
     },
     "execution_count": 32,
     "metadata": {},
     "output_type": "execute_result"
    }
   ],
   "source": [
    "bobot = mdl_MLP.coefs_[0]\n",
    "bobot_hidden_layer = mdl_MLP.coefs_[1]\n",
    "# bobot = pd.Series(bobot, index=y_val.index)\n",
    "# bobot.plot()\n",
    "len(bobot)"
   ]
  },
  {
   "cell_type": "code",
   "execution_count": 34,
   "metadata": {},
   "outputs": [
    {
     "data": {
      "text/plain": [
       "0.48906885364732994"
      ]
     },
     "execution_count": 34,
     "metadata": {},
     "output_type": "execute_result"
    }
   ],
   "source": [
    "mdl_MLP.loss_"
   ]
  },
  {
   "cell_type": "code",
   "execution_count": null,
   "metadata": {
    "collapsed": true
   },
   "outputs": [],
   "source": []
  }
 ],
 "metadata": {
  "kernelspec": {
   "display_name": "Python 3",
   "language": "python",
   "name": "python3"
  },
  "language_info": {
   "codemirror_mode": {
    "name": "ipython",
    "version": 3
   },
   "file_extension": ".py",
   "mimetype": "text/x-python",
   "name": "python",
   "nbconvert_exporter": "python",
   "pygments_lexer": "ipython3",
   "version": "3.7.7"
  }
 },
 "nbformat": 4,
 "nbformat_minor": 4
}
