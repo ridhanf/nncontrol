{
 "cells": [
  {
   "cell_type": "markdown",
   "metadata": {},
   "source": [
    "# Exploratory Data Analysis\n",
    "## Rancang Bangun Jaringan Saraf Tiruan untuk Sistem Kendali Lingkungan\n",
    "\n",
    "Ridhan Fadhilah\n",
    "15/384859/TK/43521"
   ]
  },
  {
   "cell_type": "markdown",
   "metadata": {},
   "source": [
    "### 1. Mengimpor pustaka yang diperlukan untuk EDA"
   ]
  },
  {
   "cell_type": "code",
   "execution_count": 1,
   "metadata": {
    "collapsed": true
   },
   "outputs": [],
   "source": [
    "# Mengimpor pustaka-pustaka yang dibutuhkan\n",
    "import pandas as pd\n",
    "import numpy as np\n",
    "from scipy import stats\n",
    "import seaborn as sns #visualisation\n",
    "import matplotlib.pyplot as plt #visualisation\n",
    "%matplotlib inline\n",
    "sns.set(color_codes=True)"
   ]
  },
  {
   "cell_type": "markdown",
   "metadata": {},
   "source": [
    "### 2. Memuat data ke dalam DataFrame."
   ]
  },
  {
   "cell_type": "code",
   "execution_count": 9,
   "metadata": {},
   "outputs": [],
   "source": [
    "# # Menampilkan berkas-berkas data\n",
    "# from subprocess import check_output\n",
    "# print(check_output([\"ls\", \"Data\"]).decode(\"utf8\"))"
   ]
  },
  {
   "cell_type": "code",
   "execution_count": 10,
   "metadata": {
    "collapsed": true
   },
   "outputs": [],
   "source": [
    "# Memasukkan dataset ke dalam jupyter.\n",
    "data = pd.read_excel('Data/dataAll.xlsx')"
   ]
  },
  {
   "cell_type": "code",
   "execution_count": 11,
   "metadata": {},
   "outputs": [
    {
     "data": {
      "text/html": [
       "<div>\n",
       "<table border=\"1\" class=\"dataframe\">\n",
       "  <thead>\n",
       "    <tr style=\"text-align: right;\">\n",
       "      <th></th>\n",
       "      <th>No</th>\n",
       "      <th>Variation</th>\n",
       "      <th>Month</th>\n",
       "      <th>Time</th>\n",
       "      <th>Heater</th>\n",
       "      <th>AC</th>\n",
       "      <th>To</th>\n",
       "      <th>Radiation</th>\n",
       "      <th>Td</th>\n",
       "      <th>RH</th>\n",
       "    </tr>\n",
       "  </thead>\n",
       "  <tbody>\n",
       "    <tr>\n",
       "      <th>0</th>\n",
       "      <td>1</td>\n",
       "      <td>DT001</td>\n",
       "      <td>Mar</td>\n",
       "      <td>00:03:00</td>\n",
       "      <td>0</td>\n",
       "      <td>0</td>\n",
       "      <td>24.08</td>\n",
       "      <td>0.0</td>\n",
       "      <td>24.03</td>\n",
       "      <td>70.64</td>\n",
       "    </tr>\n",
       "    <tr>\n",
       "      <th>1</th>\n",
       "      <td>2</td>\n",
       "      <td>DT001</td>\n",
       "      <td>Mar</td>\n",
       "      <td>00:09:00</td>\n",
       "      <td>0</td>\n",
       "      <td>0</td>\n",
       "      <td>24.08</td>\n",
       "      <td>0.0</td>\n",
       "      <td>24.03</td>\n",
       "      <td>70.72</td>\n",
       "    </tr>\n",
       "    <tr>\n",
       "      <th>2</th>\n",
       "      <td>3</td>\n",
       "      <td>DT001</td>\n",
       "      <td>Mar</td>\n",
       "      <td>00:15:00</td>\n",
       "      <td>0</td>\n",
       "      <td>0</td>\n",
       "      <td>24.08</td>\n",
       "      <td>0.0</td>\n",
       "      <td>24.04</td>\n",
       "      <td>70.81</td>\n",
       "    </tr>\n",
       "    <tr>\n",
       "      <th>3</th>\n",
       "      <td>4</td>\n",
       "      <td>DT001</td>\n",
       "      <td>Mar</td>\n",
       "      <td>00:21:00</td>\n",
       "      <td>0</td>\n",
       "      <td>0</td>\n",
       "      <td>24.08</td>\n",
       "      <td>0.0</td>\n",
       "      <td>24.04</td>\n",
       "      <td>70.90</td>\n",
       "    </tr>\n",
       "    <tr>\n",
       "      <th>4</th>\n",
       "      <td>5</td>\n",
       "      <td>DT001</td>\n",
       "      <td>Mar</td>\n",
       "      <td>00:27:00</td>\n",
       "      <td>0</td>\n",
       "      <td>0</td>\n",
       "      <td>24.08</td>\n",
       "      <td>0.0</td>\n",
       "      <td>24.04</td>\n",
       "      <td>70.99</td>\n",
       "    </tr>\n",
       "  </tbody>\n",
       "</table>\n",
       "</div>"
      ],
      "text/plain": [
       "   No Variation Month      Time  Heater  AC     To  Radiation     Td     RH\n",
       "0   1     DT001   Mar  00:03:00       0   0  24.08        0.0  24.03  70.64\n",
       "1   2     DT001   Mar  00:09:00       0   0  24.08        0.0  24.03  70.72\n",
       "2   3     DT001   Mar  00:15:00       0   0  24.08        0.0  24.04  70.81\n",
       "3   4     DT001   Mar  00:21:00       0   0  24.08        0.0  24.04  70.90\n",
       "4   5     DT001   Mar  00:27:00       0   0  24.08        0.0  24.04  70.99"
      ]
     },
     "execution_count": 11,
     "metadata": {},
     "output_type": "execute_result"
    }
   ],
   "source": [
    "# Menampilkan 5 data teratas\n",
    "data.head()"
   ]
  },
  {
   "cell_type": "code",
   "execution_count": 12,
   "metadata": {},
   "outputs": [
    {
     "data": {
      "text/html": [
       "<div>\n",
       "<table border=\"1\" class=\"dataframe\">\n",
       "  <thead>\n",
       "    <tr style=\"text-align: right;\">\n",
       "      <th></th>\n",
       "      <th>No</th>\n",
       "      <th>Variation</th>\n",
       "      <th>Month</th>\n",
       "      <th>Time</th>\n",
       "      <th>Heater</th>\n",
       "      <th>AC</th>\n",
       "      <th>To</th>\n",
       "      <th>Radiation</th>\n",
       "      <th>Td</th>\n",
       "      <th>RH</th>\n",
       "    </tr>\n",
       "  </thead>\n",
       "  <tbody>\n",
       "    <tr>\n",
       "      <th>23995</th>\n",
       "      <td>23996</td>\n",
       "      <td>DT100</td>\n",
       "      <td>Des</td>\n",
       "      <td>23:33:00</td>\n",
       "      <td>2</td>\n",
       "      <td>0</td>\n",
       "      <td>24.22</td>\n",
       "      <td>0.0</td>\n",
       "      <td>24.89</td>\n",
       "      <td>99.69</td>\n",
       "    </tr>\n",
       "    <tr>\n",
       "      <th>23996</th>\n",
       "      <td>23997</td>\n",
       "      <td>DT100</td>\n",
       "      <td>Des</td>\n",
       "      <td>23:39:00</td>\n",
       "      <td>2</td>\n",
       "      <td>0</td>\n",
       "      <td>24.22</td>\n",
       "      <td>0.0</td>\n",
       "      <td>24.87</td>\n",
       "      <td>99.69</td>\n",
       "    </tr>\n",
       "    <tr>\n",
       "      <th>23997</th>\n",
       "      <td>23998</td>\n",
       "      <td>DT100</td>\n",
       "      <td>Des</td>\n",
       "      <td>23:45:00</td>\n",
       "      <td>2</td>\n",
       "      <td>0</td>\n",
       "      <td>24.22</td>\n",
       "      <td>0.0</td>\n",
       "      <td>24.86</td>\n",
       "      <td>99.69</td>\n",
       "    </tr>\n",
       "    <tr>\n",
       "      <th>23998</th>\n",
       "      <td>23999</td>\n",
       "      <td>DT100</td>\n",
       "      <td>Des</td>\n",
       "      <td>23:51:00</td>\n",
       "      <td>2</td>\n",
       "      <td>0</td>\n",
       "      <td>24.22</td>\n",
       "      <td>0.0</td>\n",
       "      <td>24.85</td>\n",
       "      <td>99.69</td>\n",
       "    </tr>\n",
       "    <tr>\n",
       "      <th>23999</th>\n",
       "      <td>24000</td>\n",
       "      <td>DT100</td>\n",
       "      <td>Des</td>\n",
       "      <td>23:57:00</td>\n",
       "      <td>2</td>\n",
       "      <td>0</td>\n",
       "      <td>24.22</td>\n",
       "      <td>0.0</td>\n",
       "      <td>24.83</td>\n",
       "      <td>99.69</td>\n",
       "    </tr>\n",
       "  </tbody>\n",
       "</table>\n",
       "</div>"
      ],
      "text/plain": [
       "          No Variation Month      Time  Heater  AC     To  Radiation     Td  \\\n",
       "23995  23996     DT100   Des  23:33:00       2   0  24.22        0.0  24.89   \n",
       "23996  23997     DT100   Des  23:39:00       2   0  24.22        0.0  24.87   \n",
       "23997  23998     DT100   Des  23:45:00       2   0  24.22        0.0  24.86   \n",
       "23998  23999     DT100   Des  23:51:00       2   0  24.22        0.0  24.85   \n",
       "23999  24000     DT100   Des  23:57:00       2   0  24.22        0.0  24.83   \n",
       "\n",
       "          RH  \n",
       "23995  99.69  \n",
       "23996  99.69  \n",
       "23997  99.69  \n",
       "23998  99.69  \n",
       "23999  99.69  "
      ]
     },
     "execution_count": 12,
     "metadata": {},
     "output_type": "execute_result"
    }
   ],
   "source": [
    "# Menampilkan 5 data terbawah\n",
    "data.tail()"
   ]
  },
  {
   "cell_type": "markdown",
   "metadata": {},
   "source": [
    "### 3. Memeriksa tipe data"
   ]
  },
  {
   "cell_type": "code",
   "execution_count": 13,
   "metadata": {},
   "outputs": [
    {
     "data": {
      "text/plain": [
       "No             int64\n",
       "Variation     object\n",
       "Month         object\n",
       "Time          object\n",
       "Heater         int64\n",
       "AC             int64\n",
       "To           float64\n",
       "Radiation    float64\n",
       "Td           float64\n",
       "RH           float64\n",
       "dtype: object"
      ]
     },
     "execution_count": 13,
     "metadata": {},
     "output_type": "execute_result"
    }
   ],
   "source": [
    "# Memeriksa tipe data\n",
    "data.dtypes"
   ]
  },
  {
   "cell_type": "markdown",
   "metadata": {},
   "source": [
    "### 4. Membuang (drop) kolom yang tidak relevan"
   ]
  },
  {
   "cell_type": "code",
   "execution_count": 14,
   "metadata": {
    "collapsed": true
   },
   "outputs": [],
   "source": [
    "# Menghilangkan kolom yang tidak relevan\n",
    "data = data.drop(['No'], axis=1)"
   ]
  },
  {
   "cell_type": "markdown",
   "metadata": {},
   "source": [
    "### 5. Mengganti nama kolom"
   ]
  },
  {
   "cell_type": "code",
   "execution_count": 15,
   "metadata": {
    "collapsed": true
   },
   "outputs": [],
   "source": [
    "# # Mengganti nama kolom\n",
    "# data = data.rename(columns={'No': 'Nomor', 'Heater': 'Pemanas'})"
   ]
  },
  {
   "cell_type": "markdown",
   "metadata": {},
   "source": [
    "### 6. Membuang (drop)  baris duplikat"
   ]
  },
  {
   "cell_type": "code",
   "execution_count": 16,
   "metadata": {},
   "outputs": [
    {
     "data": {
      "text/plain": [
       "(24000, 9)"
      ]
     },
     "execution_count": 16,
     "metadata": {},
     "output_type": "execute_result"
    }
   ],
   "source": [
    "# Total number of rows and columns\n",
    "data.shape"
   ]
  },
  {
   "cell_type": "code",
   "execution_count": 17,
   "metadata": {},
   "outputs": [
    {
     "name": "stdout",
     "output_type": "stream",
     "text": [
      "number of duplicate rows:  (0, 9)\n"
     ]
    }
   ],
   "source": [
    "# Baris-baris yang mengandung data duplikat\n",
    "duplicate_rows_data = data[data.duplicated()]\n",
    "print('number of duplicate rows: ', duplicate_rows_data.shape)"
   ]
  },
  {
   "cell_type": "code",
   "execution_count": 18,
   "metadata": {},
   "outputs": [
    {
     "data": {
      "text/plain": [
       "Variation    24000\n",
       "Month        24000\n",
       "Time         24000\n",
       "Heater       24000\n",
       "AC           24000\n",
       "To           24000\n",
       "Radiation    24000\n",
       "Td           24000\n",
       "RH           24000\n",
       "dtype: int64"
      ]
     },
     "execution_count": 18,
     "metadata": {},
     "output_type": "execute_result"
    }
   ],
   "source": [
    "# Biasakan menghitung jumlah baris sebelumnya menghapus datanya\n",
    "data.count() "
   ]
  },
  {
   "cell_type": "code",
   "execution_count": 19,
   "metadata": {
    "collapsed": true
   },
   "outputs": [],
   "source": [
    "# # Membuang (drop) data duplikat \n",
    "# data = df.drop_duplicates()"
   ]
  },
  {
   "cell_type": "markdown",
   "metadata": {},
   "source": [
    "### 7. Membuang (drop) nilai-nilai yang hilang atau null."
   ]
  },
  {
   "cell_type": "code",
   "execution_count": 20,
   "metadata": {},
   "outputs": [
    {
     "name": "stdout",
     "output_type": "stream",
     "text": [
      "Variation    0\n",
      "Month        0\n",
      "Time         0\n",
      "Heater       0\n",
      "AC           0\n",
      "To           0\n",
      "Radiation    0\n",
      "Td           0\n",
      "RH           0\n",
      "dtype: int64\n"
     ]
    }
   ],
   "source": [
    "# Mencari nilai-nilai kosong (null)\n",
    "print(data.isnull().sum())"
   ]
  },
  {
   "cell_type": "code",
   "execution_count": 21,
   "metadata": {
    "collapsed": true
   },
   "outputs": [],
   "source": [
    "# # Membuang nilai-nilai yang hilang.\n",
    "# df = df.dropna() "
   ]
  },
  {
   "cell_type": "markdown",
   "metadata": {},
   "source": [
    "### 8. Mendeteksi Outliers"
   ]
  },
  {
   "cell_type": "code",
   "execution_count": 23,
   "metadata": {},
   "outputs": [
    {
     "data": {
      "text/plain": [
       "<matplotlib.axes._subplots.AxesSubplot at 0x1e733460be0>"
      ]
     },
     "execution_count": 23,
     "metadata": {},
     "output_type": "execute_result"
    },
    {
     "data": {
      "image/png": "[encoded data removed]",
      "text/plain": [
       "<matplotlib.figure.Figure at 0x1e7334397b8>"
      ]
     },
     "metadata": {},
     "output_type": "display_data"
    }
   ],
   "source": [
    "sns.boxplot(x=data['Td'])"
   ]
  },
  {
   "cell_type": "code",
   "execution_count": 24,
   "metadata": {},
   "outputs": [
    {
     "data": {
      "text/plain": [
       "<matplotlib.axes._subplots.AxesSubplot at 0x1e734d835c0>"
      ]
     },
     "execution_count": 24,
     "metadata": {},
     "output_type": "execute_result"
    },
    {
     "data": {
      "image/png": "[encoded data removed]",
      "text/plain": [
       "<matplotlib.figure.Figure at 0x1e734e3ff28>"
      ]
     },
     "metadata": {},
     "output_type": "display_data"
    }
   ],
   "source": [
    "sns.boxplot(x=data['RH'])"
   ]
  },
  {
   "cell_type": "code",
   "execution_count": 25,
   "metadata": {},
   "outputs": [
    {
     "data": {
      "text/html": [
       "<div>\n",
       "<table border=\"1\" class=\"dataframe\">\n",
       "  <thead>\n",
       "    <tr style=\"text-align: right;\">\n",
       "      <th></th>\n",
       "      <th>Heater</th>\n",
       "      <th>AC</th>\n",
       "      <th>To</th>\n",
       "      <th>Radiation</th>\n",
       "      <th>Td</th>\n",
       "      <th>RH</th>\n",
       "    </tr>\n",
       "  </thead>\n",
       "  <tbody>\n",
       "    <tr>\n",
       "      <th>count</th>\n",
       "      <td>24000.000000</td>\n",
       "      <td>24000.000000</td>\n",
       "      <td>24000.000000</td>\n",
       "      <td>24000.000000</td>\n",
       "      <td>24000.000000</td>\n",
       "      <td>24000.000000</td>\n",
       "    </tr>\n",
       "    <tr>\n",
       "      <th>mean</th>\n",
       "      <td>0.600000</td>\n",
       "      <td>9.362500</td>\n",
       "      <td>25.269598</td>\n",
       "      <td>184.437794</td>\n",
       "      <td>24.528928</td>\n",
       "      <td>89.147813</td>\n",
       "    </tr>\n",
       "    <tr>\n",
       "      <th>std</th>\n",
       "      <td>0.800017</td>\n",
       "      <td>12.373357</td>\n",
       "      <td>1.825458</td>\n",
       "      <td>270.431525</td>\n",
       "      <td>2.489437</td>\n",
       "      <td>10.545183</td>\n",
       "    </tr>\n",
       "    <tr>\n",
       "      <th>min</th>\n",
       "      <td>0.000000</td>\n",
       "      <td>0.000000</td>\n",
       "      <td>13.130000</td>\n",
       "      <td>0.000000</td>\n",
       "      <td>16.000000</td>\n",
       "      <td>55.840000</td>\n",
       "    </tr>\n",
       "    <tr>\n",
       "      <th>25%</th>\n",
       "      <td>0.000000</td>\n",
       "      <td>0.000000</td>\n",
       "      <td>23.940000</td>\n",
       "      <td>0.000000</td>\n",
       "      <td>23.840000</td>\n",
       "      <td>80.680000</td>\n",
       "    </tr>\n",
       "    <tr>\n",
       "      <th>50%</th>\n",
       "      <td>0.000000</td>\n",
       "      <td>0.000000</td>\n",
       "      <td>24.680000</td>\n",
       "      <td>0.000000</td>\n",
       "      <td>24.660000</td>\n",
       "      <td>91.180000</td>\n",
       "    </tr>\n",
       "    <tr>\n",
       "      <th>75%</th>\n",
       "      <td>1.000000</td>\n",
       "      <td>24.000000</td>\n",
       "      <td>26.840000</td>\n",
       "      <td>291.576000</td>\n",
       "      <td>26.000000</td>\n",
       "      <td>99.870000</td>\n",
       "    </tr>\n",
       "    <tr>\n",
       "      <th>max</th>\n",
       "      <td>2.000000</td>\n",
       "      <td>30.000000</td>\n",
       "      <td>29.410000</td>\n",
       "      <td>845.891000</td>\n",
       "      <td>30.310000</td>\n",
       "      <td>100.000000</td>\n",
       "    </tr>\n",
       "  </tbody>\n",
       "</table>\n",
       "</div>"
      ],
      "text/plain": [
       "             Heater            AC            To     Radiation            Td  \\\n",
       "count  24000.000000  24000.000000  24000.000000  24000.000000  24000.000000   \n",
       "mean       0.600000      9.362500     25.269598    184.437794     24.528928   \n",
       "std        0.800017     12.373357      1.825458    270.431525      2.489437   \n",
       "min        0.000000      0.000000     13.130000      0.000000     16.000000   \n",
       "25%        0.000000      0.000000     23.940000      0.000000     23.840000   \n",
       "50%        0.000000      0.000000     24.680000      0.000000     24.660000   \n",
       "75%        1.000000     24.000000     26.840000    291.576000     26.000000   \n",
       "max        2.000000     30.000000     29.410000    845.891000     30.310000   \n",
       "\n",
       "                 RH  \n",
       "count  24000.000000  \n",
       "mean      89.147813  \n",
       "std       10.545183  \n",
       "min       55.840000  \n",
       "25%       80.680000  \n",
       "50%       91.180000  \n",
       "75%       99.870000  \n",
       "max      100.000000  "
      ]
     },
     "execution_count": 25,
     "metadata": {},
     "output_type": "execute_result"
    }
   ],
   "source": [
    "data.describe()"
   ]
  },
  {
   "cell_type": "code",
   "execution_count": 26,
   "metadata": {},
   "outputs": [
    {
     "name": "stdout",
     "output_type": "stream",
     "text": [
      "Heater         1.000\n",
      "AC            24.000\n",
      "To             2.900\n",
      "Radiation    291.576\n",
      "Td             2.160\n",
      "RH            19.190\n",
      "dtype: float64\n"
     ]
    }
   ],
   "source": [
    "# Menentukan nilai IQR\n",
    "Q1 = data.quantile(0.25)\n",
    "Q3 = data.quantile(0.75)\n",
    "IQR = Q3 - Q1\n",
    "print(IQR)"
   ]
  },
  {
   "cell_type": "code",
   "execution_count": 27,
   "metadata": {
    "collapsed": true
   },
   "outputs": [],
   "source": [
    "# # Membuang Outliers\n",
    "# data = data[~((data < (Q1 - 1.5 * IQR)) |(data > (Q3 + 1.5 * IQR))).any(axis=1)]\n",
    "# data.shape"
   ]
  },
  {
   "cell_type": "code",
   "execution_count": 28,
   "metadata": {},
   "outputs": [
    {
     "data": {
      "text/html": [
       "<div>\n",
       "<table border=\"1\" class=\"dataframe\">\n",
       "  <thead>\n",
       "    <tr style=\"text-align: right;\">\n",
       "      <th></th>\n",
       "      <th>Heater</th>\n",
       "      <th>AC</th>\n",
       "      <th>To</th>\n",
       "      <th>Radiation</th>\n",
       "      <th>Td</th>\n",
       "      <th>RH</th>\n",
       "    </tr>\n",
       "  </thead>\n",
       "  <tbody>\n",
       "    <tr>\n",
       "      <th>count</th>\n",
       "      <td>24000.000000</td>\n",
       "      <td>24000.000000</td>\n",
       "      <td>24000.000000</td>\n",
       "      <td>24000.000000</td>\n",
       "      <td>24000.000000</td>\n",
       "      <td>24000.000000</td>\n",
       "    </tr>\n",
       "    <tr>\n",
       "      <th>mean</th>\n",
       "      <td>0.600000</td>\n",
       "      <td>9.362500</td>\n",
       "      <td>25.269598</td>\n",
       "      <td>184.437794</td>\n",
       "      <td>24.528928</td>\n",
       "      <td>89.147813</td>\n",
       "    </tr>\n",
       "    <tr>\n",
       "      <th>std</th>\n",
       "      <td>0.800017</td>\n",
       "      <td>12.373357</td>\n",
       "      <td>1.825458</td>\n",
       "      <td>270.431525</td>\n",
       "      <td>2.489437</td>\n",
       "      <td>10.545183</td>\n",
       "    </tr>\n",
       "    <tr>\n",
       "      <th>min</th>\n",
       "      <td>0.000000</td>\n",
       "      <td>0.000000</td>\n",
       "      <td>13.130000</td>\n",
       "      <td>0.000000</td>\n",
       "      <td>16.000000</td>\n",
       "      <td>55.840000</td>\n",
       "    </tr>\n",
       "    <tr>\n",
       "      <th>25%</th>\n",
       "      <td>0.000000</td>\n",
       "      <td>0.000000</td>\n",
       "      <td>23.940000</td>\n",
       "      <td>0.000000</td>\n",
       "      <td>23.840000</td>\n",
       "      <td>80.680000</td>\n",
       "    </tr>\n",
       "    <tr>\n",
       "      <th>50%</th>\n",
       "      <td>0.000000</td>\n",
       "      <td>0.000000</td>\n",
       "      <td>24.680000</td>\n",
       "      <td>0.000000</td>\n",
       "      <td>24.660000</td>\n",
       "      <td>91.180000</td>\n",
       "    </tr>\n",
       "    <tr>\n",
       "      <th>75%</th>\n",
       "      <td>1.000000</td>\n",
       "      <td>24.000000</td>\n",
       "      <td>26.840000</td>\n",
       "      <td>291.576000</td>\n",
       "      <td>26.000000</td>\n",
       "      <td>99.870000</td>\n",
       "    </tr>\n",
       "    <tr>\n",
       "      <th>max</th>\n",
       "      <td>2.000000</td>\n",
       "      <td>30.000000</td>\n",
       "      <td>29.410000</td>\n",
       "      <td>845.891000</td>\n",
       "      <td>30.310000</td>\n",
       "      <td>100.000000</td>\n",
       "    </tr>\n",
       "  </tbody>\n",
       "</table>\n",
       "</div>"
      ],
      "text/plain": [
       "             Heater            AC            To     Radiation            Td  \\\n",
       "count  24000.000000  24000.000000  24000.000000  24000.000000  24000.000000   \n",
       "mean       0.600000      9.362500     25.269598    184.437794     24.528928   \n",
       "std        0.800017     12.373357      1.825458    270.431525      2.489437   \n",
       "min        0.000000      0.000000     13.130000      0.000000     16.000000   \n",
       "25%        0.000000      0.000000     23.940000      0.000000     23.840000   \n",
       "50%        0.000000      0.000000     24.680000      0.000000     24.660000   \n",
       "75%        1.000000     24.000000     26.840000    291.576000     26.000000   \n",
       "max        2.000000     30.000000     29.410000    845.891000     30.310000   \n",
       "\n",
       "                 RH  \n",
       "count  24000.000000  \n",
       "mean      89.147813  \n",
       "std       10.545183  \n",
       "min       55.840000  \n",
       "25%       80.680000  \n",
       "50%       91.180000  \n",
       "75%       99.870000  \n",
       "max      100.000000  "
      ]
     },
     "execution_count": 28,
     "metadata": {},
     "output_type": "execute_result"
    }
   ],
   "source": [
    "data.describe()"
   ]
  },
  {
   "cell_type": "code",
   "execution_count": 29,
   "metadata": {
    "collapsed": true
   },
   "outputs": [],
   "source": [
    "# # Membuang AC bernilai 0\n",
    "# data = data[data.AC != 0]"
   ]
  },
  {
   "cell_type": "code",
   "execution_count": 30,
   "metadata": {},
   "outputs": [
    {
     "data": {
      "text/html": [
       "<div>\n",
       "<table border=\"1\" class=\"dataframe\">\n",
       "  <thead>\n",
       "    <tr style=\"text-align: right;\">\n",
       "      <th></th>\n",
       "      <th>Heater</th>\n",
       "      <th>AC</th>\n",
       "      <th>To</th>\n",
       "      <th>Radiation</th>\n",
       "      <th>Td</th>\n",
       "      <th>RH</th>\n",
       "    </tr>\n",
       "  </thead>\n",
       "  <tbody>\n",
       "    <tr>\n",
       "      <th>count</th>\n",
       "      <td>24000.000000</td>\n",
       "      <td>24000.000000</td>\n",
       "      <td>24000.000000</td>\n",
       "      <td>24000.000000</td>\n",
       "      <td>24000.000000</td>\n",
       "      <td>24000.000000</td>\n",
       "    </tr>\n",
       "    <tr>\n",
       "      <th>mean</th>\n",
       "      <td>0.600000</td>\n",
       "      <td>9.362500</td>\n",
       "      <td>25.269598</td>\n",
       "      <td>184.437794</td>\n",
       "      <td>24.528928</td>\n",
       "      <td>89.147813</td>\n",
       "    </tr>\n",
       "    <tr>\n",
       "      <th>std</th>\n",
       "      <td>0.800017</td>\n",
       "      <td>12.373357</td>\n",
       "      <td>1.825458</td>\n",
       "      <td>270.431525</td>\n",
       "      <td>2.489437</td>\n",
       "      <td>10.545183</td>\n",
       "    </tr>\n",
       "    <tr>\n",
       "      <th>min</th>\n",
       "      <td>0.000000</td>\n",
       "      <td>0.000000</td>\n",
       "      <td>13.130000</td>\n",
       "      <td>0.000000</td>\n",
       "      <td>16.000000</td>\n",
       "      <td>55.840000</td>\n",
       "    </tr>\n",
       "    <tr>\n",
       "      <th>25%</th>\n",
       "      <td>0.000000</td>\n",
       "      <td>0.000000</td>\n",
       "      <td>23.940000</td>\n",
       "      <td>0.000000</td>\n",
       "      <td>23.840000</td>\n",
       "      <td>80.680000</td>\n",
       "    </tr>\n",
       "    <tr>\n",
       "      <th>50%</th>\n",
       "      <td>0.000000</td>\n",
       "      <td>0.000000</td>\n",
       "      <td>24.680000</td>\n",
       "      <td>0.000000</td>\n",
       "      <td>24.660000</td>\n",
       "      <td>91.180000</td>\n",
       "    </tr>\n",
       "    <tr>\n",
       "      <th>75%</th>\n",
       "      <td>1.000000</td>\n",
       "      <td>24.000000</td>\n",
       "      <td>26.840000</td>\n",
       "      <td>291.576000</td>\n",
       "      <td>26.000000</td>\n",
       "      <td>99.870000</td>\n",
       "    </tr>\n",
       "    <tr>\n",
       "      <th>max</th>\n",
       "      <td>2.000000</td>\n",
       "      <td>30.000000</td>\n",
       "      <td>29.410000</td>\n",
       "      <td>845.891000</td>\n",
       "      <td>30.310000</td>\n",
       "      <td>100.000000</td>\n",
       "    </tr>\n",
       "  </tbody>\n",
       "</table>\n",
       "</div>"
      ],
      "text/plain": [
       "             Heater            AC            To     Radiation            Td  \\\n",
       "count  24000.000000  24000.000000  24000.000000  24000.000000  24000.000000   \n",
       "mean       0.600000      9.362500     25.269598    184.437794     24.528928   \n",
       "std        0.800017     12.373357      1.825458    270.431525      2.489437   \n",
       "min        0.000000      0.000000     13.130000      0.000000     16.000000   \n",
       "25%        0.000000      0.000000     23.940000      0.000000     23.840000   \n",
       "50%        0.000000      0.000000     24.680000      0.000000     24.660000   \n",
       "75%        1.000000     24.000000     26.840000    291.576000     26.000000   \n",
       "max        2.000000     30.000000     29.410000    845.891000     30.310000   \n",
       "\n",
       "                 RH  \n",
       "count  24000.000000  \n",
       "mean      89.147813  \n",
       "std       10.545183  \n",
       "min       55.840000  \n",
       "25%       80.680000  \n",
       "50%       91.180000  \n",
       "75%       99.870000  \n",
       "max      100.000000  "
      ]
     },
     "execution_count": 30,
     "metadata": {},
     "output_type": "execute_result"
    }
   ],
   "source": [
    "data.describe()"
   ]
  },
  {
   "cell_type": "markdown",
   "metadata": {},
   "source": [
    "### 9. Plot berbagai fitur terhadap satu sama lain (scatter), terhadap frekuensi (histogram)"
   ]
  },
  {
   "cell_type": "code",
   "execution_count": 31,
   "metadata": {},
   "outputs": [
    {
     "data": {
      "image/png": "[encoded data removed]",
      "text/plain": [
       "<matplotlib.figure.Figure at 0x1e734e6aba8>"
      ]
     },
     "metadata": {},
     "output_type": "display_data"
    }
   ],
   "source": [
    "# Menggambar Histogram\n",
    "data.Month.value_counts().nlargest(40).plot(kind='bar', figsize=(10,5))\n",
    "plt.title(\"Number of data by month\")\n",
    "plt.ylabel('Number of data')\n",
    "plt.xlabel('Month');"
   ]
  },
  {
   "cell_type": "code",
   "execution_count": 32,
   "metadata": {},
   "outputs": [
    {
     "data": {
      "text/html": [
       "<div>\n",
       "<table border=\"1\" class=\"dataframe\">\n",
       "  <thead>\n",
       "    <tr style=\"text-align: right;\">\n",
       "      <th></th>\n",
       "      <th>Heater</th>\n",
       "      <th>AC</th>\n",
       "      <th>To</th>\n",
       "      <th>Radiation</th>\n",
       "      <th>Td</th>\n",
       "      <th>RH</th>\n",
       "    </tr>\n",
       "  </thead>\n",
       "  <tbody>\n",
       "    <tr>\n",
       "      <th>Heater</th>\n",
       "      <td>1.000000</td>\n",
       "      <td>0.066424</td>\n",
       "      <td>0.000642</td>\n",
       "      <td>-0.000275</td>\n",
       "      <td>0.415039</td>\n",
       "      <td>-0.108863</td>\n",
       "    </tr>\n",
       "    <tr>\n",
       "      <th>AC</th>\n",
       "      <td>0.066424</td>\n",
       "      <td>1.000000</td>\n",
       "      <td>0.707403</td>\n",
       "      <td>0.781426</td>\n",
       "      <td>0.060352</td>\n",
       "      <td>0.035544</td>\n",
       "    </tr>\n",
       "    <tr>\n",
       "      <th>To</th>\n",
       "      <td>0.000642</td>\n",
       "      <td>0.707403</td>\n",
       "      <td>1.000000</td>\n",
       "      <td>0.744093</td>\n",
       "      <td>0.057839</td>\n",
       "      <td>-0.107750</td>\n",
       "    </tr>\n",
       "    <tr>\n",
       "      <th>Radiation</th>\n",
       "      <td>-0.000275</td>\n",
       "      <td>0.781426</td>\n",
       "      <td>0.744093</td>\n",
       "      <td>1.000000</td>\n",
       "      <td>-0.039498</td>\n",
       "      <td>0.016874</td>\n",
       "    </tr>\n",
       "    <tr>\n",
       "      <th>Td</th>\n",
       "      <td>0.415039</td>\n",
       "      <td>0.060352</td>\n",
       "      <td>0.057839</td>\n",
       "      <td>-0.039498</td>\n",
       "      <td>1.000000</td>\n",
       "      <td>-0.385537</td>\n",
       "    </tr>\n",
       "    <tr>\n",
       "      <th>RH</th>\n",
       "      <td>-0.108863</td>\n",
       "      <td>0.035544</td>\n",
       "      <td>-0.107750</td>\n",
       "      <td>0.016874</td>\n",
       "      <td>-0.385537</td>\n",
       "      <td>1.000000</td>\n",
       "    </tr>\n",
       "  </tbody>\n",
       "</table>\n",
       "</div>"
      ],
      "text/plain": [
       "             Heater        AC        To  Radiation        Td        RH\n",
       "Heater     1.000000  0.066424  0.000642  -0.000275  0.415039 -0.108863\n",
       "AC         0.066424  1.000000  0.707403   0.781426  0.060352  0.035544\n",
       "To         0.000642  0.707403  1.000000   0.744093  0.057839 -0.107750\n",
       "Radiation -0.000275  0.781426  0.744093   1.000000 -0.039498  0.016874\n",
       "Td         0.415039  0.060352  0.057839  -0.039498  1.000000 -0.385537\n",
       "RH        -0.108863  0.035544 -0.107750   0.016874 -0.385537  1.000000"
      ]
     },
     "execution_count": 32,
     "metadata": {},
     "output_type": "execute_result"
    }
   ],
   "source": [
    "# Mencari relasi anatara variabel-variabel.\n",
    "c = pd.DataFrame(data.corr())\n",
    "c"
   ]
  },
  {
   "cell_type": "code",
   "execution_count": 33,
   "metadata": {},
   "outputs": [
    {
     "data": {
      "image/png": "[encoded data removed]",
      "text/plain": [
       "<matplotlib.figure.Figure at 0x1e734efbd68>"
      ]
     },
     "metadata": {},
     "output_type": "display_data"
    }
   ],
   "source": [
    "# Heatmaps\n",
    "sns.set_style('white')\n",
    "sns.set_context(\"paper\", font_scale=1.7) \n",
    "plt.figure(figsize=(12,7))\n",
    "sns.heatmap(data.corr(),cmap=\"BrBG\",annot=True, linewidths=0.1)\n",
    "plt.tight_layout()"
   ]
  },
  {
   "cell_type": "code",
   "execution_count": 36,
   "metadata": {},
   "outputs": [
    {
     "data": {
      "image/png": "[encoded data removed]",
      "text/plain": [
       "<matplotlib.figure.Figure at 0x1e734e87780>"
      ]
     },
     "metadata": {},
     "output_type": "display_data"
    }
   ],
   "source": [
    "# Menggambar scatter plot\n",
    "fig, ax = plt.subplots(figsize=(10,6))\n",
    "ax.scatter(data['To'], data['Td'])\n",
    "ax.set_xlabel('To')\n",
    "ax.set_ylabel('Td')\n",
    "plt.show()"
   ]
  },
  {
   "cell_type": "markdown",
   "metadata": {},
   "source": [
    "## Uji Distribusi dan Normalitas"
   ]
  },
  {
   "cell_type": "code",
   "execution_count": 37,
   "metadata": {},
   "outputs": [
    {
     "ename": "AttributeError",
     "evalue": "'DataFrame' object has no attribute 'AirT'",
     "output_type": "error",
     "traceback": [
      "\u001b[1;31m---------------------------------------------------------------------------\u001b[0m",
      "\u001b[1;31mAttributeError\u001b[0m                            Traceback (most recent call last)",
      "\u001b[1;32m<ipython-input-37-84d83327ee0d>\u001b[0m in \u001b[0;36m<module>\u001b[1;34m()\u001b[0m\n\u001b[1;32m----> 1\u001b[1;33m \u001b[0mprint\u001b[0m\u001b[1;33m(\u001b[0m\u001b[0mdata\u001b[0m\u001b[1;33m.\u001b[0m\u001b[0mAirT\u001b[0m\u001b[1;33m.\u001b[0m\u001b[0mdescribe\u001b[0m\u001b[1;33m(\u001b[0m\u001b[1;33m)\u001b[0m\u001b[1;33m)\u001b[0m\u001b[1;33m\u001b[0m\u001b[0m\n\u001b[0m\u001b[0;32m      2\u001b[0m \u001b[1;33m\u001b[0m\u001b[0m\n\u001b[0;32m      3\u001b[0m \u001b[0msns\u001b[0m\u001b[1;33m.\u001b[0m\u001b[0mdistplot\u001b[0m\u001b[1;33m(\u001b[0m\u001b[0mdata\u001b[0m\u001b[1;33m.\u001b[0m\u001b[0mAirT\u001b[0m\u001b[1;33m)\u001b[0m\u001b[1;33m;\u001b[0m\u001b[1;33m\u001b[0m\u001b[0m\n\u001b[0;32m      4\u001b[0m \u001b[1;33m\u001b[0m\u001b[0m\n\u001b[0;32m      5\u001b[0m \u001b[0mstats\u001b[0m\u001b[1;33m.\u001b[0m\u001b[0mnormaltest\u001b[0m\u001b[1;33m(\u001b[0m\u001b[0mdata\u001b[0m\u001b[1;33m.\u001b[0m\u001b[0mAirT\u001b[0m\u001b[1;33m)\u001b[0m\u001b[1;33m\u001b[0m\u001b[0m\n",
      "\u001b[1;32mC:\\WinPython\\python-3.5.3.amd64\\lib\\site-packages\\pandas\\core\\generic.py\u001b[0m in \u001b[0;36m__getattr__\u001b[1;34m(self, name)\u001b[0m\n\u001b[0;32m   2742\u001b[0m             \u001b[1;32mif\u001b[0m \u001b[0mname\u001b[0m \u001b[1;32min\u001b[0m \u001b[0mself\u001b[0m\u001b[1;33m.\u001b[0m\u001b[0m_info_axis\u001b[0m\u001b[1;33m:\u001b[0m\u001b[1;33m\u001b[0m\u001b[0m\n\u001b[0;32m   2743\u001b[0m                 \u001b[1;32mreturn\u001b[0m \u001b[0mself\u001b[0m\u001b[1;33m[\u001b[0m\u001b[0mname\u001b[0m\u001b[1;33m]\u001b[0m\u001b[1;33m\u001b[0m\u001b[0m\n\u001b[1;32m-> 2744\u001b[1;33m             \u001b[1;32mreturn\u001b[0m \u001b[0mobject\u001b[0m\u001b[1;33m.\u001b[0m\u001b[0m__getattribute__\u001b[0m\u001b[1;33m(\u001b[0m\u001b[0mself\u001b[0m\u001b[1;33m,\u001b[0m \u001b[0mname\u001b[0m\u001b[1;33m)\u001b[0m\u001b[1;33m\u001b[0m\u001b[0m\n\u001b[0m\u001b[0;32m   2745\u001b[0m \u001b[1;33m\u001b[0m\u001b[0m\n\u001b[0;32m   2746\u001b[0m     \u001b[1;32mdef\u001b[0m \u001b[0m__setattr__\u001b[0m\u001b[1;33m(\u001b[0m\u001b[0mself\u001b[0m\u001b[1;33m,\u001b[0m \u001b[0mname\u001b[0m\u001b[1;33m,\u001b[0m \u001b[0mvalue\u001b[0m\u001b[1;33m)\u001b[0m\u001b[1;33m:\u001b[0m\u001b[1;33m\u001b[0m\u001b[0m\n",
      "\u001b[1;31mAttributeError\u001b[0m: 'DataFrame' object has no attribute 'AirT'"
     ]
    }
   ],
   "source": [
    "print(data.AirT.describe())\n",
    "\n",
    "sns.distplot(data.T);\n",
    "\n",
    "stats.normaltest(data.AirT)\n",
    "#This function tests the null hypothesis that a sample comes from a normal distribution. \n",
    "# It is based on D'Agostino and Pearson's test that combines skew and kurtosis to produce\n",
    "# an omnibus test of normality.\n",
    "print( 'Kurtosis of normal distribution (should be 0): {}'.format(stats.kurtosis(data.AirT)))\n",
    "print( 'Skewness of normal distribution (should be 0): {}'.format(stats.skew(data.AirT)))"
   ]
  },
  {
   "cell_type": "markdown",
   "metadata": {},
   "source": [
    "KURTOSIS: menggambarkan bobot ekor suatu distribusi\n",
    "\n",
    "Distribusi Normal memiliki kurtosis 0 (mesokurtik) <br/>\n",
    "Nilai positif memberi tahu Anda bahwa Anda memiliki ekor yang berat (mis. Banyak data di ekor Anda). <br/>\n",
    "Nilai negatif berarti Anda memiliki ekor ringan (mis. Sedikit data di ekor Anda). <br/>\n",
    "\n",
    "SKEWNESS:\n",
    "\n",
    "Jika kemiringan kurang dari -1 atau lebih besar dari 1, distribusinya sangat miring. <br/>\n",
    "Jika kemiringan antara -1 dan -0,5 atau antara 0,5 dan 1, distribusinya cukup miring. <br/>\n",
    "Jika kemiringan antara -0,5 dan 0,5, distribusinya kira-kira simetris. <br/>"
   ]
  },
  {
   "cell_type": "code",
   "execution_count": null,
   "metadata": {},
   "outputs": [],
   "source": [
    "print(data.RH.describe())\n",
    "\n",
    "sns.distplot(data.RH);\n",
    "\n",
    "stats.normaltest(data.RH)\n",
    "#This function tests the null hypothesis that a sample comes from a normal distribution. \n",
    "# It is based on D'Agostino and Pearson's test that combines skew and kurtosis to produce\n",
    "# an omnibus test of normality.\n",
    "print( 'Kurtosis of normal distribution (should be 0): {}'.format(stats.kurtosis(data.RH)))\n",
    "print( 'Skewness of normal distribution (should be 0): {}'.format(stats.skew(data.RH)))"
   ]
  },
  {
   "cell_type": "code",
   "execution_count": null,
   "metadata": {},
   "outputs": [],
   "source": [
    "print(data.AC.describe())\n",
    "\n",
    "sns.distplot(data.AC);\n",
    "\n",
    "stats.normaltest(data.AC)\n",
    "#This function tests the null hypothesis that a sample comes from a normal distribution. \n",
    "# It is based on D'Agostino and Pearson's test that combines skew and kurtosis to produce\n",
    "# an omnibus test of normality.\n",
    "print( 'Kurtosis of normal distribution (should be 0): {}'.format(stats.kurtosis(data.AC)))\n",
    "print( 'Skewness of normal distribution (should be 0): {}'.format(stats.skew(data.AC)))"
   ]
  },
  {
   "cell_type": "code",
   "execution_count": null,
   "metadata": {
    "collapsed": true
   },
   "outputs": [],
   "source": []
  }
 ],
 "metadata": {
  "kernelspec": {
   "display_name": "Python 3",
   "language": "python",
   "name": "python3"
  },
  "language_info": {
   "codemirror_mode": {
    "name": "ipython",
    "version": 3
   },
   "file_extension": ".py",
   "mimetype": "text/x-python",
   "name": "python",
   "nbconvert_exporter": "python",
   "pygments_lexer": "ipython3",
   "version": "3.5.3"
  }
 },
 "nbformat": 4,
 "nbformat_minor": 2
}
