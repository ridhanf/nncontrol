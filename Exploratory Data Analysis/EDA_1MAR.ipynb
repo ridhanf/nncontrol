{
 "cells": [
  {
   "cell_type": "markdown",
   "metadata": {},
   "source": [
    "# Exploratory Data Analysis\n",
    "## Rancang Bangun Jaringan Saraf Tiruan untuk Sistem Kendali Lingkungan\n",
    "\n",
    "Ridhan Fadhilah\n",
    "15/384859/TK/43521"
   ]
  },
  {
   "cell_type": "markdown",
   "metadata": {},
   "source": [
    "### 1. Mengimpor pustaka yang diperlukan untuk EDA"
   ]
  },
  {
   "cell_type": "code",
   "execution_count": 1,
   "metadata": {},
   "outputs": [],
   "source": [
    "# Mengimpor pustaka-pustaka yang dibutuhkan\n",
    "import pandas as pd\n",
    "import numpy as np\n",
    "from scipy import stats\n",
    "import seaborn as sns #visualisation\n",
    "import matplotlib.pyplot as plt #visualisation\n",
    "%matplotlib inline\n",
    "sns.set(color_codes=True)"
   ]
  },
  {
   "cell_type": "markdown",
   "metadata": {},
   "source": [
    "### 2. Memuat data ke dalam DataFrame."
   ]
  },
  {
   "cell_type": "code",
   "execution_count": 2,
   "metadata": {},
   "outputs": [
    {
     "name": "stdout",
     "output_type": "stream",
     "text": [
      "data1Mar.xlsx\n",
      "data2Jun.xlsx\n",
      "data3Sep.xlsx\n",
      "data4Des.xlsx\n",
      "dataAll.xlsx\n",
      "dataEDA.csv\n",
      "DataFormat.xlsx\n",
      "Data Simulasi IESVE (1-60).xlsx\n",
      "Data Simulasi IESVE (61-80).xlsx\n",
      "Data Simulasi IESVE (81-100).xlsx\n",
      "Data Training ANN (1-60).xlsx\n",
      "Data Training ANN (61-80).xlsx\n",
      "Data Training ANN (81-100).xlsx\n",
      "Data Training ANN Gabung (1-100).xlsx\n",
      "\n"
     ]
    }
   ],
   "source": [
    "# Menampilkan berkas-berkas data\n",
    "from subprocess import check_output\n",
    "print(check_output([\"ls\", \"../Data\"]).decode(\"utf8\"))"
   ]
  },
  {
   "cell_type": "code",
   "execution_count": 3,
   "metadata": {},
   "outputs": [],
   "source": [
    "# Memasukkan dataset ke dalam jupyter.\n",
    "data = pd.read_excel('../Data/data1Mar.xlsx')"
   ]
  },
  {
   "cell_type": "code",
   "execution_count": 50,
   "metadata": {},
   "outputs": [
    {
     "data": {
      "text/html": [
       "<div>\n",
       "<style scoped>\n",
       "    .dataframe tbody tr th:only-of-type {\n",
       "        vertical-align: middle;\n",
       "    }\n",
       "\n",
       "    .dataframe tbody tr th {\n",
       "        vertical-align: top;\n",
       "    }\n",
       "\n",
       "    .dataframe thead th {\n",
       "        text-align: right;\n",
       "    }\n",
       "</style>\n",
       "<table border=\"1\" class=\"dataframe\">\n",
       "  <thead>\n",
       "    <tr style=\"text-align: right;\">\n",
       "      <th></th>\n",
       "      <th>Variation</th>\n",
       "      <th>Month</th>\n",
       "      <th>Time</th>\n",
       "      <th>Heater</th>\n",
       "      <th>AC</th>\n",
       "      <th>DrybulbT</th>\n",
       "      <th>Radiation</th>\n",
       "      <th>AirT</th>\n",
       "      <th>RH</th>\n",
       "    </tr>\n",
       "  </thead>\n",
       "  <tbody>\n",
       "    <tr>\n",
       "      <td>0</td>\n",
       "      <td>DT001</td>\n",
       "      <td>Mar</td>\n",
       "      <td>00:03:00</td>\n",
       "      <td>0</td>\n",
       "      <td>0</td>\n",
       "      <td>24.08</td>\n",
       "      <td>0.0</td>\n",
       "      <td>24.03</td>\n",
       "      <td>70.64</td>\n",
       "    </tr>\n",
       "    <tr>\n",
       "      <td>1</td>\n",
       "      <td>DT001</td>\n",
       "      <td>Mar</td>\n",
       "      <td>00:09:00</td>\n",
       "      <td>0</td>\n",
       "      <td>0</td>\n",
       "      <td>24.08</td>\n",
       "      <td>0.0</td>\n",
       "      <td>24.03</td>\n",
       "      <td>70.72</td>\n",
       "    </tr>\n",
       "    <tr>\n",
       "      <td>2</td>\n",
       "      <td>DT001</td>\n",
       "      <td>Mar</td>\n",
       "      <td>00:15:00</td>\n",
       "      <td>0</td>\n",
       "      <td>0</td>\n",
       "      <td>24.08</td>\n",
       "      <td>0.0</td>\n",
       "      <td>24.04</td>\n",
       "      <td>70.81</td>\n",
       "    </tr>\n",
       "    <tr>\n",
       "      <td>3</td>\n",
       "      <td>DT001</td>\n",
       "      <td>Mar</td>\n",
       "      <td>00:21:00</td>\n",
       "      <td>0</td>\n",
       "      <td>0</td>\n",
       "      <td>24.08</td>\n",
       "      <td>0.0</td>\n",
       "      <td>24.04</td>\n",
       "      <td>70.90</td>\n",
       "    </tr>\n",
       "    <tr>\n",
       "      <td>4</td>\n",
       "      <td>DT001</td>\n",
       "      <td>Mar</td>\n",
       "      <td>00:27:00</td>\n",
       "      <td>0</td>\n",
       "      <td>0</td>\n",
       "      <td>24.08</td>\n",
       "      <td>0.0</td>\n",
       "      <td>24.04</td>\n",
       "      <td>70.99</td>\n",
       "    </tr>\n",
       "  </tbody>\n",
       "</table>\n",
       "</div>"
      ],
      "text/plain": [
       "  Variation Month      Time  Heater  AC  DrybulbT  Radiation   AirT     RH\n",
       "0     DT001   Mar  00:03:00       0   0     24.08        0.0  24.03  70.64\n",
       "1     DT001   Mar  00:09:00       0   0     24.08        0.0  24.03  70.72\n",
       "2     DT001   Mar  00:15:00       0   0     24.08        0.0  24.04  70.81\n",
       "3     DT001   Mar  00:21:00       0   0     24.08        0.0  24.04  70.90\n",
       "4     DT001   Mar  00:27:00       0   0     24.08        0.0  24.04  70.99"
      ]
     },
     "execution_count": 50,
     "metadata": {},
     "output_type": "execute_result"
    }
   ],
   "source": [
    "# Menampilkan 5 data teratas\n",
    "data.head()"
   ]
  },
  {
   "cell_type": "code",
   "execution_count": 5,
   "metadata": {},
   "outputs": [
    {
     "data": {
      "text/html": [
       "<div>\n",
       "<style scoped>\n",
       "    .dataframe tbody tr th:only-of-type {\n",
       "        vertical-align: middle;\n",
       "    }\n",
       "\n",
       "    .dataframe tbody tr th {\n",
       "        vertical-align: top;\n",
       "    }\n",
       "\n",
       "    .dataframe thead th {\n",
       "        text-align: right;\n",
       "    }\n",
       "</style>\n",
       "<table border=\"1\" class=\"dataframe\">\n",
       "  <thead>\n",
       "    <tr style=\"text-align: right;\">\n",
       "      <th></th>\n",
       "      <th>No</th>\n",
       "      <th>Variation</th>\n",
       "      <th>Month</th>\n",
       "      <th>Time</th>\n",
       "      <th>Heater</th>\n",
       "      <th>AC</th>\n",
       "      <th>DrybulbT</th>\n",
       "      <th>Radiation</th>\n",
       "      <th>AirT</th>\n",
       "      <th>RH</th>\n",
       "    </tr>\n",
       "  </thead>\n",
       "  <tbody>\n",
       "    <tr>\n",
       "      <td>5995</td>\n",
       "      <td>5996</td>\n",
       "      <td>DT097</td>\n",
       "      <td>Mar</td>\n",
       "      <td>23:33:00</td>\n",
       "      <td>2</td>\n",
       "      <td>0</td>\n",
       "      <td>23.87</td>\n",
       "      <td>0.0</td>\n",
       "      <td>25.52</td>\n",
       "      <td>99.99</td>\n",
       "    </tr>\n",
       "    <tr>\n",
       "      <td>5996</td>\n",
       "      <td>5997</td>\n",
       "      <td>DT097</td>\n",
       "      <td>Mar</td>\n",
       "      <td>23:39:00</td>\n",
       "      <td>2</td>\n",
       "      <td>0</td>\n",
       "      <td>23.87</td>\n",
       "      <td>0.0</td>\n",
       "      <td>25.49</td>\n",
       "      <td>99.99</td>\n",
       "    </tr>\n",
       "    <tr>\n",
       "      <td>5997</td>\n",
       "      <td>5998</td>\n",
       "      <td>DT097</td>\n",
       "      <td>Mar</td>\n",
       "      <td>23:45:00</td>\n",
       "      <td>2</td>\n",
       "      <td>0</td>\n",
       "      <td>23.87</td>\n",
       "      <td>0.0</td>\n",
       "      <td>25.45</td>\n",
       "      <td>99.99</td>\n",
       "    </tr>\n",
       "    <tr>\n",
       "      <td>5998</td>\n",
       "      <td>5999</td>\n",
       "      <td>DT097</td>\n",
       "      <td>Mar</td>\n",
       "      <td>23:51:00</td>\n",
       "      <td>2</td>\n",
       "      <td>0</td>\n",
       "      <td>23.87</td>\n",
       "      <td>0.0</td>\n",
       "      <td>25.41</td>\n",
       "      <td>99.99</td>\n",
       "    </tr>\n",
       "    <tr>\n",
       "      <td>5999</td>\n",
       "      <td>6000</td>\n",
       "      <td>DT097</td>\n",
       "      <td>Mar</td>\n",
       "      <td>23:57:00</td>\n",
       "      <td>2</td>\n",
       "      <td>0</td>\n",
       "      <td>23.87</td>\n",
       "      <td>0.0</td>\n",
       "      <td>25.38</td>\n",
       "      <td>99.99</td>\n",
       "    </tr>\n",
       "  </tbody>\n",
       "</table>\n",
       "</div>"
      ],
      "text/plain": [
       "        No Variation Month      Time  Heater  AC  DrybulbT  Radiation   AirT  \\\n",
       "5995  5996     DT097   Mar  23:33:00       2   0     23.87        0.0  25.52   \n",
       "5996  5997     DT097   Mar  23:39:00       2   0     23.87        0.0  25.49   \n",
       "5997  5998     DT097   Mar  23:45:00       2   0     23.87        0.0  25.45   \n",
       "5998  5999     DT097   Mar  23:51:00       2   0     23.87        0.0  25.41   \n",
       "5999  6000     DT097   Mar  23:57:00       2   0     23.87        0.0  25.38   \n",
       "\n",
       "         RH  \n",
       "5995  99.99  \n",
       "5996  99.99  \n",
       "5997  99.99  \n",
       "5998  99.99  \n",
       "5999  99.99  "
      ]
     },
     "execution_count": 5,
     "metadata": {},
     "output_type": "execute_result"
    }
   ],
   "source": [
    "# Menampilkan 5 data terbawah\n",
    "data.tail()"
   ]
  },
  {
   "cell_type": "markdown",
   "metadata": {},
   "source": [
    "### 3. Memeriksa tipe data"
   ]
  },
  {
   "cell_type": "code",
   "execution_count": 6,
   "metadata": {},
   "outputs": [
    {
     "data": {
      "text/plain": [
       "No             int64\n",
       "Variation     object\n",
       "Month         object\n",
       "Time          object\n",
       "Heater         int64\n",
       "AC             int64\n",
       "DrybulbT     float64\n",
       "Radiation    float64\n",
       "AirT         float64\n",
       "RH           float64\n",
       "dtype: object"
      ]
     },
     "execution_count": 6,
     "metadata": {},
     "output_type": "execute_result"
    }
   ],
   "source": [
    "# Memeriksa tipe data\n",
    "data.dtypes"
   ]
  },
  {
   "cell_type": "markdown",
   "metadata": {},
   "source": [
    "### 4. Membuang (drop) kolom yang tidak relevan"
   ]
  },
  {
   "cell_type": "code",
   "execution_count": 7,
   "metadata": {},
   "outputs": [],
   "source": [
    "# Menghilangkan kolom yang tidak relevan\n",
    "data = data.drop(['No'], axis=1)"
   ]
  },
  {
   "cell_type": "markdown",
   "metadata": {},
   "source": [
    "### 5. Mengganti nama kolom"
   ]
  },
  {
   "cell_type": "code",
   "execution_count": 8,
   "metadata": {},
   "outputs": [],
   "source": [
    "# # Mengganti nama kolom\n",
    "# data = data.rename(columns={'No': 'Nomor', 'Heater': 'Pemanas'})"
   ]
  },
  {
   "cell_type": "markdown",
   "metadata": {},
   "source": [
    "### 6. Membuang (drop)  baris duplikat"
   ]
  },
  {
   "cell_type": "code",
   "execution_count": 9,
   "metadata": {},
   "outputs": [
    {
     "data": {
      "text/plain": [
       "(6000, 9)"
      ]
     },
     "execution_count": 9,
     "metadata": {},
     "output_type": "execute_result"
    }
   ],
   "source": [
    "# Total number of rows and columns\n",
    "data.shape"
   ]
  },
  {
   "cell_type": "code",
   "execution_count": 10,
   "metadata": {},
   "outputs": [
    {
     "name": "stdout",
     "output_type": "stream",
     "text": [
      "number of duplicate rows:  (0, 9)\n"
     ]
    }
   ],
   "source": [
    "# Baris-baris yang mengandung data duplikat\n",
    "duplicate_rows_data = data[data.duplicated()]\n",
    "print('number of duplicate rows: ', duplicate_rows_data.shape)"
   ]
  },
  {
   "cell_type": "code",
   "execution_count": 11,
   "metadata": {},
   "outputs": [
    {
     "data": {
      "text/plain": [
       "Variation    6000\n",
       "Month        6000\n",
       "Time         6000\n",
       "Heater       6000\n",
       "AC           6000\n",
       "DrybulbT     6000\n",
       "Radiation    6000\n",
       "AirT         6000\n",
       "RH           6000\n",
       "dtype: int64"
      ]
     },
     "execution_count": 11,
     "metadata": {},
     "output_type": "execute_result"
    }
   ],
   "source": [
    "# Biasakan menghitung jumlah baris sebelumnya menghapus datanya\n",
    "data.count() "
   ]
  },
  {
   "cell_type": "code",
   "execution_count": 12,
   "metadata": {},
   "outputs": [],
   "source": [
    "# # Membuang (drop) data duplikat \n",
    "# data = df.drop_duplicates()"
   ]
  },
  {
   "cell_type": "markdown",
   "metadata": {},
   "source": [
    "### 7. Membuang (drop) nilai-nilai yang hilang atau null."
   ]
  },
  {
   "cell_type": "code",
   "execution_count": 13,
   "metadata": {},
   "outputs": [
    {
     "name": "stdout",
     "output_type": "stream",
     "text": [
      "Variation    0\n",
      "Month        0\n",
      "Time         0\n",
      "Heater       0\n",
      "AC           0\n",
      "DrybulbT     0\n",
      "Radiation    0\n",
      "AirT         0\n",
      "RH           0\n",
      "dtype: int64\n"
     ]
    }
   ],
   "source": [
    "# Mencari nilai-nilai kosong (null)\n",
    "print(data.isnull().sum())"
   ]
  },
  {
   "cell_type": "code",
   "execution_count": 14,
   "metadata": {},
   "outputs": [],
   "source": [
    "# # Membuang nilai-nilai yang hilang.\n",
    "# df = df.dropna() "
   ]
  },
  {
   "cell_type": "markdown",
   "metadata": {},
   "source": [
    "### 8. Mendeteksi Outliers"
   ]
  },
  {
   "cell_type": "code",
   "execution_count": 15,
   "metadata": {},
   "outputs": [
    {
     "data": {
      "text/plain": [
       "<matplotlib.axes._subplots.AxesSubplot at 0x7f8d2475b990>"
      ]
     },
     "execution_count": 15,
     "metadata": {},
     "output_type": "execute_result"
    },
    {
     "data": {
      "image/png": "[encoded data removed]",
      "text/plain": [
       "<Figure size 432x288 with 1 Axes>"
      ]
     },
     "metadata": {
      "needs_background": "light"
     },
     "output_type": "display_data"
    }
   ],
   "source": [
    "sns.boxplot(x=data['AirT'])"
   ]
  },
  {
   "cell_type": "code",
   "execution_count": 16,
   "metadata": {},
   "outputs": [
    {
     "data": {
      "text/plain": [
       "<matplotlib.axes._subplots.AxesSubplot at 0x7f8d24945250>"
      ]
     },
     "execution_count": 16,
     "metadata": {},
     "output_type": "execute_result"
    },
    {
     "data": {
      "image/png": "[encoded data removed]",
      "text/plain": [
       "<Figure size 432x288 with 1 Axes>"
      ]
     },
     "metadata": {
      "needs_background": "light"
     },
     "output_type": "display_data"
    }
   ],
   "source": [
    "sns.boxplot(x=data['RH'])"
   ]
  },
  {
   "cell_type": "code",
   "execution_count": 17,
   "metadata": {},
   "outputs": [
    {
     "data": {
      "text/html": [
       "<div>\n",
       "<style scoped>\n",
       "    .dataframe tbody tr th:only-of-type {\n",
       "        vertical-align: middle;\n",
       "    }\n",
       "\n",
       "    .dataframe tbody tr th {\n",
       "        vertical-align: top;\n",
       "    }\n",
       "\n",
       "    .dataframe thead th {\n",
       "        text-align: right;\n",
       "    }\n",
       "</style>\n",
       "<table border=\"1\" class=\"dataframe\">\n",
       "  <thead>\n",
       "    <tr style=\"text-align: right;\">\n",
       "      <th></th>\n",
       "      <th>Heater</th>\n",
       "      <th>AC</th>\n",
       "      <th>DrybulbT</th>\n",
       "      <th>Radiation</th>\n",
       "      <th>AirT</th>\n",
       "      <th>RH</th>\n",
       "    </tr>\n",
       "  </thead>\n",
       "  <tbody>\n",
       "    <tr>\n",
       "      <td>count</td>\n",
       "      <td>6000.000000</td>\n",
       "      <td>6000.000000</td>\n",
       "      <td>6000.000000</td>\n",
       "      <td>6000.000000</td>\n",
       "      <td>6000.000000</td>\n",
       "      <td>6000.000000</td>\n",
       "    </tr>\n",
       "    <tr>\n",
       "      <td>mean</td>\n",
       "      <td>0.600000</td>\n",
       "      <td>9.375000</td>\n",
       "      <td>25.211667</td>\n",
       "      <td>104.668917</td>\n",
       "      <td>24.568788</td>\n",
       "      <td>94.383172</td>\n",
       "    </tr>\n",
       "    <tr>\n",
       "      <td>std</td>\n",
       "      <td>0.800067</td>\n",
       "      <td>12.379819</td>\n",
       "      <td>1.464896</td>\n",
       "      <td>172.175583</td>\n",
       "      <td>2.428443</td>\n",
       "      <td>7.556413</td>\n",
       "    </tr>\n",
       "    <tr>\n",
       "      <td>min</td>\n",
       "      <td>0.000000</td>\n",
       "      <td>0.000000</td>\n",
       "      <td>22.920000</td>\n",
       "      <td>0.000000</td>\n",
       "      <td>16.000000</td>\n",
       "      <td>70.030000</td>\n",
       "    </tr>\n",
       "    <tr>\n",
       "      <td>25%</td>\n",
       "      <td>0.000000</td>\n",
       "      <td>0.000000</td>\n",
       "      <td>23.952500</td>\n",
       "      <td>0.000000</td>\n",
       "      <td>24.010000</td>\n",
       "      <td>90.887500</td>\n",
       "    </tr>\n",
       "    <tr>\n",
       "      <td>50%</td>\n",
       "      <td>0.000000</td>\n",
       "      <td>0.000000</td>\n",
       "      <td>25.050000</td>\n",
       "      <td>0.000000</td>\n",
       "      <td>24.755000</td>\n",
       "      <td>98.430000</td>\n",
       "    </tr>\n",
       "    <tr>\n",
       "      <td>75%</td>\n",
       "      <td>1.000000</td>\n",
       "      <td>24.000000</td>\n",
       "      <td>26.667500</td>\n",
       "      <td>140.000000</td>\n",
       "      <td>26.000000</td>\n",
       "      <td>99.990000</td>\n",
       "    </tr>\n",
       "    <tr>\n",
       "      <td>max</td>\n",
       "      <td>2.000000</td>\n",
       "      <td>30.000000</td>\n",
       "      <td>27.300000</td>\n",
       "      <td>660.271000</td>\n",
       "      <td>30.020000</td>\n",
       "      <td>100.000000</td>\n",
       "    </tr>\n",
       "  </tbody>\n",
       "</table>\n",
       "</div>"
      ],
      "text/plain": [
       "            Heater           AC     DrybulbT    Radiation         AirT  \\\n",
       "count  6000.000000  6000.000000  6000.000000  6000.000000  6000.000000   \n",
       "mean      0.600000     9.375000    25.211667   104.668917    24.568788   \n",
       "std       0.800067    12.379819     1.464896   172.175583     2.428443   \n",
       "min       0.000000     0.000000    22.920000     0.000000    16.000000   \n",
       "25%       0.000000     0.000000    23.952500     0.000000    24.010000   \n",
       "50%       0.000000     0.000000    25.050000     0.000000    24.755000   \n",
       "75%       1.000000    24.000000    26.667500   140.000000    26.000000   \n",
       "max       2.000000    30.000000    27.300000   660.271000    30.020000   \n",
       "\n",
       "                RH  \n",
       "count  6000.000000  \n",
       "mean     94.383172  \n",
       "std       7.556413  \n",
       "min      70.030000  \n",
       "25%      90.887500  \n",
       "50%      98.430000  \n",
       "75%      99.990000  \n",
       "max     100.000000  "
      ]
     },
     "execution_count": 17,
     "metadata": {},
     "output_type": "execute_result"
    }
   ],
   "source": [
    "data.describe()"
   ]
  },
  {
   "cell_type": "code",
   "execution_count": 18,
   "metadata": {},
   "outputs": [
    {
     "name": "stdout",
     "output_type": "stream",
     "text": [
      "Heater         1.0000\n",
      "AC            24.0000\n",
      "DrybulbT       2.7150\n",
      "Radiation    140.0000\n",
      "AirT           1.9900\n",
      "RH             9.1025\n",
      "dtype: float64\n"
     ]
    }
   ],
   "source": [
    "# Menentukan nilai IQR\n",
    "Q1 = data.quantile(0.25)\n",
    "Q3 = data.quantile(0.75)\n",
    "IQR = Q3 - Q1\n",
    "print(IQR)"
   ]
  },
  {
   "cell_type": "code",
   "execution_count": 19,
   "metadata": {},
   "outputs": [],
   "source": [
    "# # Membuang Outliers\n",
    "# data = data[~((data < (Q1 - 1.5 * IQR)) |(data > (Q3 + 1.5 * IQR))).any(axis=1)]\n",
    "# data.shape"
   ]
  },
  {
   "cell_type": "code",
   "execution_count": 20,
   "metadata": {},
   "outputs": [
    {
     "data": {
      "text/html": [
       "<div>\n",
       "<style scoped>\n",
       "    .dataframe tbody tr th:only-of-type {\n",
       "        vertical-align: middle;\n",
       "    }\n",
       "\n",
       "    .dataframe tbody tr th {\n",
       "        vertical-align: top;\n",
       "    }\n",
       "\n",
       "    .dataframe thead th {\n",
       "        text-align: right;\n",
       "    }\n",
       "</style>\n",
       "<table border=\"1\" class=\"dataframe\">\n",
       "  <thead>\n",
       "    <tr style=\"text-align: right;\">\n",
       "      <th></th>\n",
       "      <th>Heater</th>\n",
       "      <th>AC</th>\n",
       "      <th>DrybulbT</th>\n",
       "      <th>Radiation</th>\n",
       "      <th>AirT</th>\n",
       "      <th>RH</th>\n",
       "    </tr>\n",
       "  </thead>\n",
       "  <tbody>\n",
       "    <tr>\n",
       "      <td>count</td>\n",
       "      <td>6000.000000</td>\n",
       "      <td>6000.000000</td>\n",
       "      <td>6000.000000</td>\n",
       "      <td>6000.000000</td>\n",
       "      <td>6000.000000</td>\n",
       "      <td>6000.000000</td>\n",
       "    </tr>\n",
       "    <tr>\n",
       "      <td>mean</td>\n",
       "      <td>0.600000</td>\n",
       "      <td>9.375000</td>\n",
       "      <td>25.211667</td>\n",
       "      <td>104.668917</td>\n",
       "      <td>24.568788</td>\n",
       "      <td>94.383172</td>\n",
       "    </tr>\n",
       "    <tr>\n",
       "      <td>std</td>\n",
       "      <td>0.800067</td>\n",
       "      <td>12.379819</td>\n",
       "      <td>1.464896</td>\n",
       "      <td>172.175583</td>\n",
       "      <td>2.428443</td>\n",
       "      <td>7.556413</td>\n",
       "    </tr>\n",
       "    <tr>\n",
       "      <td>min</td>\n",
       "      <td>0.000000</td>\n",
       "      <td>0.000000</td>\n",
       "      <td>22.920000</td>\n",
       "      <td>0.000000</td>\n",
       "      <td>16.000000</td>\n",
       "      <td>70.030000</td>\n",
       "    </tr>\n",
       "    <tr>\n",
       "      <td>25%</td>\n",
       "      <td>0.000000</td>\n",
       "      <td>0.000000</td>\n",
       "      <td>23.952500</td>\n",
       "      <td>0.000000</td>\n",
       "      <td>24.010000</td>\n",
       "      <td>90.887500</td>\n",
       "    </tr>\n",
       "    <tr>\n",
       "      <td>50%</td>\n",
       "      <td>0.000000</td>\n",
       "      <td>0.000000</td>\n",
       "      <td>25.050000</td>\n",
       "      <td>0.000000</td>\n",
       "      <td>24.755000</td>\n",
       "      <td>98.430000</td>\n",
       "    </tr>\n",
       "    <tr>\n",
       "      <td>75%</td>\n",
       "      <td>1.000000</td>\n",
       "      <td>24.000000</td>\n",
       "      <td>26.667500</td>\n",
       "      <td>140.000000</td>\n",
       "      <td>26.000000</td>\n",
       "      <td>99.990000</td>\n",
       "    </tr>\n",
       "    <tr>\n",
       "      <td>max</td>\n",
       "      <td>2.000000</td>\n",
       "      <td>30.000000</td>\n",
       "      <td>27.300000</td>\n",
       "      <td>660.271000</td>\n",
       "      <td>30.020000</td>\n",
       "      <td>100.000000</td>\n",
       "    </tr>\n",
       "  </tbody>\n",
       "</table>\n",
       "</div>"
      ],
      "text/plain": [
       "            Heater           AC     DrybulbT    Radiation         AirT  \\\n",
       "count  6000.000000  6000.000000  6000.000000  6000.000000  6000.000000   \n",
       "mean      0.600000     9.375000    25.211667   104.668917    24.568788   \n",
       "std       0.800067    12.379819     1.464896   172.175583     2.428443   \n",
       "min       0.000000     0.000000    22.920000     0.000000    16.000000   \n",
       "25%       0.000000     0.000000    23.952500     0.000000    24.010000   \n",
       "50%       0.000000     0.000000    25.050000     0.000000    24.755000   \n",
       "75%       1.000000    24.000000    26.667500   140.000000    26.000000   \n",
       "max       2.000000    30.000000    27.300000   660.271000    30.020000   \n",
       "\n",
       "                RH  \n",
       "count  6000.000000  \n",
       "mean     94.383172  \n",
       "std       7.556413  \n",
       "min      70.030000  \n",
       "25%      90.887500  \n",
       "50%      98.430000  \n",
       "75%      99.990000  \n",
       "max     100.000000  "
      ]
     },
     "execution_count": 20,
     "metadata": {},
     "output_type": "execute_result"
    }
   ],
   "source": [
    "data.describe()"
   ]
  },
  {
   "cell_type": "code",
   "execution_count": 21,
   "metadata": {},
   "outputs": [],
   "source": [
    "# # Membuang AC bernilai 0\n",
    "# data = data[data.AC != 0]"
   ]
  },
  {
   "cell_type": "code",
   "execution_count": 42,
   "metadata": {},
   "outputs": [
    {
     "data": {
      "text/html": [
       "<div>\n",
       "<style scoped>\n",
       "    .dataframe tbody tr th:only-of-type {\n",
       "        vertical-align: middle;\n",
       "    }\n",
       "\n",
       "    .dataframe tbody tr th {\n",
       "        vertical-align: top;\n",
       "    }\n",
       "\n",
       "    .dataframe thead th {\n",
       "        text-align: right;\n",
       "    }\n",
       "</style>\n",
       "<table border=\"1\" class=\"dataframe\">\n",
       "  <thead>\n",
       "    <tr style=\"text-align: right;\">\n",
       "      <th></th>\n",
       "      <th>Heater</th>\n",
       "      <th>AC</th>\n",
       "      <th>DrybulbT</th>\n",
       "      <th>Radiation</th>\n",
       "      <th>AirT</th>\n",
       "      <th>RH</th>\n",
       "    </tr>\n",
       "  </thead>\n",
       "  <tbody>\n",
       "    <tr>\n",
       "      <td>count</td>\n",
       "      <td>6000.000000</td>\n",
       "      <td>6000.000000</td>\n",
       "      <td>6000.000000</td>\n",
       "      <td>6000.000000</td>\n",
       "      <td>6000.000000</td>\n",
       "      <td>6000.000000</td>\n",
       "    </tr>\n",
       "    <tr>\n",
       "      <td>mean</td>\n",
       "      <td>0.600000</td>\n",
       "      <td>9.375000</td>\n",
       "      <td>25.211667</td>\n",
       "      <td>104.668917</td>\n",
       "      <td>24.568788</td>\n",
       "      <td>94.383172</td>\n",
       "    </tr>\n",
       "    <tr>\n",
       "      <td>std</td>\n",
       "      <td>0.800067</td>\n",
       "      <td>12.379819</td>\n",
       "      <td>1.464896</td>\n",
       "      <td>172.175583</td>\n",
       "      <td>2.428443</td>\n",
       "      <td>7.556413</td>\n",
       "    </tr>\n",
       "    <tr>\n",
       "      <td>min</td>\n",
       "      <td>0.000000</td>\n",
       "      <td>0.000000</td>\n",
       "      <td>22.920000</td>\n",
       "      <td>0.000000</td>\n",
       "      <td>16.000000</td>\n",
       "      <td>70.030000</td>\n",
       "    </tr>\n",
       "    <tr>\n",
       "      <td>25%</td>\n",
       "      <td>0.000000</td>\n",
       "      <td>0.000000</td>\n",
       "      <td>23.952500</td>\n",
       "      <td>0.000000</td>\n",
       "      <td>24.010000</td>\n",
       "      <td>90.887500</td>\n",
       "    </tr>\n",
       "    <tr>\n",
       "      <td>50%</td>\n",
       "      <td>0.000000</td>\n",
       "      <td>0.000000</td>\n",
       "      <td>25.050000</td>\n",
       "      <td>0.000000</td>\n",
       "      <td>24.755000</td>\n",
       "      <td>98.430000</td>\n",
       "    </tr>\n",
       "    <tr>\n",
       "      <td>75%</td>\n",
       "      <td>1.000000</td>\n",
       "      <td>24.000000</td>\n",
       "      <td>26.667500</td>\n",
       "      <td>140.000000</td>\n",
       "      <td>26.000000</td>\n",
       "      <td>99.990000</td>\n",
       "    </tr>\n",
       "    <tr>\n",
       "      <td>max</td>\n",
       "      <td>2.000000</td>\n",
       "      <td>30.000000</td>\n",
       "      <td>27.300000</td>\n",
       "      <td>660.271000</td>\n",
       "      <td>30.020000</td>\n",
       "      <td>100.000000</td>\n",
       "    </tr>\n",
       "  </tbody>\n",
       "</table>\n",
       "</div>"
      ],
      "text/plain": [
       "            Heater           AC     DrybulbT    Radiation         AirT  \\\n",
       "count  6000.000000  6000.000000  6000.000000  6000.000000  6000.000000   \n",
       "mean      0.600000     9.375000    25.211667   104.668917    24.568788   \n",
       "std       0.800067    12.379819     1.464896   172.175583     2.428443   \n",
       "min       0.000000     0.000000    22.920000     0.000000    16.000000   \n",
       "25%       0.000000     0.000000    23.952500     0.000000    24.010000   \n",
       "50%       0.000000     0.000000    25.050000     0.000000    24.755000   \n",
       "75%       1.000000    24.000000    26.667500   140.000000    26.000000   \n",
       "max       2.000000    30.000000    27.300000   660.271000    30.020000   \n",
       "\n",
       "                RH  \n",
       "count  6000.000000  \n",
       "mean     94.383172  \n",
       "std       7.556413  \n",
       "min      70.030000  \n",
       "25%      90.887500  \n",
       "50%      98.430000  \n",
       "75%      99.990000  \n",
       "max     100.000000  "
      ]
     },
     "execution_count": 42,
     "metadata": {},
     "output_type": "execute_result"
    }
   ],
   "source": [
    "data.describe()"
   ]
  },
  {
   "cell_type": "markdown",
   "metadata": {},
   "source": [
    "### 9. Plot berbagai fitur terhadap satu sama lain (scatter), terhadap frekuensi (histogram)"
   ]
  },
  {
   "cell_type": "code",
   "execution_count": 52,
   "metadata": {},
   "outputs": [
    {
     "data": {
      "image/png": "[encoded data removed]",
      "text/plain": [
       "<Figure size 720x360 with 1 Axes>"
      ]
     },
     "metadata": {},
     "output_type": "display_data"
    }
   ],
   "source": [
    "# Menggambar Histogram\n",
    "data.Heater.value_counts().nlargest(40).plot(kind='bar', figsize=(10,5))\n",
    "plt.title(\"Number of data by Heater\")\n",
    "plt.ylabel('Number of data')\n",
    "plt.xlabel('Heater Status');"
   ]
  },
  {
   "cell_type": "code",
   "execution_count": 24,
   "metadata": {},
   "outputs": [
    {
     "data": {
      "text/html": [
       "<div>\n",
       "<style scoped>\n",
       "    .dataframe tbody tr th:only-of-type {\n",
       "        vertical-align: middle;\n",
       "    }\n",
       "\n",
       "    .dataframe tbody tr th {\n",
       "        vertical-align: top;\n",
       "    }\n",
       "\n",
       "    .dataframe thead th {\n",
       "        text-align: right;\n",
       "    }\n",
       "</style>\n",
       "<table border=\"1\" class=\"dataframe\">\n",
       "  <thead>\n",
       "    <tr style=\"text-align: right;\">\n",
       "      <th></th>\n",
       "      <th>Heater</th>\n",
       "      <th>AC</th>\n",
       "      <th>DrybulbT</th>\n",
       "      <th>Radiation</th>\n",
       "      <th>AirT</th>\n",
       "      <th>RH</th>\n",
       "    </tr>\n",
       "  </thead>\n",
       "  <tbody>\n",
       "    <tr>\n",
       "      <td>Heater</td>\n",
       "      <td>1.000000e+00</td>\n",
       "      <td>0.068161</td>\n",
       "      <td>-3.890169e-16</td>\n",
       "      <td>-6.417786e-17</td>\n",
       "      <td>0.424199</td>\n",
       "      <td>0.160482</td>\n",
       "    </tr>\n",
       "    <tr>\n",
       "      <td>AC</td>\n",
       "      <td>6.816096e-02</td>\n",
       "      <td>1.000000</td>\n",
       "      <td>7.965257e-01</td>\n",
       "      <td>7.170598e-01</td>\n",
       "      <td>0.035199</td>\n",
       "      <td>0.018268</td>\n",
       "    </tr>\n",
       "    <tr>\n",
       "      <td>DrybulbT</td>\n",
       "      <td>-3.890169e-16</td>\n",
       "      <td>0.796526</td>\n",
       "      <td>1.000000e+00</td>\n",
       "      <td>7.458764e-01</td>\n",
       "      <td>-0.013514</td>\n",
       "      <td>-0.030092</td>\n",
       "    </tr>\n",
       "    <tr>\n",
       "      <td>Radiation</td>\n",
       "      <td>-6.417786e-17</td>\n",
       "      <td>0.717060</td>\n",
       "      <td>7.458764e-01</td>\n",
       "      <td>1.000000e+00</td>\n",
       "      <td>-0.045091</td>\n",
       "      <td>0.020367</td>\n",
       "    </tr>\n",
       "    <tr>\n",
       "      <td>AirT</td>\n",
       "      <td>4.241988e-01</td>\n",
       "      <td>0.035199</td>\n",
       "      <td>-1.351409e-02</td>\n",
       "      <td>-4.509091e-02</td>\n",
       "      <td>1.000000</td>\n",
       "      <td>-0.164656</td>\n",
       "    </tr>\n",
       "    <tr>\n",
       "      <td>RH</td>\n",
       "      <td>1.604820e-01</td>\n",
       "      <td>0.018268</td>\n",
       "      <td>-3.009160e-02</td>\n",
       "      <td>2.036692e-02</td>\n",
       "      <td>-0.164656</td>\n",
       "      <td>1.000000</td>\n",
       "    </tr>\n",
       "  </tbody>\n",
       "</table>\n",
       "</div>"
      ],
      "text/plain": [
       "                 Heater        AC      DrybulbT     Radiation      AirT  \\\n",
       "Heater     1.000000e+00  0.068161 -3.890169e-16 -6.417786e-17  0.424199   \n",
       "AC         6.816096e-02  1.000000  7.965257e-01  7.170598e-01  0.035199   \n",
       "DrybulbT  -3.890169e-16  0.796526  1.000000e+00  7.458764e-01 -0.013514   \n",
       "Radiation -6.417786e-17  0.717060  7.458764e-01  1.000000e+00 -0.045091   \n",
       "AirT       4.241988e-01  0.035199 -1.351409e-02 -4.509091e-02  1.000000   \n",
       "RH         1.604820e-01  0.018268 -3.009160e-02  2.036692e-02 -0.164656   \n",
       "\n",
       "                 RH  \n",
       "Heater     0.160482  \n",
       "AC         0.018268  \n",
       "DrybulbT  -0.030092  \n",
       "Radiation  0.020367  \n",
       "AirT      -0.164656  \n",
       "RH         1.000000  "
      ]
     },
     "execution_count": 24,
     "metadata": {},
     "output_type": "execute_result"
    }
   ],
   "source": [
    "# Mencari relasi anatara variabel-variabel.\n",
    "c = pd.DataFrame(data.corr())\n",
    "c"
   ]
  },
  {
   "cell_type": "code",
   "execution_count": 25,
   "metadata": {},
   "outputs": [
    {
     "data": {
      "image/png": "[encoded data removed]",
      "text/plain": [
       "<Figure size 864x504 with 2 Axes>"
      ]
     },
     "metadata": {},
     "output_type": "display_data"
    }
   ],
   "source": [
    "# Heatmaps\n",
    "sns.set_style('white')\n",
    "sns.set_context(\"paper\", font_scale=1.7) \n",
    "plt.figure(figsize=(12,7))\n",
    "sns.heatmap(data.corr(),cmap=\"BrBG\",annot=True, linewidths=0.1)\n",
    "plt.tight_layout()"
   ]
  },
  {
   "cell_type": "code",
   "execution_count": 26,
   "metadata": {},
   "outputs": [
    {
     "data": {
      "image/png": "[encoded data removed]",
      "text/plain": [
       "<Figure size 720x432 with 1 Axes>"
      ]
     },
     "metadata": {},
     "output_type": "display_data"
    }
   ],
   "source": [
    "# Menggambar scatter plot\n",
    "fig, ax = plt.subplots(figsize=(10,6))\n",
    "ax.scatter(data['DrybulbT'], data['AirT'])\n",
    "ax.set_xlabel('DrybulbT')\n",
    "ax.set_ylabel('AirT')\n",
    "plt.show()"
   ]
  },
  {
   "cell_type": "markdown",
   "metadata": {},
   "source": [
    "## Uji Distribusi dan Normalitas"
   ]
  },
  {
   "cell_type": "code",
   "execution_count": 27,
   "metadata": {},
   "outputs": [
    {
     "name": "stdout",
     "output_type": "stream",
     "text": [
      "count    6000.000000\n",
      "mean       24.568788\n",
      "std         2.428443\n",
      "min        16.000000\n",
      "25%        24.010000\n",
      "50%        24.755000\n",
      "75%        26.000000\n",
      "max        30.020000\n",
      "Name: AirT, dtype: float64\n",
      "Kurtosis of normal distribution (should be 0): 2.8584329517360185\n",
      "Skewness of normal distribution (should be 0): -1.4489992787837256\n"
     ]
    },
    {
     "data": {
      "image/png": "[encoded data removed]",
      "text/plain": [
       "<Figure size 432x288 with 1 Axes>"
      ]
     },
     "metadata": {},
     "output_type": "display_data"
    }
   ],
   "source": [
    "print(data.AirT.describe())\n",
    "\n",
    "sns.distplot(data.AirT);\n",
    "\n",
    "stats.normaltest(data.AirT)\n",
    "#This function tests the null hypothesis that a sample comes from a normal distribution. \n",
    "# It is based on D'Agostino and Pearson's test that combines skew and kurtosis to produce\n",
    "# an omnibus test of normality.\n",
    "print( 'Kurtosis of normal distribution (should be 0): {}'.format(stats.kurtosis(data.AirT)))\n",
    "print( 'Skewness of normal distribution (should be 0): {}'.format(stats.skew(data.AirT)))"
   ]
  },
  {
   "cell_type": "markdown",
   "metadata": {},
   "source": [
    "KURTOSIS: menggambarkan bobot ekor suatu distribusi\n",
    "\n",
    "Distribusi Normal memiliki kurtosis 0 (mesokurtik) <br/>\n",
    "Nilai positif memberi tahu Anda bahwa Anda memiliki ekor yang berat (mis. Banyak data di ekor Anda). <br/>\n",
    "Nilai negatif berarti Anda memiliki ekor ringan (mis. Sedikit data di ekor Anda). <br/>\n",
    "\n",
    "SKEWNESS:\n",
    "\n",
    "Jika kemiringan kurang dari -1 atau lebih besar dari 1, distribusinya sangat miring. <br/>\n",
    "Jika kemiringan antara -1 dan -0,5 atau antara 0,5 dan 1, distribusinya cukup miring. <br/>\n",
    "Jika kemiringan antara -0,5 dan 0,5, distribusinya kira-kira simetris. <br/>"
   ]
  },
  {
   "cell_type": "code",
   "execution_count": 28,
   "metadata": {},
   "outputs": [
    {
     "name": "stdout",
     "output_type": "stream",
     "text": [
      "count    6000.000000\n",
      "mean       94.383172\n",
      "std         7.556413\n",
      "min        70.030000\n",
      "25%        90.887500\n",
      "50%        98.430000\n",
      "75%        99.990000\n",
      "max       100.000000\n",
      "Name: RH, dtype: float64\n",
      "Kurtosis of normal distribution (should be 0): 0.9614800141572322\n",
      "Skewness of normal distribution (should be 0): -1.3795649565409775\n"
     ]
    },
    {
     "data": {
      "image/png": "[encoded data removed]",
      "text/plain": [
       "<Figure size 432x288 with 1 Axes>"
      ]
     },
     "metadata": {},
     "output_type": "display_data"
    }
   ],
   "source": [
    "print(data.RH.describe())\n",
    "\n",
    "sns.distplot(data.RH);\n",
    "\n",
    "stats.normaltest(data.RH)\n",
    "#This function tests the null hypothesis that a sample comes from a normal distribution. \n",
    "# It is based on D'Agostino and Pearson's test that combines skew and kurtosis to produce\n",
    "# an omnibus test of normality.\n",
    "print( 'Kurtosis of normal distribution (should be 0): {}'.format(stats.kurtosis(data.RH)))\n",
    "print( 'Skewness of normal distribution (should be 0): {}'.format(stats.skew(data.RH)))"
   ]
  },
  {
   "cell_type": "code",
   "execution_count": 29,
   "metadata": {},
   "outputs": [
    {
     "name": "stdout",
     "output_type": "stream",
     "text": [
      "count    6000.000000\n",
      "mean        9.375000\n",
      "std        12.379819\n",
      "min         0.000000\n",
      "25%         0.000000\n",
      "50%         0.000000\n",
      "75%        24.000000\n",
      "max        30.000000\n",
      "Name: AC, dtype: float64\n",
      "Kurtosis of normal distribution (should be 0): -1.4636009520297257\n",
      "Skewness of normal distribution (should be 0): 0.6387853179108071\n"
     ]
    },
    {
     "data": {
      "image/png": "[encoded data removed]",
      "text/plain": [
       "<Figure size 432x288 with 1 Axes>"
      ]
     },
     "metadata": {},
     "output_type": "display_data"
    }
   ],
   "source": [
    "print(data.AC.describe())\n",
    "\n",
    "sns.distplot(data.AC);\n",
    "\n",
    "stats.normaltest(data.AC)\n",
    "#This function tests the null hypothesis that a sample comes from a normal distribution. \n",
    "# It is based on D'Agostino and Pearson's test that combines skew and kurtosis to produce\n",
    "# an omnibus test of normality.\n",
    "print( 'Kurtosis of normal distribution (should be 0): {}'.format(stats.kurtosis(data.AC)))\n",
    "print( 'Skewness of normal distribution (should be 0): {}'.format(stats.skew(data.AC)))"
   ]
  },
  {
   "cell_type": "code",
   "execution_count": null,
   "metadata": {},
   "outputs": [],
   "source": []
  }
 ],
 "metadata": {
  "kernelspec": {
   "display_name": "Python 3",
   "language": "python",
   "name": "python3"
  },
  "language_info": {
   "codemirror_mode": {
    "name": "ipython",
    "version": 3
   },
   "file_extension": ".py",
   "mimetype": "text/x-python",
   "name": "python",
   "nbconvert_exporter": "python",
   "pygments_lexer": "ipython3",
   "version": "3.7.4"
  }
 },
 "nbformat": 4,
 "nbformat_minor": 2
}
